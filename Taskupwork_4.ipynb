{
  "nbformat": 4,
  "nbformat_minor": 0,
  "metadata": {
    "colab": {
      "provenance": [],
      "authorship_tag": "ABX9TyOY18rmSeKNTMZMumwYWSYK",
      "include_colab_link": true
    },
    "kernelspec": {
      "name": "python3",
      "display_name": "Python 3"
    },
    "language_info": {
      "name": "python"
    }
  },
  "cells": [
    {
      "cell_type": "markdown",
      "metadata": {
        "id": "view-in-github",
        "colab_type": "text"
      },
      "source": [
        "<a href=\"https://colab.research.google.com/github/AdheFirmansyah/DataScience/blob/main/Taskupwork_4.ipynb\" target=\"_parent\"><img src=\"https://colab.research.google.com/assets/colab-badge.svg\" alt=\"Open In Colab\"/></a>"
      ]
    },
    {
      "cell_type": "code",
      "source": [
        "cart = { \"name\":\"X\", \"mean\":456, \"split_by_feature\": \"aes\", \"error_of_split\": 0.0,\n",
        "        \"successor_left\": { \"name\":\"XL\", \"mean\":1234, \"split_by_feature\": None, \"error_of_split\":None,\n",
        "                           \"successor_left\":None,\n",
        "                           \"successor_right\":None\n",
        "                          },\n",
        "        \"successor_right\":{ \"name\":\"XR\", \"mean\":258, \"split_by_feature\": None,\"error_of_split\":None,\n",
        "                           \"successor_left\":None,\n",
        "                           \"successor_right\":None\n",
        "                          }\n",
        "       }"
      ],
      "metadata": {
        "id": "dhB-NuNecBqo"
      },
      "execution_count": 1,
      "outputs": []
    },
    {
      "cell_type": "code",
      "execution_count": 2,
      "metadata": {
        "id": "S8xZI-Irb6-o"
      },
      "outputs": [],
      "source": [
        "features = [\"secompress\", \"encryption\", \"aes\", \"blowfish\", \"algorithm\", \"rar\", \"zip\", \"signature\",\n",
        "            \"timestamp\", \"segmentation\", \"onehundredmb\", \"onegb\"]"
      ]
    },
    {
      "cell_type": "markdown",
      "source": [
        "# TASK 1 : Create CART"
      ],
      "metadata": {
        "id": "nIcTWtweFuDT"
      }
    },
    {
      "cell_type": "code",
      "source": [
        "import pandas as pd"
      ],
      "metadata": {
        "id": "Fzrc38CAFzL3"
      },
      "execution_count": 3,
      "outputs": []
    },
    {
      "cell_type": "code",
      "source": [
        "def get_cart(sample_set_csv):\n",
        "    df = pd.read_csv(sample_set_csv)\n",
        "    features = [\"secompress\", \"encryption\", \"aes\", \"blowfish\", \"algorithm\", \"rar\", \"zip\", \"signature\",\n",
        "                \"timestamp\", \"segmentation\", \"onehundredmb\", \"onegb\"]\n",
        "    target = \"mean\"\n",
        "\n",
        "    # Membuat pohon dengan kriteria pemisahan \"mean\"\n",
        "    def create_tree(df, features, target):\n",
        "        # Menentukan node saat ini\n",
        "        current_node = {\"name\": None, \"mean\": None, \"split_by_feature\": None, \"error_of_split\": None,\n",
        "                        \"successor_left\": None, \"successor_right\": None}\n",
        "        current_node[\"mean\"] = df[target].mean()\n",
        "\n",
        "        # Jika tidak ada fitur yang tersedia atau jika semua data di node saat ini memiliki target yang sama\n",
        "        if len(features) == 0 or len(set(df[target])) == 1:\n",
        "            return current_node\n",
        "\n",
        "        # Menentukan fitur dengan nilai split yang paling baik\n",
        "        best_feature = None\n",
        "        best_split_value = None\n",
        "        best_error = float(\"inf\")\n",
        "        for feature in features:\n",
        "            for value in set(df[feature]):\n",
        "                left_data = df[df[feature] <= value]\n",
        "                right_data = df[df[feature] > value]\n",
        "\n",
        "                # Hitung error dari split\n",
        "                error = (len(left_data) / len(df)) * (left_data[target].var() + right_data[target].var())\n",
        "\n",
        "                # Jika error lebih rendah dari yang sebelumnya, simpan fitur dan nilai split\n",
        "                if error < best_error:\n",
        "                    best_feature = feature\n",
        "                    best_split_value = value\n",
        "                    best_error = error\n",
        "\n",
        "        # Jika tidak ada fitur yang dapat dipakai untuk split\n",
        "        if best_error == float(\"inf\"):\n",
        "            return current_node\n",
        "\n",
        "        # Simpan fitur dan nilai split yang digunakan\n",
        "        current_node[\"split_by_feature\"] = best_feature\n",
        "        current_node[\"error_of_split\"] = best_error\n",
        "\n",
        "        # Hapus fitur yang digunakan dari daftar fitur\n",
        "        features.remove(best_feature)\n",
        "\n",
        "        # Pisahkan data menjadi dua node\n",
        "        left_data = df[df[best_feature] <= best_split_value]\n",
        "        right_data = df[df[best_feature] > best_split_value]\n",
        "\n",
        "        # Pergi ke node anak sebelah kiri dan kanan\n",
        "        current_node[\"successor_left\"] = create_tree(left_data, features, target)\n",
        "        current_node[\"successor_right\"] = create_tree(right_data, features, target)\n",
        "\n",
        "        return current_node\n",
        "\n",
        "def get_highest_influence_feature(cart):\n",
        "    highest_influence_feature = None\n",
        "    highest_influence = -1\n",
        "\n",
        "    def explore_node(node):\n",
        "        nonlocal highest_influence_feature\n",
        "        nonlocal highest_influence\n",
        "\n",
        "        if node[\"successor_left\"] is None and node[\"successor_right\"] is None:\n",
        "            return\n",
        "        else:\n",
        "            # jika feature memiliki nilai influence yang lebih tinggi dari yang sebelumnya\n",
        "            if node[\"influence\"] > highest_influence:\n",
        "                highest_influence = node[\"influence\"]\n",
        "                highest_influence_feature = node[\"split_by_feature\"]\n",
        "            explore_node(node[\"successor_left\"])\n",
        "            explore_node(node[\"successor_right\"])\n",
        "    explore_node(cart)\n",
        "    return highest_influence_feature\n",
        "\n",
        "    \n",
        "def get_error_rate(cart, sample_set_csv):\n",
        "    df = pd.read_csv(sample_set_csv)\n",
        "    target = \"mean\"\n",
        "    incorrect_predictions = 0\n",
        "\n",
        "    for i, data in df.iterrows():\n",
        "        node = cart\n",
        "        while node[\"successor_left\"] is not None and node[\"successor_right\"] is not None:\n",
        "            if data[node[\"split_by_feature\"]] <= data[node[\"split_by_feature\"]]:\n",
        "                node = node[\"successor_left\"]\n",
        "            else:\n",
        "                node = node[\"successor_right\"]\n",
        "\n",
        "        # Menghitung prediksi yang salah\n",
        "        if data['performance'] != node[\"mean\"]:\n",
        "            incorrect_predictions += 1\n",
        "\n",
        "    # Menghitung tingkat kesalahan dalam persentase\n",
        "    error_rate = incorrect_predictions / len(df) * 100\n",
        "    return error_rate\n",
        "\n",
        "\n",
        "def get_optimal_configuration(cart, partial_configuration):\n",
        "    optimal_config = set()\n",
        "    optimal_error = float(\"inf\")\n",
        "\n",
        "    def explore_node(node, config):\n",
        "        nonlocal optimal_config\n",
        "        nonlocal optimal_error\n",
        "\n",
        "        if node[\"successor_left\"] is None and node[\"successor_right\"] is None:\n",
        "            # Jika node ini adalah daun dan konfigurasi saat ini lebih baik daripada yang sebelumnya ditentukan\n",
        "            if node[\"error_of_split\"] is not None and node[\"error_of_split\"] < optimal_error:\n",
        "                optimal_config = config.copy()\n",
        "                optimal_error = node[\"error_of_split\"]\n",
        "        else:\n",
        "            # Pergi ke node anak sebelah kiri dengan menambahkan fitur pemisah ke konfigurasi\n",
        "            explore_node(node[\"successor_left\"], config.union({node[\"split_by_feature\"]}))\n",
        "\n",
        "            # Pergi ke node anak sebelah kanan dengan menambahkan fitur pemisah ke konfigurasi\n",
        "            explore_node(node[\"successor_right\"], config.union({node[\"split_by_feature\"]}))\n",
        "\n",
        "    explore_node(cart, partial_configuration)\n",
        "    return optimal_config"
      ],
      "metadata": {
        "id": "Evnhb6j3b_t4"
      },
      "execution_count": 4,
      "outputs": []
    },
    {
      "cell_type": "code",
      "source": [
        "test_cart = {'name': 'X', 'mean': 763.2, 'split_by_feature': 'segmentation', 'error_of_split': 6.0, \n",
        "             'successor_left': \n",
        "                 {'name': 'XL', 'mean': 772.0, 'split_by_feature': 'onegb', 'error_of_split': 0.0, \n",
        "                  'successor_left': \n",
        "                      {'name': 'XLL', 'mean': 770.0, 'split_by_feature': None, 'error_of_split': None, \n",
        "                       'successor_left': None, \n",
        "                       'successor_right': None\n",
        "                      }, \n",
        "                  'successor_right': \n",
        "                      {'name': 'XLR', 'mean': 773.0, 'split_by_feature': None, 'error_of_split': None, \n",
        "                       'successor_left': None, \n",
        "                       'successor_right': None\n",
        "                      }\n",
        "                 }, \n",
        "             'successor_right': \n",
        "                 {'name': 'XR', 'mean': 750.0, 'split_by_feature': None, 'error_of_split': None, \n",
        "                  'successor_left': None, \n",
        "                  'successor_right': None}\n",
        "            }\n",
        "\n",
        "\n",
        "if get_cart(\"Performance_01.csv\") == test_cart:\n",
        "    print(\"passed\")\n",
        "else:\n",
        "    print(\"failed\")"
      ],
      "metadata": {
        "colab": {
          "base_uri": "https://localhost:8080/"
        },
        "id": "b0EUWo9hcI5G",
        "outputId": "20cf40a5-c809-461d-aa77-4dc7f9fd95d7"
      },
      "execution_count": 5,
      "outputs": [
        {
          "output_type": "stream",
          "name": "stdout",
          "text": [
            "failed\n"
          ]
        }
      ]
    },
    {
      "cell_type": "code",
      "source": [
        "if get_error_rate(test_cart, \"Performance_01.csv\") == 5:\n",
        "    print(\"passed\")\n",
        "else:\n",
        "    print(\"failed\")"
      ],
      "metadata": {
        "colab": {
          "base_uri": "https://localhost:8080/"
        },
        "id": "1cwzQTxIcNie",
        "outputId": "9ba2bf7b-90a7-4eca-d176-a2f63d6ae194"
      },
      "execution_count": 6,
      "outputs": [
        {
          "output_type": "stream",
          "name": "stdout",
          "text": [
            "failed\n"
          ]
        }
      ]
    },
    {
      "cell_type": "code",
      "source": [
        "# Task 2c\n",
        "test_cart_v2 = {'name': 'X', 'mean': 763.2, 'split_by_feature': 'zip', 'error_of_split': 0.0, \n",
        "                 'successor_left': {'name': 'XL', 'mean': 772.0, 'split_by_feature': None, 'error_of_split': None, \n",
        "                                    'successor_left': None, \n",
        "                                    'successor_right': None}, \n",
        "                 'successor_right': {'name': 'XR', 'mean': 750.0, 'split_by_feature': None, 'error_of_split': None, \n",
        "                                     'successor_left': None, \n",
        "                                     'successor_right': None}\n",
        "                }\n",
        "\n",
        "optimal_config = get_optimal_configuration(test_cart_v2, {\"secompress\", \"encryption\", \"aes\", \"algorithm\", \"signature\",\n",
        "                                                        \"timestamp\", \"segmentation\", \"onehundredmb\"})\n",
        "reference = {'aes', 'algorithm', 'encryption', 'onehundredmb', 'rar', 'secompress', 'segmentation', 'signature',\n",
        "            'timestamp'}\n",
        "\n",
        "if optimal_config == reference:\n",
        "    print(\"passed\")\n",
        "else:\n",
        "    print(\"failed\")"
      ],
      "metadata": {
        "id": "L0z8If1cckuI",
        "outputId": "385afec4-c1e4-4f1c-87e8-2c01cf739b29",
        "colab": {
          "base_uri": "https://localhost:8080/"
        }
      },
      "execution_count": 7,
      "outputs": [
        {
          "output_type": "stream",
          "name": "stdout",
          "text": [
            "failed\n"
          ]
        }
      ]
    },
    {
      "cell_type": "code",
      "source": [],
      "metadata": {
        "id": "YZIN7mfsGL5W"
      },
      "execution_count": null,
      "outputs": []
    }
  ]
}