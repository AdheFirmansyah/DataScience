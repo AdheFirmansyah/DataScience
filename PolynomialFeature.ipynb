{
  "nbformat": 4,
  "nbformat_minor": 0,
  "metadata": {
    "colab": {
      "provenance": [],
      "authorship_tag": "ABX9TyMx/eanXGYybSg3WQQ0mFzm",
      "include_colab_link": true
    },
    "kernelspec": {
      "name": "python3",
      "display_name": "Python 3"
    },
    "language_info": {
      "name": "python"
    }
  },
  "cells": [
    {
      "cell_type": "markdown",
      "metadata": {
        "id": "view-in-github",
        "colab_type": "text"
      },
      "source": [
        "<a href=\"https://colab.research.google.com/github/AdheFirmansyah/DataScience/blob/main/PolynomialFeature.ipynb\" target=\"_parent\"><img src=\"https://colab.research.google.com/assets/colab-badge.svg\" alt=\"Open In Colab\"/></a>"
      ]
    },
    {
      "cell_type": "markdown",
      "source": [
        "<h1> Dataset Tanaman Padi Sumatera, Indonesia </h1>\n",
        "\n",
        "<p> Pengambilan data diperoleh melalui website BPS pada kategori tanaman pangan utama dari 8 provinsi di pulau Sumatera yaitu Nanggroe Aceh Darussalam (NAD), Sumatera Utara, Riau, Jambi, Sumatera Selatan, Bengkulu dan Lampung. Data yang digunakan adalah data dari tahun 1993 hingga tahun 2020 untuk dataset padi. Data memuat hasil produksi tahunan dan luas panen atau luas lahan. Kemudian data perubahan cuaca diperoleh melalui website BMKG untuk data harian curah hujan, kelembapan, dan temperatur rata-rata atau suhu rata-rata dari tahun 1993 hingga tahun 2020. </p>"
      ],
      "metadata": {
        "id": "FdwHO-J4rSxc"
      }
    },
    {
      "cell_type": "code",
      "execution_count": 1,
      "metadata": {
        "colab": {
          "base_uri": "https://localhost:8080/"
        },
        "id": "8vbzgvH3rMRI",
        "outputId": "d9ab8fe5-7113-4743-c902-1e4701c74514"
      },
      "outputs": [
        {
          "output_type": "stream",
          "name": "stdout",
          "text": [
            "Drive already mounted at /content/drive; to attempt to forcibly remount, call drive.mount(\"/content/drive\", force_remount=True).\n",
            "mounting ok\n"
          ]
        }
      ],
      "source": [
        "from google.colab import drive\n",
        "drive.mount('/content/drive')\n",
        "\n",
        "print('mounting ok')"
      ]
    },
    {
      "cell_type": "code",
      "source": [
        "import pandas as pd\n",
        "import numpy as np\n",
        "\n",
        "#visual\n",
        "import matplotlib.pyplot as plt\n",
        "import seaborn as sns\n",
        "import plotly.express as px\n",
        "\n",
        "#add\n",
        "%matplotlib inline\n",
        "import warnings\n",
        "warnings.filterwarnings('ignore')\n",
        "pd.set_option('display.max_columns', None)"
      ],
      "metadata": {
        "id": "i_a-VarAsOlr"
      },
      "execution_count": 2,
      "outputs": []
    },
    {
      "cell_type": "code",
      "source": [
        "df = pd.read_csv('/content/drive/MyDrive/Dataset/Data_Tanaman_Padi_Sumatera_version_1.csv')\n",
        "print ('Berikut Tampilan Data :\\n')\n",
        "df.head().style.set_properties(**{\"background-color\": \"#FDD667\",\"color\":\"black\",\"border\": \"1.5px solid black\"})"
      ],
      "metadata": {
        "colab": {
          "base_uri": "https://localhost:8080/",
          "height": 248
        },
        "id": "Mq14JFUAs4Sy",
        "outputId": "ddd91529-a055-46d4-9a36-dde2aa531c7d"
      },
      "execution_count": 3,
      "outputs": [
        {
          "output_type": "stream",
          "name": "stdout",
          "text": [
            "Berikut Tampilan Data :\n",
            "\n"
          ]
        },
        {
          "output_type": "execute_result",
          "data": {
            "text/plain": [
              "<pandas.io.formats.style.Styler at 0x7f24bed6e190>"
            ],
            "text/html": [
              "<style type=\"text/css\">\n",
              "#T_4dc5f_row0_col0, #T_4dc5f_row0_col1, #T_4dc5f_row0_col2, #T_4dc5f_row0_col3, #T_4dc5f_row0_col4, #T_4dc5f_row0_col5, #T_4dc5f_row0_col6, #T_4dc5f_row1_col0, #T_4dc5f_row1_col1, #T_4dc5f_row1_col2, #T_4dc5f_row1_col3, #T_4dc5f_row1_col4, #T_4dc5f_row1_col5, #T_4dc5f_row1_col6, #T_4dc5f_row2_col0, #T_4dc5f_row2_col1, #T_4dc5f_row2_col2, #T_4dc5f_row2_col3, #T_4dc5f_row2_col4, #T_4dc5f_row2_col5, #T_4dc5f_row2_col6, #T_4dc5f_row3_col0, #T_4dc5f_row3_col1, #T_4dc5f_row3_col2, #T_4dc5f_row3_col3, #T_4dc5f_row3_col4, #T_4dc5f_row3_col5, #T_4dc5f_row3_col6, #T_4dc5f_row4_col0, #T_4dc5f_row4_col1, #T_4dc5f_row4_col2, #T_4dc5f_row4_col3, #T_4dc5f_row4_col4, #T_4dc5f_row4_col5, #T_4dc5f_row4_col6 {\n",
              "  background-color: #FDD667;\n",
              "  color: black;\n",
              "  border: 1.5px solid black;\n",
              "}\n",
              "</style>\n",
              "<table id=\"T_4dc5f_\" class=\"dataframe\">\n",
              "  <thead>\n",
              "    <tr>\n",
              "      <th class=\"blank level0\" >&nbsp;</th>\n",
              "      <th class=\"col_heading level0 col0\" >Provinsi</th>\n",
              "      <th class=\"col_heading level0 col1\" >Tahun</th>\n",
              "      <th class=\"col_heading level0 col2\" >Produksi</th>\n",
              "      <th class=\"col_heading level0 col3\" >Luas Panen</th>\n",
              "      <th class=\"col_heading level0 col4\" >Curah hujan</th>\n",
              "      <th class=\"col_heading level0 col5\" >Kelembapan</th>\n",
              "      <th class=\"col_heading level0 col6\" >Suhu rata-rata</th>\n",
              "    </tr>\n",
              "  </thead>\n",
              "  <tbody>\n",
              "    <tr>\n",
              "      <th id=\"T_4dc5f_level0_row0\" class=\"row_heading level0 row0\" >0</th>\n",
              "      <td id=\"T_4dc5f_row0_col0\" class=\"data row0 col0\" >Aceh</td>\n",
              "      <td id=\"T_4dc5f_row0_col1\" class=\"data row0 col1\" >1993</td>\n",
              "      <td id=\"T_4dc5f_row0_col2\" class=\"data row0 col2\" >1329536.000000</td>\n",
              "      <td id=\"T_4dc5f_row0_col3\" class=\"data row0 col3\" >323589.000000</td>\n",
              "      <td id=\"T_4dc5f_row0_col4\" class=\"data row0 col4\" >1627.000000</td>\n",
              "      <td id=\"T_4dc5f_row0_col5\" class=\"data row0 col5\" >82.000000</td>\n",
              "      <td id=\"T_4dc5f_row0_col6\" class=\"data row0 col6\" >26.060000</td>\n",
              "    </tr>\n",
              "    <tr>\n",
              "      <th id=\"T_4dc5f_level0_row1\" class=\"row_heading level0 row1\" >1</th>\n",
              "      <td id=\"T_4dc5f_row1_col0\" class=\"data row1 col0\" >Aceh</td>\n",
              "      <td id=\"T_4dc5f_row1_col1\" class=\"data row1 col1\" >1994</td>\n",
              "      <td id=\"T_4dc5f_row1_col2\" class=\"data row1 col2\" >1299699.000000</td>\n",
              "      <td id=\"T_4dc5f_row1_col3\" class=\"data row1 col3\" >329041.000000</td>\n",
              "      <td id=\"T_4dc5f_row1_col4\" class=\"data row1 col4\" >1521.000000</td>\n",
              "      <td id=\"T_4dc5f_row1_col5\" class=\"data row1 col5\" >82.120000</td>\n",
              "      <td id=\"T_4dc5f_row1_col6\" class=\"data row1 col6\" >26.920000</td>\n",
              "    </tr>\n",
              "    <tr>\n",
              "      <th id=\"T_4dc5f_level0_row2\" class=\"row_heading level0 row2\" >2</th>\n",
              "      <td id=\"T_4dc5f_row2_col0\" class=\"data row2 col0\" >Aceh</td>\n",
              "      <td id=\"T_4dc5f_row2_col1\" class=\"data row2 col1\" >1995</td>\n",
              "      <td id=\"T_4dc5f_row2_col2\" class=\"data row2 col2\" >1382905.000000</td>\n",
              "      <td id=\"T_4dc5f_row2_col3\" class=\"data row2 col3\" >339253.000000</td>\n",
              "      <td id=\"T_4dc5f_row2_col4\" class=\"data row2 col4\" >1476.000000</td>\n",
              "      <td id=\"T_4dc5f_row2_col5\" class=\"data row2 col5\" >82.720000</td>\n",
              "      <td id=\"T_4dc5f_row2_col6\" class=\"data row2 col6\" >26.270000</td>\n",
              "    </tr>\n",
              "    <tr>\n",
              "      <th id=\"T_4dc5f_level0_row3\" class=\"row_heading level0 row3\" >3</th>\n",
              "      <td id=\"T_4dc5f_row3_col0\" class=\"data row3 col0\" >Aceh</td>\n",
              "      <td id=\"T_4dc5f_row3_col1\" class=\"data row3 col1\" >1996</td>\n",
              "      <td id=\"T_4dc5f_row3_col2\" class=\"data row3 col2\" >1419128.000000</td>\n",
              "      <td id=\"T_4dc5f_row3_col3\" class=\"data row3 col3\" >348223.000000</td>\n",
              "      <td id=\"T_4dc5f_row3_col4\" class=\"data row3 col4\" >1557.000000</td>\n",
              "      <td id=\"T_4dc5f_row3_col5\" class=\"data row3 col5\" >83.000000</td>\n",
              "      <td id=\"T_4dc5f_row3_col6\" class=\"data row3 col6\" >26.080000</td>\n",
              "    </tr>\n",
              "    <tr>\n",
              "      <th id=\"T_4dc5f_level0_row4\" class=\"row_heading level0 row4\" >4</th>\n",
              "      <td id=\"T_4dc5f_row4_col0\" class=\"data row4 col0\" >Aceh</td>\n",
              "      <td id=\"T_4dc5f_row4_col1\" class=\"data row4 col1\" >1997</td>\n",
              "      <td id=\"T_4dc5f_row4_col2\" class=\"data row4 col2\" >1368074.000000</td>\n",
              "      <td id=\"T_4dc5f_row4_col3\" class=\"data row4 col3\" >337561.000000</td>\n",
              "      <td id=\"T_4dc5f_row4_col4\" class=\"data row4 col4\" >1339.000000</td>\n",
              "      <td id=\"T_4dc5f_row4_col5\" class=\"data row4 col5\" >82.460000</td>\n",
              "      <td id=\"T_4dc5f_row4_col6\" class=\"data row4 col6\" >26.310000</td>\n",
              "    </tr>\n",
              "  </tbody>\n",
              "</table>\n"
            ]
          },
          "metadata": {},
          "execution_count": 3
        }
      ]
    },
    {
      "cell_type": "code",
      "source": [
        "df.tail().style.set_properties(**{\"background-color\": \"#FDD667\",\"color\":\"black\",\"border\": \"1.5px solid black\"})"
      ],
      "metadata": {
        "colab": {
          "base_uri": "https://localhost:8080/",
          "height": 212
        },
        "id": "Tvw_xaSGovSk",
        "outputId": "4955d5cc-91e2-42e1-9c8c-119d6088732d"
      },
      "execution_count": 4,
      "outputs": [
        {
          "output_type": "execute_result",
          "data": {
            "text/plain": [
              "<pandas.io.formats.style.Styler at 0x7f24bed5ca30>"
            ],
            "text/html": [
              "<style type=\"text/css\">\n",
              "#T_112f0_row0_col0, #T_112f0_row0_col1, #T_112f0_row0_col2, #T_112f0_row0_col3, #T_112f0_row0_col4, #T_112f0_row0_col5, #T_112f0_row0_col6, #T_112f0_row1_col0, #T_112f0_row1_col1, #T_112f0_row1_col2, #T_112f0_row1_col3, #T_112f0_row1_col4, #T_112f0_row1_col5, #T_112f0_row1_col6, #T_112f0_row2_col0, #T_112f0_row2_col1, #T_112f0_row2_col2, #T_112f0_row2_col3, #T_112f0_row2_col4, #T_112f0_row2_col5, #T_112f0_row2_col6, #T_112f0_row3_col0, #T_112f0_row3_col1, #T_112f0_row3_col2, #T_112f0_row3_col3, #T_112f0_row3_col4, #T_112f0_row3_col5, #T_112f0_row3_col6, #T_112f0_row4_col0, #T_112f0_row4_col1, #T_112f0_row4_col2, #T_112f0_row4_col3, #T_112f0_row4_col4, #T_112f0_row4_col5, #T_112f0_row4_col6 {\n",
              "  background-color: #FDD667;\n",
              "  color: black;\n",
              "  border: 1.5px solid black;\n",
              "}\n",
              "</style>\n",
              "<table id=\"T_112f0_\" class=\"dataframe\">\n",
              "  <thead>\n",
              "    <tr>\n",
              "      <th class=\"blank level0\" >&nbsp;</th>\n",
              "      <th class=\"col_heading level0 col0\" >Provinsi</th>\n",
              "      <th class=\"col_heading level0 col1\" >Tahun</th>\n",
              "      <th class=\"col_heading level0 col2\" >Produksi</th>\n",
              "      <th class=\"col_heading level0 col3\" >Luas Panen</th>\n",
              "      <th class=\"col_heading level0 col4\" >Curah hujan</th>\n",
              "      <th class=\"col_heading level0 col5\" >Kelembapan</th>\n",
              "      <th class=\"col_heading level0 col6\" >Suhu rata-rata</th>\n",
              "    </tr>\n",
              "  </thead>\n",
              "  <tbody>\n",
              "    <tr>\n",
              "      <th id=\"T_112f0_level0_row0\" class=\"row_heading level0 row0\" >219</th>\n",
              "      <td id=\"T_112f0_row0_col0\" class=\"data row0 col0\" >Lampung</td>\n",
              "      <td id=\"T_112f0_row0_col1\" class=\"data row0 col1\" >2016</td>\n",
              "      <td id=\"T_112f0_row0_col2\" class=\"data row0 col2\" >3831923.000000</td>\n",
              "      <td id=\"T_112f0_row0_col3\" class=\"data row0 col3\" >390799.000000</td>\n",
              "      <td id=\"T_112f0_row0_col4\" class=\"data row0 col4\" >2317.600000</td>\n",
              "      <td id=\"T_112f0_row0_col5\" class=\"data row0 col5\" >79.400000</td>\n",
              "      <td id=\"T_112f0_row0_col6\" class=\"data row0 col6\" >26.450000</td>\n",
              "    </tr>\n",
              "    <tr>\n",
              "      <th id=\"T_112f0_level0_row1\" class=\"row_heading level0 row1\" >220</th>\n",
              "      <td id=\"T_112f0_row1_col0\" class=\"data row1 col0\" >Lampung</td>\n",
              "      <td id=\"T_112f0_row1_col1\" class=\"data row1 col1\" >2017</td>\n",
              "      <td id=\"T_112f0_row1_col2\" class=\"data row1 col2\" >4090654.000000</td>\n",
              "      <td id=\"T_112f0_row1_col3\" class=\"data row1 col3\" >396559.000000</td>\n",
              "      <td id=\"T_112f0_row1_col4\" class=\"data row1 col4\" >1825.100000</td>\n",
              "      <td id=\"T_112f0_row1_col5\" class=\"data row1 col5\" >77.040000</td>\n",
              "      <td id=\"T_112f0_row1_col6\" class=\"data row1 col6\" >26.360000</td>\n",
              "    </tr>\n",
              "    <tr>\n",
              "      <th id=\"T_112f0_level0_row2\" class=\"row_heading level0 row2\" >221</th>\n",
              "      <td id=\"T_112f0_row2_col0\" class=\"data row2 col0\" >Lampung</td>\n",
              "      <td id=\"T_112f0_row2_col1\" class=\"data row2 col1\" >2018</td>\n",
              "      <td id=\"T_112f0_row2_col2\" class=\"data row2 col2\" >2488641.910000</td>\n",
              "      <td id=\"T_112f0_row2_col3\" class=\"data row2 col3\" >511940.930000</td>\n",
              "      <td id=\"T_112f0_row2_col4\" class=\"data row2 col4\" >1385.800000</td>\n",
              "      <td id=\"T_112f0_row2_col5\" class=\"data row2 col5\" >76.050000</td>\n",
              "      <td id=\"T_112f0_row2_col6\" class=\"data row2 col6\" >25.500000</td>\n",
              "    </tr>\n",
              "    <tr>\n",
              "      <th id=\"T_112f0_level0_row3\" class=\"row_heading level0 row3\" >222</th>\n",
              "      <td id=\"T_112f0_row3_col0\" class=\"data row3 col0\" >Lampung</td>\n",
              "      <td id=\"T_112f0_row3_col1\" class=\"data row3 col1\" >2019</td>\n",
              "      <td id=\"T_112f0_row3_col2\" class=\"data row3 col2\" >2164089.330000</td>\n",
              "      <td id=\"T_112f0_row3_col3\" class=\"data row3 col3\" >464103.420000</td>\n",
              "      <td id=\"T_112f0_row3_col4\" class=\"data row3 col4\" >1706.400000</td>\n",
              "      <td id=\"T_112f0_row3_col5\" class=\"data row3 col5\" >78.030000</td>\n",
              "      <td id=\"T_112f0_row3_col6\" class=\"data row3 col6\" >27.230000</td>\n",
              "    </tr>\n",
              "    <tr>\n",
              "      <th id=\"T_112f0_level0_row4\" class=\"row_heading level0 row4\" >223</th>\n",
              "      <td id=\"T_112f0_row4_col0\" class=\"data row4 col0\" >Lampung</td>\n",
              "      <td id=\"T_112f0_row4_col1\" class=\"data row4 col1\" >2020</td>\n",
              "      <td id=\"T_112f0_row4_col2\" class=\"data row4 col2\" >2604913.290000</td>\n",
              "      <td id=\"T_112f0_row4_col3\" class=\"data row4 col3\" >545149.050000</td>\n",
              "      <td id=\"T_112f0_row4_col4\" class=\"data row4 col4\" >2211.300000</td>\n",
              "      <td id=\"T_112f0_row4_col5\" class=\"data row4 col5\" >75.800000</td>\n",
              "      <td id=\"T_112f0_row4_col6\" class=\"data row4 col6\" >24.580000</td>\n",
              "    </tr>\n",
              "  </tbody>\n",
              "</table>\n"
            ]
          },
          "metadata": {},
          "execution_count": 4
        }
      ]
    },
    {
      "cell_type": "code",
      "source": [
        "df.shape"
      ],
      "metadata": {
        "colab": {
          "base_uri": "https://localhost:8080/"
        },
        "id": "UPx_dQxZtDaw",
        "outputId": "57a5cfdd-c384-4863-eb5f-e63c0c52887c"
      },
      "execution_count": 5,
      "outputs": [
        {
          "output_type": "execute_result",
          "data": {
            "text/plain": [
              "(224, 7)"
            ]
          },
          "metadata": {},
          "execution_count": 5
        }
      ]
    },
    {
      "cell_type": "code",
      "source": [
        "df.info()"
      ],
      "metadata": {
        "colab": {
          "base_uri": "https://localhost:8080/"
        },
        "id": "mPt5zOJ9tM0y",
        "outputId": "6b5e2f52-badb-4aca-e33d-cb6f18b76228"
      },
      "execution_count": 6,
      "outputs": [
        {
          "output_type": "stream",
          "name": "stdout",
          "text": [
            "<class 'pandas.core.frame.DataFrame'>\n",
            "RangeIndex: 224 entries, 0 to 223\n",
            "Data columns (total 7 columns):\n",
            " #   Column          Non-Null Count  Dtype  \n",
            "---  ------          --------------  -----  \n",
            " 0   Provinsi        224 non-null    object \n",
            " 1   Tahun           224 non-null    int64  \n",
            " 2   Produksi        224 non-null    float64\n",
            " 3   Luas Panen      224 non-null    float64\n",
            " 4   Curah hujan     224 non-null    float64\n",
            " 5   Kelembapan      224 non-null    float64\n",
            " 6   Suhu rata-rata  224 non-null    float64\n",
            "dtypes: float64(5), int64(1), object(1)\n",
            "memory usage: 12.4+ KB\n"
          ]
        }
      ]
    },
    {
      "cell_type": "code",
      "source": [
        "cek = pd.DataFrame({\n",
        "    'Data Kosong': df.isnull().sum(),\n",
        "    'Data Duplikat': df.duplicated().sum(),\n",
        "    'Data NaNN': df.isna().sum(),\n",
        "    'Type Data': df.dtypes\n",
        "})\n",
        "\n",
        "cek.style.set_properties(**{\"background-color\": \"#FDD667\",\"color\":\"black\",\"border\": \"1.5px solid black\"})"
      ],
      "metadata": {
        "colab": {
          "base_uri": "https://localhost:8080/",
          "height": 277
        },
        "id": "I1djSOZ3tO_J",
        "outputId": "939f8361-eeda-4924-dab9-9eb373b22053"
      },
      "execution_count": 7,
      "outputs": [
        {
          "output_type": "execute_result",
          "data": {
            "text/plain": [
              "<pandas.io.formats.style.Styler at 0x7f24bed5c850>"
            ],
            "text/html": [
              "<style type=\"text/css\">\n",
              "#T_58f7e_row0_col0, #T_58f7e_row0_col1, #T_58f7e_row0_col2, #T_58f7e_row0_col3, #T_58f7e_row1_col0, #T_58f7e_row1_col1, #T_58f7e_row1_col2, #T_58f7e_row1_col3, #T_58f7e_row2_col0, #T_58f7e_row2_col1, #T_58f7e_row2_col2, #T_58f7e_row2_col3, #T_58f7e_row3_col0, #T_58f7e_row3_col1, #T_58f7e_row3_col2, #T_58f7e_row3_col3, #T_58f7e_row4_col0, #T_58f7e_row4_col1, #T_58f7e_row4_col2, #T_58f7e_row4_col3, #T_58f7e_row5_col0, #T_58f7e_row5_col1, #T_58f7e_row5_col2, #T_58f7e_row5_col3, #T_58f7e_row6_col0, #T_58f7e_row6_col1, #T_58f7e_row6_col2, #T_58f7e_row6_col3 {\n",
              "  background-color: #FDD667;\n",
              "  color: black;\n",
              "  border: 1.5px solid black;\n",
              "}\n",
              "</style>\n",
              "<table id=\"T_58f7e_\" class=\"dataframe\">\n",
              "  <thead>\n",
              "    <tr>\n",
              "      <th class=\"blank level0\" >&nbsp;</th>\n",
              "      <th class=\"col_heading level0 col0\" >Data Kosong</th>\n",
              "      <th class=\"col_heading level0 col1\" >Data Duplikat</th>\n",
              "      <th class=\"col_heading level0 col2\" >Data NaNN</th>\n",
              "      <th class=\"col_heading level0 col3\" >Type Data</th>\n",
              "    </tr>\n",
              "  </thead>\n",
              "  <tbody>\n",
              "    <tr>\n",
              "      <th id=\"T_58f7e_level0_row0\" class=\"row_heading level0 row0\" >Provinsi</th>\n",
              "      <td id=\"T_58f7e_row0_col0\" class=\"data row0 col0\" >0</td>\n",
              "      <td id=\"T_58f7e_row0_col1\" class=\"data row0 col1\" >0</td>\n",
              "      <td id=\"T_58f7e_row0_col2\" class=\"data row0 col2\" >0</td>\n",
              "      <td id=\"T_58f7e_row0_col3\" class=\"data row0 col3\" >object</td>\n",
              "    </tr>\n",
              "    <tr>\n",
              "      <th id=\"T_58f7e_level0_row1\" class=\"row_heading level0 row1\" >Tahun</th>\n",
              "      <td id=\"T_58f7e_row1_col0\" class=\"data row1 col0\" >0</td>\n",
              "      <td id=\"T_58f7e_row1_col1\" class=\"data row1 col1\" >0</td>\n",
              "      <td id=\"T_58f7e_row1_col2\" class=\"data row1 col2\" >0</td>\n",
              "      <td id=\"T_58f7e_row1_col3\" class=\"data row1 col3\" >int64</td>\n",
              "    </tr>\n",
              "    <tr>\n",
              "      <th id=\"T_58f7e_level0_row2\" class=\"row_heading level0 row2\" >Produksi</th>\n",
              "      <td id=\"T_58f7e_row2_col0\" class=\"data row2 col0\" >0</td>\n",
              "      <td id=\"T_58f7e_row2_col1\" class=\"data row2 col1\" >0</td>\n",
              "      <td id=\"T_58f7e_row2_col2\" class=\"data row2 col2\" >0</td>\n",
              "      <td id=\"T_58f7e_row2_col3\" class=\"data row2 col3\" >float64</td>\n",
              "    </tr>\n",
              "    <tr>\n",
              "      <th id=\"T_58f7e_level0_row3\" class=\"row_heading level0 row3\" >Luas Panen</th>\n",
              "      <td id=\"T_58f7e_row3_col0\" class=\"data row3 col0\" >0</td>\n",
              "      <td id=\"T_58f7e_row3_col1\" class=\"data row3 col1\" >0</td>\n",
              "      <td id=\"T_58f7e_row3_col2\" class=\"data row3 col2\" >0</td>\n",
              "      <td id=\"T_58f7e_row3_col3\" class=\"data row3 col3\" >float64</td>\n",
              "    </tr>\n",
              "    <tr>\n",
              "      <th id=\"T_58f7e_level0_row4\" class=\"row_heading level0 row4\" >Curah hujan</th>\n",
              "      <td id=\"T_58f7e_row4_col0\" class=\"data row4 col0\" >0</td>\n",
              "      <td id=\"T_58f7e_row4_col1\" class=\"data row4 col1\" >0</td>\n",
              "      <td id=\"T_58f7e_row4_col2\" class=\"data row4 col2\" >0</td>\n",
              "      <td id=\"T_58f7e_row4_col3\" class=\"data row4 col3\" >float64</td>\n",
              "    </tr>\n",
              "    <tr>\n",
              "      <th id=\"T_58f7e_level0_row5\" class=\"row_heading level0 row5\" >Kelembapan</th>\n",
              "      <td id=\"T_58f7e_row5_col0\" class=\"data row5 col0\" >0</td>\n",
              "      <td id=\"T_58f7e_row5_col1\" class=\"data row5 col1\" >0</td>\n",
              "      <td id=\"T_58f7e_row5_col2\" class=\"data row5 col2\" >0</td>\n",
              "      <td id=\"T_58f7e_row5_col3\" class=\"data row5 col3\" >float64</td>\n",
              "    </tr>\n",
              "    <tr>\n",
              "      <th id=\"T_58f7e_level0_row6\" class=\"row_heading level0 row6\" >Suhu rata-rata</th>\n",
              "      <td id=\"T_58f7e_row6_col0\" class=\"data row6 col0\" >0</td>\n",
              "      <td id=\"T_58f7e_row6_col1\" class=\"data row6 col1\" >0</td>\n",
              "      <td id=\"T_58f7e_row6_col2\" class=\"data row6 col2\" >0</td>\n",
              "      <td id=\"T_58f7e_row6_col3\" class=\"data row6 col3\" >float64</td>\n",
              "    </tr>\n",
              "  </tbody>\n",
              "</table>\n"
            ]
          },
          "metadata": {},
          "execution_count": 7
        }
      ]
    },
    {
      "cell_type": "code",
      "source": [
        "df.corr()"
      ],
      "metadata": {
        "colab": {
          "base_uri": "https://localhost:8080/",
          "height": 238
        },
        "id": "y4hgDD23tkbH",
        "outputId": "18a5ffd2-b527-47d0-e178-00c8ce3543c8"
      },
      "execution_count": 8,
      "outputs": [
        {
          "output_type": "execute_result",
          "data": {
            "text/plain": [
              "                   Tahun  Produksi  Luas Panen  Curah hujan  Kelembapan  \\\n",
              "Tahun           1.000000  0.182527   -0.045951    -0.047645   -0.033474   \n",
              "Produksi        0.182527  1.000000    0.905622    -0.042129   -0.052316   \n",
              "Luas Panen     -0.045951  0.905622    1.000000    -0.092975   -0.061121   \n",
              "Curah hujan    -0.047645 -0.042129   -0.092975     1.000000    0.056466   \n",
              "Kelembapan     -0.033474 -0.052316   -0.061121     0.056466    1.000000   \n",
              "Suhu rata-rata  0.004923  0.041160    0.115726    -0.228699   -0.407799   \n",
              "\n",
              "                Suhu rata-rata  \n",
              "Tahun                 0.004923  \n",
              "Produksi              0.041160  \n",
              "Luas Panen            0.115726  \n",
              "Curah hujan          -0.228699  \n",
              "Kelembapan           -0.407799  \n",
              "Suhu rata-rata        1.000000  "
            ],
            "text/html": [
              "\n",
              "  <div id=\"df-aafd22fe-846e-4031-aa78-cc006eb42aa5\">\n",
              "    <div class=\"colab-df-container\">\n",
              "      <div>\n",
              "<style scoped>\n",
              "    .dataframe tbody tr th:only-of-type {\n",
              "        vertical-align: middle;\n",
              "    }\n",
              "\n",
              "    .dataframe tbody tr th {\n",
              "        vertical-align: top;\n",
              "    }\n",
              "\n",
              "    .dataframe thead th {\n",
              "        text-align: right;\n",
              "    }\n",
              "</style>\n",
              "<table border=\"1\" class=\"dataframe\">\n",
              "  <thead>\n",
              "    <tr style=\"text-align: right;\">\n",
              "      <th></th>\n",
              "      <th>Tahun</th>\n",
              "      <th>Produksi</th>\n",
              "      <th>Luas Panen</th>\n",
              "      <th>Curah hujan</th>\n",
              "      <th>Kelembapan</th>\n",
              "      <th>Suhu rata-rata</th>\n",
              "    </tr>\n",
              "  </thead>\n",
              "  <tbody>\n",
              "    <tr>\n",
              "      <th>Tahun</th>\n",
              "      <td>1.000000</td>\n",
              "      <td>0.182527</td>\n",
              "      <td>-0.045951</td>\n",
              "      <td>-0.047645</td>\n",
              "      <td>-0.033474</td>\n",
              "      <td>0.004923</td>\n",
              "    </tr>\n",
              "    <tr>\n",
              "      <th>Produksi</th>\n",
              "      <td>0.182527</td>\n",
              "      <td>1.000000</td>\n",
              "      <td>0.905622</td>\n",
              "      <td>-0.042129</td>\n",
              "      <td>-0.052316</td>\n",
              "      <td>0.041160</td>\n",
              "    </tr>\n",
              "    <tr>\n",
              "      <th>Luas Panen</th>\n",
              "      <td>-0.045951</td>\n",
              "      <td>0.905622</td>\n",
              "      <td>1.000000</td>\n",
              "      <td>-0.092975</td>\n",
              "      <td>-0.061121</td>\n",
              "      <td>0.115726</td>\n",
              "    </tr>\n",
              "    <tr>\n",
              "      <th>Curah hujan</th>\n",
              "      <td>-0.047645</td>\n",
              "      <td>-0.042129</td>\n",
              "      <td>-0.092975</td>\n",
              "      <td>1.000000</td>\n",
              "      <td>0.056466</td>\n",
              "      <td>-0.228699</td>\n",
              "    </tr>\n",
              "    <tr>\n",
              "      <th>Kelembapan</th>\n",
              "      <td>-0.033474</td>\n",
              "      <td>-0.052316</td>\n",
              "      <td>-0.061121</td>\n",
              "      <td>0.056466</td>\n",
              "      <td>1.000000</td>\n",
              "      <td>-0.407799</td>\n",
              "    </tr>\n",
              "    <tr>\n",
              "      <th>Suhu rata-rata</th>\n",
              "      <td>0.004923</td>\n",
              "      <td>0.041160</td>\n",
              "      <td>0.115726</td>\n",
              "      <td>-0.228699</td>\n",
              "      <td>-0.407799</td>\n",
              "      <td>1.000000</td>\n",
              "    </tr>\n",
              "  </tbody>\n",
              "</table>\n",
              "</div>\n",
              "      <button class=\"colab-df-convert\" onclick=\"convertToInteractive('df-aafd22fe-846e-4031-aa78-cc006eb42aa5')\"\n",
              "              title=\"Convert this dataframe to an interactive table.\"\n",
              "              style=\"display:none;\">\n",
              "        \n",
              "  <svg xmlns=\"http://www.w3.org/2000/svg\" height=\"24px\"viewBox=\"0 0 24 24\"\n",
              "       width=\"24px\">\n",
              "    <path d=\"M0 0h24v24H0V0z\" fill=\"none\"/>\n",
              "    <path d=\"M18.56 5.44l.94 2.06.94-2.06 2.06-.94-2.06-.94-.94-2.06-.94 2.06-2.06.94zm-11 1L8.5 8.5l.94-2.06 2.06-.94-2.06-.94L8.5 2.5l-.94 2.06-2.06.94zm10 10l.94 2.06.94-2.06 2.06-.94-2.06-.94-.94-2.06-.94 2.06-2.06.94z\"/><path d=\"M17.41 7.96l-1.37-1.37c-.4-.4-.92-.59-1.43-.59-.52 0-1.04.2-1.43.59L10.3 9.45l-7.72 7.72c-.78.78-.78 2.05 0 2.83L4 21.41c.39.39.9.59 1.41.59.51 0 1.02-.2 1.41-.59l7.78-7.78 2.81-2.81c.8-.78.8-2.07 0-2.86zM5.41 20L4 18.59l7.72-7.72 1.47 1.35L5.41 20z\"/>\n",
              "  </svg>\n",
              "      </button>\n",
              "      \n",
              "  <style>\n",
              "    .colab-df-container {\n",
              "      display:flex;\n",
              "      flex-wrap:wrap;\n",
              "      gap: 12px;\n",
              "    }\n",
              "\n",
              "    .colab-df-convert {\n",
              "      background-color: #E8F0FE;\n",
              "      border: none;\n",
              "      border-radius: 50%;\n",
              "      cursor: pointer;\n",
              "      display: none;\n",
              "      fill: #1967D2;\n",
              "      height: 32px;\n",
              "      padding: 0 0 0 0;\n",
              "      width: 32px;\n",
              "    }\n",
              "\n",
              "    .colab-df-convert:hover {\n",
              "      background-color: #E2EBFA;\n",
              "      box-shadow: 0px 1px 2px rgba(60, 64, 67, 0.3), 0px 1px 3px 1px rgba(60, 64, 67, 0.15);\n",
              "      fill: #174EA6;\n",
              "    }\n",
              "\n",
              "    [theme=dark] .colab-df-convert {\n",
              "      background-color: #3B4455;\n",
              "      fill: #D2E3FC;\n",
              "    }\n",
              "\n",
              "    [theme=dark] .colab-df-convert:hover {\n",
              "      background-color: #434B5C;\n",
              "      box-shadow: 0px 1px 3px 1px rgba(0, 0, 0, 0.15);\n",
              "      filter: drop-shadow(0px 1px 2px rgba(0, 0, 0, 0.3));\n",
              "      fill: #FFFFFF;\n",
              "    }\n",
              "  </style>\n",
              "\n",
              "      <script>\n",
              "        const buttonEl =\n",
              "          document.querySelector('#df-aafd22fe-846e-4031-aa78-cc006eb42aa5 button.colab-df-convert');\n",
              "        buttonEl.style.display =\n",
              "          google.colab.kernel.accessAllowed ? 'block' : 'none';\n",
              "\n",
              "        async function convertToInteractive(key) {\n",
              "          const element = document.querySelector('#df-aafd22fe-846e-4031-aa78-cc006eb42aa5');\n",
              "          const dataTable =\n",
              "            await google.colab.kernel.invokeFunction('convertToInteractive',\n",
              "                                                     [key], {});\n",
              "          if (!dataTable) return;\n",
              "\n",
              "          const docLinkHtml = 'Like what you see? Visit the ' +\n",
              "            '<a target=\"_blank\" href=https://colab.research.google.com/notebooks/data_table.ipynb>data table notebook</a>'\n",
              "            + ' to learn more about interactive tables.';\n",
              "          element.innerHTML = '';\n",
              "          dataTable['output_type'] = 'display_data';\n",
              "          await google.colab.output.renderOutput(dataTable, element);\n",
              "          const docLink = document.createElement('div');\n",
              "          docLink.innerHTML = docLinkHtml;\n",
              "          element.appendChild(docLink);\n",
              "        }\n",
              "      </script>\n",
              "    </div>\n",
              "  </div>\n",
              "  "
            ]
          },
          "metadata": {},
          "execution_count": 8
        }
      ]
    },
    {
      "cell_type": "code",
      "source": [
        "prov = df['Provinsi'].value_counts()\n",
        "fig = px.pie(df, \n",
        "             values=prov.values, \n",
        "             names=prov.index, \n",
        "             title='Komposisi Data Provinsi',\n",
        "             height=500)\n",
        "\n",
        "fig.show()"
      ],
      "metadata": {
        "colab": {
          "base_uri": "https://localhost:8080/",
          "height": 517
        },
        "id": "Nn23pXTVlRlD",
        "outputId": "905d2597-8600-42c8-aa3f-135d712c9794"
      },
      "execution_count": 9,
      "outputs": [
        {
          "output_type": "display_data",
          "data": {
            "text/html": [
              "<html>\n",
              "<head><meta charset=\"utf-8\" /></head>\n",
              "<body>\n",
              "    <div>            <script src=\"https://cdnjs.cloudflare.com/ajax/libs/mathjax/2.7.5/MathJax.js?config=TeX-AMS-MML_SVG\"></script><script type=\"text/javascript\">if (window.MathJax) {MathJax.Hub.Config({SVG: {font: \"STIX-Web\"}});}</script>                <script type=\"text/javascript\">window.PlotlyConfig = {MathJaxConfig: 'local'};</script>\n",
              "        <script src=\"https://cdn.plot.ly/plotly-2.8.3.min.js\"></script>                <div id=\"c0c938d7-3c08-43b2-9ed2-1357f43784a8\" class=\"plotly-graph-div\" style=\"height:500px; width:100%;\"></div>            <script type=\"text/javascript\">                                    window.PLOTLYENV=window.PLOTLYENV || {};                                    if (document.getElementById(\"c0c938d7-3c08-43b2-9ed2-1357f43784a8\")) {                    Plotly.newPlot(                        \"c0c938d7-3c08-43b2-9ed2-1357f43784a8\",                        [{\"domain\":{\"x\":[0.0,1.0],\"y\":[0.0,1.0]},\"hovertemplate\":\"label=%{label}<br>value=%{value}<extra></extra>\",\"labels\":[\"Aceh\",\"Sumatera Utara\",\"Sumatera Barat\",\"Riau\",\"Jambi\",\"Sumatera Selatan\",\"Bengkulu\",\"Lampung\"],\"legendgroup\":\"\",\"name\":\"\",\"showlegend\":true,\"values\":[28,28,28,28,28,28,28,28],\"type\":\"pie\"}],                        {\"template\":{\"data\":{\"bar\":[{\"error_x\":{\"color\":\"#2a3f5f\"},\"error_y\":{\"color\":\"#2a3f5f\"},\"marker\":{\"line\":{\"color\":\"#E5ECF6\",\"width\":0.5},\"pattern\":{\"fillmode\":\"overlay\",\"size\":10,\"solidity\":0.2}},\"type\":\"bar\"}],\"barpolar\":[{\"marker\":{\"line\":{\"color\":\"#E5ECF6\",\"width\":0.5},\"pattern\":{\"fillmode\":\"overlay\",\"size\":10,\"solidity\":0.2}},\"type\":\"barpolar\"}],\"carpet\":[{\"aaxis\":{\"endlinecolor\":\"#2a3f5f\",\"gridcolor\":\"white\",\"linecolor\":\"white\",\"minorgridcolor\":\"white\",\"startlinecolor\":\"#2a3f5f\"},\"baxis\":{\"endlinecolor\":\"#2a3f5f\",\"gridcolor\":\"white\",\"linecolor\":\"white\",\"minorgridcolor\":\"white\",\"startlinecolor\":\"#2a3f5f\"},\"type\":\"carpet\"}],\"choropleth\":[{\"colorbar\":{\"outlinewidth\":0,\"ticks\":\"\"},\"type\":\"choropleth\"}],\"contour\":[{\"colorbar\":{\"outlinewidth\":0,\"ticks\":\"\"},\"colorscale\":[[0.0,\"#0d0887\"],[0.1111111111111111,\"#46039f\"],[0.2222222222222222,\"#7201a8\"],[0.3333333333333333,\"#9c179e\"],[0.4444444444444444,\"#bd3786\"],[0.5555555555555556,\"#d8576b\"],[0.6666666666666666,\"#ed7953\"],[0.7777777777777778,\"#fb9f3a\"],[0.8888888888888888,\"#fdca26\"],[1.0,\"#f0f921\"]],\"type\":\"contour\"}],\"contourcarpet\":[{\"colorbar\":{\"outlinewidth\":0,\"ticks\":\"\"},\"type\":\"contourcarpet\"}],\"heatmap\":[{\"colorbar\":{\"outlinewidth\":0,\"ticks\":\"\"},\"colorscale\":[[0.0,\"#0d0887\"],[0.1111111111111111,\"#46039f\"],[0.2222222222222222,\"#7201a8\"],[0.3333333333333333,\"#9c179e\"],[0.4444444444444444,\"#bd3786\"],[0.5555555555555556,\"#d8576b\"],[0.6666666666666666,\"#ed7953\"],[0.7777777777777778,\"#fb9f3a\"],[0.8888888888888888,\"#fdca26\"],[1.0,\"#f0f921\"]],\"type\":\"heatmap\"}],\"heatmapgl\":[{\"colorbar\":{\"outlinewidth\":0,\"ticks\":\"\"},\"colorscale\":[[0.0,\"#0d0887\"],[0.1111111111111111,\"#46039f\"],[0.2222222222222222,\"#7201a8\"],[0.3333333333333333,\"#9c179e\"],[0.4444444444444444,\"#bd3786\"],[0.5555555555555556,\"#d8576b\"],[0.6666666666666666,\"#ed7953\"],[0.7777777777777778,\"#fb9f3a\"],[0.8888888888888888,\"#fdca26\"],[1.0,\"#f0f921\"]],\"type\":\"heatmapgl\"}],\"histogram\":[{\"marker\":{\"pattern\":{\"fillmode\":\"overlay\",\"size\":10,\"solidity\":0.2}},\"type\":\"histogram\"}],\"histogram2d\":[{\"colorbar\":{\"outlinewidth\":0,\"ticks\":\"\"},\"colorscale\":[[0.0,\"#0d0887\"],[0.1111111111111111,\"#46039f\"],[0.2222222222222222,\"#7201a8\"],[0.3333333333333333,\"#9c179e\"],[0.4444444444444444,\"#bd3786\"],[0.5555555555555556,\"#d8576b\"],[0.6666666666666666,\"#ed7953\"],[0.7777777777777778,\"#fb9f3a\"],[0.8888888888888888,\"#fdca26\"],[1.0,\"#f0f921\"]],\"type\":\"histogram2d\"}],\"histogram2dcontour\":[{\"colorbar\":{\"outlinewidth\":0,\"ticks\":\"\"},\"colorscale\":[[0.0,\"#0d0887\"],[0.1111111111111111,\"#46039f\"],[0.2222222222222222,\"#7201a8\"],[0.3333333333333333,\"#9c179e\"],[0.4444444444444444,\"#bd3786\"],[0.5555555555555556,\"#d8576b\"],[0.6666666666666666,\"#ed7953\"],[0.7777777777777778,\"#fb9f3a\"],[0.8888888888888888,\"#fdca26\"],[1.0,\"#f0f921\"]],\"type\":\"histogram2dcontour\"}],\"mesh3d\":[{\"colorbar\":{\"outlinewidth\":0,\"ticks\":\"\"},\"type\":\"mesh3d\"}],\"parcoords\":[{\"line\":{\"colorbar\":{\"outlinewidth\":0,\"ticks\":\"\"}},\"type\":\"parcoords\"}],\"pie\":[{\"automargin\":true,\"type\":\"pie\"}],\"scatter\":[{\"marker\":{\"colorbar\":{\"outlinewidth\":0,\"ticks\":\"\"}},\"type\":\"scatter\"}],\"scatter3d\":[{\"line\":{\"colorbar\":{\"outlinewidth\":0,\"ticks\":\"\"}},\"marker\":{\"colorbar\":{\"outlinewidth\":0,\"ticks\":\"\"}},\"type\":\"scatter3d\"}],\"scattercarpet\":[{\"marker\":{\"colorbar\":{\"outlinewidth\":0,\"ticks\":\"\"}},\"type\":\"scattercarpet\"}],\"scattergeo\":[{\"marker\":{\"colorbar\":{\"outlinewidth\":0,\"ticks\":\"\"}},\"type\":\"scattergeo\"}],\"scattergl\":[{\"marker\":{\"colorbar\":{\"outlinewidth\":0,\"ticks\":\"\"}},\"type\":\"scattergl\"}],\"scattermapbox\":[{\"marker\":{\"colorbar\":{\"outlinewidth\":0,\"ticks\":\"\"}},\"type\":\"scattermapbox\"}],\"scatterpolar\":[{\"marker\":{\"colorbar\":{\"outlinewidth\":0,\"ticks\":\"\"}},\"type\":\"scatterpolar\"}],\"scatterpolargl\":[{\"marker\":{\"colorbar\":{\"outlinewidth\":0,\"ticks\":\"\"}},\"type\":\"scatterpolargl\"}],\"scatterternary\":[{\"marker\":{\"colorbar\":{\"outlinewidth\":0,\"ticks\":\"\"}},\"type\":\"scatterternary\"}],\"surface\":[{\"colorbar\":{\"outlinewidth\":0,\"ticks\":\"\"},\"colorscale\":[[0.0,\"#0d0887\"],[0.1111111111111111,\"#46039f\"],[0.2222222222222222,\"#7201a8\"],[0.3333333333333333,\"#9c179e\"],[0.4444444444444444,\"#bd3786\"],[0.5555555555555556,\"#d8576b\"],[0.6666666666666666,\"#ed7953\"],[0.7777777777777778,\"#fb9f3a\"],[0.8888888888888888,\"#fdca26\"],[1.0,\"#f0f921\"]],\"type\":\"surface\"}],\"table\":[{\"cells\":{\"fill\":{\"color\":\"#EBF0F8\"},\"line\":{\"color\":\"white\"}},\"header\":{\"fill\":{\"color\":\"#C8D4E3\"},\"line\":{\"color\":\"white\"}},\"type\":\"table\"}]},\"layout\":{\"annotationdefaults\":{\"arrowcolor\":\"#2a3f5f\",\"arrowhead\":0,\"arrowwidth\":1},\"autotypenumbers\":\"strict\",\"coloraxis\":{\"colorbar\":{\"outlinewidth\":0,\"ticks\":\"\"}},\"colorscale\":{\"diverging\":[[0,\"#8e0152\"],[0.1,\"#c51b7d\"],[0.2,\"#de77ae\"],[0.3,\"#f1b6da\"],[0.4,\"#fde0ef\"],[0.5,\"#f7f7f7\"],[0.6,\"#e6f5d0\"],[0.7,\"#b8e186\"],[0.8,\"#7fbc41\"],[0.9,\"#4d9221\"],[1,\"#276419\"]],\"sequential\":[[0.0,\"#0d0887\"],[0.1111111111111111,\"#46039f\"],[0.2222222222222222,\"#7201a8\"],[0.3333333333333333,\"#9c179e\"],[0.4444444444444444,\"#bd3786\"],[0.5555555555555556,\"#d8576b\"],[0.6666666666666666,\"#ed7953\"],[0.7777777777777778,\"#fb9f3a\"],[0.8888888888888888,\"#fdca26\"],[1.0,\"#f0f921\"]],\"sequentialminus\":[[0.0,\"#0d0887\"],[0.1111111111111111,\"#46039f\"],[0.2222222222222222,\"#7201a8\"],[0.3333333333333333,\"#9c179e\"],[0.4444444444444444,\"#bd3786\"],[0.5555555555555556,\"#d8576b\"],[0.6666666666666666,\"#ed7953\"],[0.7777777777777778,\"#fb9f3a\"],[0.8888888888888888,\"#fdca26\"],[1.0,\"#f0f921\"]]},\"colorway\":[\"#636efa\",\"#EF553B\",\"#00cc96\",\"#ab63fa\",\"#FFA15A\",\"#19d3f3\",\"#FF6692\",\"#B6E880\",\"#FF97FF\",\"#FECB52\"],\"font\":{\"color\":\"#2a3f5f\"},\"geo\":{\"bgcolor\":\"white\",\"lakecolor\":\"white\",\"landcolor\":\"#E5ECF6\",\"showlakes\":true,\"showland\":true,\"subunitcolor\":\"white\"},\"hoverlabel\":{\"align\":\"left\"},\"hovermode\":\"closest\",\"mapbox\":{\"style\":\"light\"},\"paper_bgcolor\":\"white\",\"plot_bgcolor\":\"#E5ECF6\",\"polar\":{\"angularaxis\":{\"gridcolor\":\"white\",\"linecolor\":\"white\",\"ticks\":\"\"},\"bgcolor\":\"#E5ECF6\",\"radialaxis\":{\"gridcolor\":\"white\",\"linecolor\":\"white\",\"ticks\":\"\"}},\"scene\":{\"xaxis\":{\"backgroundcolor\":\"#E5ECF6\",\"gridcolor\":\"white\",\"gridwidth\":2,\"linecolor\":\"white\",\"showbackground\":true,\"ticks\":\"\",\"zerolinecolor\":\"white\"},\"yaxis\":{\"backgroundcolor\":\"#E5ECF6\",\"gridcolor\":\"white\",\"gridwidth\":2,\"linecolor\":\"white\",\"showbackground\":true,\"ticks\":\"\",\"zerolinecolor\":\"white\"},\"zaxis\":{\"backgroundcolor\":\"#E5ECF6\",\"gridcolor\":\"white\",\"gridwidth\":2,\"linecolor\":\"white\",\"showbackground\":true,\"ticks\":\"\",\"zerolinecolor\":\"white\"}},\"shapedefaults\":{\"line\":{\"color\":\"#2a3f5f\"}},\"ternary\":{\"aaxis\":{\"gridcolor\":\"white\",\"linecolor\":\"white\",\"ticks\":\"\"},\"baxis\":{\"gridcolor\":\"white\",\"linecolor\":\"white\",\"ticks\":\"\"},\"bgcolor\":\"#E5ECF6\",\"caxis\":{\"gridcolor\":\"white\",\"linecolor\":\"white\",\"ticks\":\"\"}},\"title\":{\"x\":0.05},\"xaxis\":{\"automargin\":true,\"gridcolor\":\"white\",\"linecolor\":\"white\",\"ticks\":\"\",\"title\":{\"standoff\":15},\"zerolinecolor\":\"white\",\"zerolinewidth\":2},\"yaxis\":{\"automargin\":true,\"gridcolor\":\"white\",\"linecolor\":\"white\",\"ticks\":\"\",\"title\":{\"standoff\":15},\"zerolinecolor\":\"white\",\"zerolinewidth\":2}}},\"legend\":{\"tracegroupgap\":0},\"title\":{\"text\":\"Komposisi Data Provinsi\"},\"height\":500},                        {\"responsive\": true}                    ).then(function(){\n",
              "                            \n",
              "var gd = document.getElementById('c0c938d7-3c08-43b2-9ed2-1357f43784a8');\n",
              "var x = new MutationObserver(function (mutations, observer) {{\n",
              "        var display = window.getComputedStyle(gd).display;\n",
              "        if (!display || display === 'none') {{\n",
              "            console.log([gd, 'removed!']);\n",
              "            Plotly.purge(gd);\n",
              "            observer.disconnect();\n",
              "        }}\n",
              "}});\n",
              "\n",
              "// Listen for the removal of the full notebook cells\n",
              "var notebookContainer = gd.closest('#notebook-container');\n",
              "if (notebookContainer) {{\n",
              "    x.observe(notebookContainer, {childList: true});\n",
              "}}\n",
              "\n",
              "// Listen for the clearing of the current output cell\n",
              "var outputEl = gd.closest('.output');\n",
              "if (outputEl) {{\n",
              "    x.observe(outputEl, {childList: true});\n",
              "}}\n",
              "\n",
              "                        })                };                            </script>        </div>\n",
              "</body>\n",
              "</html>"
            ]
          },
          "metadata": {}
        }
      ]
    },
    {
      "cell_type": "code",
      "source": [
        "total_produksi_prov = df.groupby(['Provinsi'])['Produksi'].sum().sort_values(ascending = False).reset_index()\n",
        "\n",
        "fig = px.bar(df, y=total_produksi_prov['Produksi'], x=total_produksi_prov['Provinsi'], text_auto='.2s',template='plotly_dark',\n",
        "             color = total_produksi_prov['Provinsi'])\n",
        "fig.update_layout(title='Produksi Padi Berdasar Provinsi',\n",
        "                   xaxis_title='Provinsi',\n",
        "                   yaxis_title='Jumlah Produksi')\n",
        "fig.show()"
      ],
      "metadata": {
        "colab": {
          "base_uri": "https://localhost:8080/",
          "height": 542
        },
        "id": "JXHTNoDm4ZCQ",
        "outputId": "f5edf259-56c2-4d97-f101-55608772b31d"
      },
      "execution_count": 10,
      "outputs": [
        {
          "output_type": "display_data",
          "data": {
            "text/html": [
              "<html>\n",
              "<head><meta charset=\"utf-8\" /></head>\n",
              "<body>\n",
              "    <div>            <script src=\"https://cdnjs.cloudflare.com/ajax/libs/mathjax/2.7.5/MathJax.js?config=TeX-AMS-MML_SVG\"></script><script type=\"text/javascript\">if (window.MathJax) {MathJax.Hub.Config({SVG: {font: \"STIX-Web\"}});}</script>                <script type=\"text/javascript\">window.PlotlyConfig = {MathJaxConfig: 'local'};</script>\n",
              "        <script src=\"https://cdn.plot.ly/plotly-2.8.3.min.js\"></script>                <div id=\"76121ba7-3678-49ee-9bb1-40d26eccad84\" class=\"plotly-graph-div\" style=\"height:525px; width:100%;\"></div>            <script type=\"text/javascript\">                                    window.PLOTLYENV=window.PLOTLYENV || {};                                    if (document.getElementById(\"76121ba7-3678-49ee-9bb1-40d26eccad84\")) {                    Plotly.newPlot(                        \"76121ba7-3678-49ee-9bb1-40d26eccad84\",                        [{\"alignmentgroup\":\"True\",\"hovertemplate\":\"color=Sumatera Utara<br>x=%{x}<br>y=%{y}<extra></extra>\",\"legendgroup\":\"Sumatera Utara\",\"marker\":{\"color\":\"#636efa\",\"pattern\":{\"shape\":\"\"}},\"name\":\"Sumatera Utara\",\"offsetgroup\":\"Sumatera Utara\",\"orientation\":\"v\",\"showlegend\":true,\"textposition\":\"auto\",\"texttemplate\":\"%{y:.2s}\",\"x\":[\"Sumatera Utara\"],\"xaxis\":\"x\",\"y\":[93253194.72],\"yaxis\":\"y\",\"type\":\"bar\"},{\"alignmentgroup\":\"True\",\"hovertemplate\":\"color=Sumatera Selatan<br>x=%{x}<br>y=%{y}<extra></extra>\",\"legendgroup\":\"Sumatera Selatan\",\"marker\":{\"color\":\"#EF553B\",\"pattern\":{\"shape\":\"\"}},\"name\":\"Sumatera Selatan\",\"offsetgroup\":\"Sumatera Selatan\",\"orientation\":\"v\",\"showlegend\":true,\"textposition\":\"auto\",\"texttemplate\":\"%{y:.2s}\",\"x\":[\"Sumatera Selatan\"],\"xaxis\":\"x\",\"y\":[74161992.54],\"yaxis\":\"y\",\"type\":\"bar\"},{\"alignmentgroup\":\"True\",\"hovertemplate\":\"color=Lampung<br>x=%{x}<br>y=%{y}<extra></extra>\",\"legendgroup\":\"Lampung\",\"marker\":{\"color\":\"#00cc96\",\"pattern\":{\"shape\":\"\"}},\"name\":\"Lampung\",\"offsetgroup\":\"Lampung\",\"orientation\":\"v\",\"showlegend\":true,\"textposition\":\"auto\",\"texttemplate\":\"%{y:.2s}\",\"x\":[\"Lampung\"],\"xaxis\":\"x\",\"y\":[68433897.53],\"yaxis\":\"y\",\"type\":\"bar\"},{\"alignmentgroup\":\"True\",\"hovertemplate\":\"color=Sumatera Barat<br>x=%{x}<br>y=%{y}<extra></extra>\",\"legendgroup\":\"Sumatera Barat\",\"marker\":{\"color\":\"#ab63fa\",\"pattern\":{\"shape\":\"\"}},\"name\":\"Sumatera Barat\",\"offsetgroup\":\"Sumatera Barat\",\"orientation\":\"v\",\"showlegend\":true,\"textposition\":\"auto\",\"texttemplate\":\"%{y:.2s}\",\"x\":[\"Sumatera Barat\"],\"xaxis\":\"x\",\"y\":[55731075.23],\"yaxis\":\"y\",\"type\":\"bar\"},{\"alignmentgroup\":\"True\",\"hovertemplate\":\"color=Aceh<br>x=%{x}<br>y=%{y}<extra></extra>\",\"legendgroup\":\"Aceh\",\"marker\":{\"color\":\"#FFA15A\",\"pattern\":{\"shape\":\"\"}},\"name\":\"Aceh\",\"offsetgroup\":\"Aceh\",\"orientation\":\"v\",\"showlegend\":true,\"textposition\":\"auto\",\"texttemplate\":\"%{y:.2s}\",\"x\":[\"Aceh\"],\"xaxis\":\"x\",\"y\":[45324629.64],\"yaxis\":\"y\",\"type\":\"bar\"},{\"alignmentgroup\":\"True\",\"hovertemplate\":\"color=Jambi<br>x=%{x}<br>y=%{y}<extra></extra>\",\"legendgroup\":\"Jambi\",\"marker\":{\"color\":\"#19d3f3\",\"pattern\":{\"shape\":\"\"}},\"name\":\"Jambi\",\"offsetgroup\":\"Jambi\",\"orientation\":\"v\",\"showlegend\":true,\"textposition\":\"auto\",\"texttemplate\":\"%{y:.2s}\",\"x\":[\"Jambi\"],\"xaxis\":\"x\",\"y\":[15480186.69],\"yaxis\":\"y\",\"type\":\"bar\"},{\"alignmentgroup\":\"True\",\"hovertemplate\":\"color=Bengkulu<br>x=%{x}<br>y=%{y}<extra></extra>\",\"legendgroup\":\"Bengkulu\",\"marker\":{\"color\":\"#FF6692\",\"pattern\":{\"shape\":\"\"}},\"name\":\"Bengkulu\",\"offsetgroup\":\"Bengkulu\",\"orientation\":\"v\",\"showlegend\":true,\"textposition\":\"auto\",\"texttemplate\":\"%{y:.2s}\",\"x\":[\"Bengkulu\"],\"xaxis\":\"x\",\"y\":[12459015.75],\"yaxis\":\"y\",\"type\":\"bar\"},{\"alignmentgroup\":\"True\",\"hovertemplate\":\"color=Riau<br>x=%{x}<br>y=%{y}<extra></extra>\",\"legendgroup\":\"Riau\",\"marker\":{\"color\":\"#B6E880\",\"pattern\":{\"shape\":\"\"}},\"name\":\"Riau\",\"offsetgroup\":\"Riau\",\"orientation\":\"v\",\"showlegend\":true,\"textposition\":\"auto\",\"texttemplate\":\"%{y:.2s}\",\"x\":[\"Riau\"],\"xaxis\":\"x\",\"y\":[11409006.55],\"yaxis\":\"y\",\"type\":\"bar\"}],                        {\"template\":{\"data\":{\"barpolar\":[{\"marker\":{\"line\":{\"color\":\"rgb(17,17,17)\",\"width\":0.5},\"pattern\":{\"fillmode\":\"overlay\",\"size\":10,\"solidity\":0.2}},\"type\":\"barpolar\"}],\"bar\":[{\"error_x\":{\"color\":\"#f2f5fa\"},\"error_y\":{\"color\":\"#f2f5fa\"},\"marker\":{\"line\":{\"color\":\"rgb(17,17,17)\",\"width\":0.5},\"pattern\":{\"fillmode\":\"overlay\",\"size\":10,\"solidity\":0.2}},\"type\":\"bar\"}],\"carpet\":[{\"aaxis\":{\"endlinecolor\":\"#A2B1C6\",\"gridcolor\":\"#506784\",\"linecolor\":\"#506784\",\"minorgridcolor\":\"#506784\",\"startlinecolor\":\"#A2B1C6\"},\"baxis\":{\"endlinecolor\":\"#A2B1C6\",\"gridcolor\":\"#506784\",\"linecolor\":\"#506784\",\"minorgridcolor\":\"#506784\",\"startlinecolor\":\"#A2B1C6\"},\"type\":\"carpet\"}],\"choropleth\":[{\"colorbar\":{\"outlinewidth\":0,\"ticks\":\"\"},\"type\":\"choropleth\"}],\"contourcarpet\":[{\"colorbar\":{\"outlinewidth\":0,\"ticks\":\"\"},\"type\":\"contourcarpet\"}],\"contour\":[{\"colorbar\":{\"outlinewidth\":0,\"ticks\":\"\"},\"colorscale\":[[0.0,\"#0d0887\"],[0.1111111111111111,\"#46039f\"],[0.2222222222222222,\"#7201a8\"],[0.3333333333333333,\"#9c179e\"],[0.4444444444444444,\"#bd3786\"],[0.5555555555555556,\"#d8576b\"],[0.6666666666666666,\"#ed7953\"],[0.7777777777777778,\"#fb9f3a\"],[0.8888888888888888,\"#fdca26\"],[1.0,\"#f0f921\"]],\"type\":\"contour\"}],\"heatmapgl\":[{\"colorbar\":{\"outlinewidth\":0,\"ticks\":\"\"},\"colorscale\":[[0.0,\"#0d0887\"],[0.1111111111111111,\"#46039f\"],[0.2222222222222222,\"#7201a8\"],[0.3333333333333333,\"#9c179e\"],[0.4444444444444444,\"#bd3786\"],[0.5555555555555556,\"#d8576b\"],[0.6666666666666666,\"#ed7953\"],[0.7777777777777778,\"#fb9f3a\"],[0.8888888888888888,\"#fdca26\"],[1.0,\"#f0f921\"]],\"type\":\"heatmapgl\"}],\"heatmap\":[{\"colorbar\":{\"outlinewidth\":0,\"ticks\":\"\"},\"colorscale\":[[0.0,\"#0d0887\"],[0.1111111111111111,\"#46039f\"],[0.2222222222222222,\"#7201a8\"],[0.3333333333333333,\"#9c179e\"],[0.4444444444444444,\"#bd3786\"],[0.5555555555555556,\"#d8576b\"],[0.6666666666666666,\"#ed7953\"],[0.7777777777777778,\"#fb9f3a\"],[0.8888888888888888,\"#fdca26\"],[1.0,\"#f0f921\"]],\"type\":\"heatmap\"}],\"histogram2dcontour\":[{\"colorbar\":{\"outlinewidth\":0,\"ticks\":\"\"},\"colorscale\":[[0.0,\"#0d0887\"],[0.1111111111111111,\"#46039f\"],[0.2222222222222222,\"#7201a8\"],[0.3333333333333333,\"#9c179e\"],[0.4444444444444444,\"#bd3786\"],[0.5555555555555556,\"#d8576b\"],[0.6666666666666666,\"#ed7953\"],[0.7777777777777778,\"#fb9f3a\"],[0.8888888888888888,\"#fdca26\"],[1.0,\"#f0f921\"]],\"type\":\"histogram2dcontour\"}],\"histogram2d\":[{\"colorbar\":{\"outlinewidth\":0,\"ticks\":\"\"},\"colorscale\":[[0.0,\"#0d0887\"],[0.1111111111111111,\"#46039f\"],[0.2222222222222222,\"#7201a8\"],[0.3333333333333333,\"#9c179e\"],[0.4444444444444444,\"#bd3786\"],[0.5555555555555556,\"#d8576b\"],[0.6666666666666666,\"#ed7953\"],[0.7777777777777778,\"#fb9f3a\"],[0.8888888888888888,\"#fdca26\"],[1.0,\"#f0f921\"]],\"type\":\"histogram2d\"}],\"histogram\":[{\"marker\":{\"pattern\":{\"fillmode\":\"overlay\",\"size\":10,\"solidity\":0.2}},\"type\":\"histogram\"}],\"mesh3d\":[{\"colorbar\":{\"outlinewidth\":0,\"ticks\":\"\"},\"type\":\"mesh3d\"}],\"parcoords\":[{\"line\":{\"colorbar\":{\"outlinewidth\":0,\"ticks\":\"\"}},\"type\":\"parcoords\"}],\"pie\":[{\"automargin\":true,\"type\":\"pie\"}],\"scatter3d\":[{\"line\":{\"colorbar\":{\"outlinewidth\":0,\"ticks\":\"\"}},\"marker\":{\"colorbar\":{\"outlinewidth\":0,\"ticks\":\"\"}},\"type\":\"scatter3d\"}],\"scattercarpet\":[{\"marker\":{\"colorbar\":{\"outlinewidth\":0,\"ticks\":\"\"}},\"type\":\"scattercarpet\"}],\"scattergeo\":[{\"marker\":{\"colorbar\":{\"outlinewidth\":0,\"ticks\":\"\"}},\"type\":\"scattergeo\"}],\"scattergl\":[{\"marker\":{\"line\":{\"color\":\"#283442\"}},\"type\":\"scattergl\"}],\"scattermapbox\":[{\"marker\":{\"colorbar\":{\"outlinewidth\":0,\"ticks\":\"\"}},\"type\":\"scattermapbox\"}],\"scatterpolargl\":[{\"marker\":{\"colorbar\":{\"outlinewidth\":0,\"ticks\":\"\"}},\"type\":\"scatterpolargl\"}],\"scatterpolar\":[{\"marker\":{\"colorbar\":{\"outlinewidth\":0,\"ticks\":\"\"}},\"type\":\"scatterpolar\"}],\"scatter\":[{\"marker\":{\"line\":{\"color\":\"#283442\"}},\"type\":\"scatter\"}],\"scatterternary\":[{\"marker\":{\"colorbar\":{\"outlinewidth\":0,\"ticks\":\"\"}},\"type\":\"scatterternary\"}],\"surface\":[{\"colorbar\":{\"outlinewidth\":0,\"ticks\":\"\"},\"colorscale\":[[0.0,\"#0d0887\"],[0.1111111111111111,\"#46039f\"],[0.2222222222222222,\"#7201a8\"],[0.3333333333333333,\"#9c179e\"],[0.4444444444444444,\"#bd3786\"],[0.5555555555555556,\"#d8576b\"],[0.6666666666666666,\"#ed7953\"],[0.7777777777777778,\"#fb9f3a\"],[0.8888888888888888,\"#fdca26\"],[1.0,\"#f0f921\"]],\"type\":\"surface\"}],\"table\":[{\"cells\":{\"fill\":{\"color\":\"#506784\"},\"line\":{\"color\":\"rgb(17,17,17)\"}},\"header\":{\"fill\":{\"color\":\"#2a3f5f\"},\"line\":{\"color\":\"rgb(17,17,17)\"}},\"type\":\"table\"}]},\"layout\":{\"annotationdefaults\":{\"arrowcolor\":\"#f2f5fa\",\"arrowhead\":0,\"arrowwidth\":1},\"autotypenumbers\":\"strict\",\"coloraxis\":{\"colorbar\":{\"outlinewidth\":0,\"ticks\":\"\"}},\"colorscale\":{\"diverging\":[[0,\"#8e0152\"],[0.1,\"#c51b7d\"],[0.2,\"#de77ae\"],[0.3,\"#f1b6da\"],[0.4,\"#fde0ef\"],[0.5,\"#f7f7f7\"],[0.6,\"#e6f5d0\"],[0.7,\"#b8e186\"],[0.8,\"#7fbc41\"],[0.9,\"#4d9221\"],[1,\"#276419\"]],\"sequential\":[[0.0,\"#0d0887\"],[0.1111111111111111,\"#46039f\"],[0.2222222222222222,\"#7201a8\"],[0.3333333333333333,\"#9c179e\"],[0.4444444444444444,\"#bd3786\"],[0.5555555555555556,\"#d8576b\"],[0.6666666666666666,\"#ed7953\"],[0.7777777777777778,\"#fb9f3a\"],[0.8888888888888888,\"#fdca26\"],[1.0,\"#f0f921\"]],\"sequentialminus\":[[0.0,\"#0d0887\"],[0.1111111111111111,\"#46039f\"],[0.2222222222222222,\"#7201a8\"],[0.3333333333333333,\"#9c179e\"],[0.4444444444444444,\"#bd3786\"],[0.5555555555555556,\"#d8576b\"],[0.6666666666666666,\"#ed7953\"],[0.7777777777777778,\"#fb9f3a\"],[0.8888888888888888,\"#fdca26\"],[1.0,\"#f0f921\"]]},\"colorway\":[\"#636efa\",\"#EF553B\",\"#00cc96\",\"#ab63fa\",\"#FFA15A\",\"#19d3f3\",\"#FF6692\",\"#B6E880\",\"#FF97FF\",\"#FECB52\"],\"font\":{\"color\":\"#f2f5fa\"},\"geo\":{\"bgcolor\":\"rgb(17,17,17)\",\"lakecolor\":\"rgb(17,17,17)\",\"landcolor\":\"rgb(17,17,17)\",\"showlakes\":true,\"showland\":true,\"subunitcolor\":\"#506784\"},\"hoverlabel\":{\"align\":\"left\"},\"hovermode\":\"closest\",\"mapbox\":{\"style\":\"dark\"},\"paper_bgcolor\":\"rgb(17,17,17)\",\"plot_bgcolor\":\"rgb(17,17,17)\",\"polar\":{\"angularaxis\":{\"gridcolor\":\"#506784\",\"linecolor\":\"#506784\",\"ticks\":\"\"},\"bgcolor\":\"rgb(17,17,17)\",\"radialaxis\":{\"gridcolor\":\"#506784\",\"linecolor\":\"#506784\",\"ticks\":\"\"}},\"scene\":{\"xaxis\":{\"backgroundcolor\":\"rgb(17,17,17)\",\"gridcolor\":\"#506784\",\"gridwidth\":2,\"linecolor\":\"#506784\",\"showbackground\":true,\"ticks\":\"\",\"zerolinecolor\":\"#C8D4E3\"},\"yaxis\":{\"backgroundcolor\":\"rgb(17,17,17)\",\"gridcolor\":\"#506784\",\"gridwidth\":2,\"linecolor\":\"#506784\",\"showbackground\":true,\"ticks\":\"\",\"zerolinecolor\":\"#C8D4E3\"},\"zaxis\":{\"backgroundcolor\":\"rgb(17,17,17)\",\"gridcolor\":\"#506784\",\"gridwidth\":2,\"linecolor\":\"#506784\",\"showbackground\":true,\"ticks\":\"\",\"zerolinecolor\":\"#C8D4E3\"}},\"shapedefaults\":{\"line\":{\"color\":\"#f2f5fa\"}},\"sliderdefaults\":{\"bgcolor\":\"#C8D4E3\",\"bordercolor\":\"rgb(17,17,17)\",\"borderwidth\":1,\"tickwidth\":0},\"ternary\":{\"aaxis\":{\"gridcolor\":\"#506784\",\"linecolor\":\"#506784\",\"ticks\":\"\"},\"baxis\":{\"gridcolor\":\"#506784\",\"linecolor\":\"#506784\",\"ticks\":\"\"},\"bgcolor\":\"rgb(17,17,17)\",\"caxis\":{\"gridcolor\":\"#506784\",\"linecolor\":\"#506784\",\"ticks\":\"\"}},\"title\":{\"x\":0.05},\"updatemenudefaults\":{\"bgcolor\":\"#506784\",\"borderwidth\":0},\"xaxis\":{\"automargin\":true,\"gridcolor\":\"#283442\",\"linecolor\":\"#506784\",\"ticks\":\"\",\"title\":{\"standoff\":15},\"zerolinecolor\":\"#283442\",\"zerolinewidth\":2},\"yaxis\":{\"automargin\":true,\"gridcolor\":\"#283442\",\"linecolor\":\"#506784\",\"ticks\":\"\",\"title\":{\"standoff\":15},\"zerolinecolor\":\"#283442\",\"zerolinewidth\":2}}},\"xaxis\":{\"anchor\":\"y\",\"domain\":[0.0,1.0],\"title\":{\"text\":\"Provinsi\"}},\"yaxis\":{\"anchor\":\"x\",\"domain\":[0.0,1.0],\"title\":{\"text\":\"Jumlah Produksi\"}},\"legend\":{\"title\":{\"text\":\"color\"},\"tracegroupgap\":0},\"margin\":{\"t\":60},\"barmode\":\"relative\",\"title\":{\"text\":\"Produksi Padi Berdasar Provinsi\"}},                        {\"responsive\": true}                    ).then(function(){\n",
              "                            \n",
              "var gd = document.getElementById('76121ba7-3678-49ee-9bb1-40d26eccad84');\n",
              "var x = new MutationObserver(function (mutations, observer) {{\n",
              "        var display = window.getComputedStyle(gd).display;\n",
              "        if (!display || display === 'none') {{\n",
              "            console.log([gd, 'removed!']);\n",
              "            Plotly.purge(gd);\n",
              "            observer.disconnect();\n",
              "        }}\n",
              "}});\n",
              "\n",
              "// Listen for the removal of the full notebook cells\n",
              "var notebookContainer = gd.closest('#notebook-container');\n",
              "if (notebookContainer) {{\n",
              "    x.observe(notebookContainer, {childList: true});\n",
              "}}\n",
              "\n",
              "// Listen for the clearing of the current output cell\n",
              "var outputEl = gd.closest('.output');\n",
              "if (outputEl) {{\n",
              "    x.observe(outputEl, {childList: true});\n",
              "}}\n",
              "\n",
              "                        })                };                            </script>        </div>\n",
              "</body>\n",
              "</html>"
            ]
          },
          "metadata": {}
        }
      ]
    },
    {
      "cell_type": "code",
      "source": [
        "timeline_prov = df.groupby(['Provinsi','Tahun'] )['Produksi'].sum().reset_index()\n",
        "\n",
        "fig = px.line(x = timeline_prov['Tahun'], y = timeline_prov['Produksi'],color =timeline_prov['Provinsi'], template='plotly_dark', markers=True)\n",
        "fig.update_layout(title='Produksi Padi Dari Tahun ke Tahun Berdasarkan Provinsi',\n",
        "                   xaxis_title='Tahun',\n",
        "                   yaxis_title='Jumlah Produksi')\n",
        "fig.show()"
      ],
      "metadata": {
        "colab": {
          "base_uri": "https://localhost:8080/",
          "height": 542
        },
        "id": "zHcrObQ-uzM0",
        "outputId": "07438955-3145-4652-84c7-f30793df122a"
      },
      "execution_count": 11,
      "outputs": [
        {
          "output_type": "display_data",
          "data": {
            "text/html": [
              "<html>\n",
              "<head><meta charset=\"utf-8\" /></head>\n",
              "<body>\n",
              "    <div>            <script src=\"https://cdnjs.cloudflare.com/ajax/libs/mathjax/2.7.5/MathJax.js?config=TeX-AMS-MML_SVG\"></script><script type=\"text/javascript\">if (window.MathJax) {MathJax.Hub.Config({SVG: {font: \"STIX-Web\"}});}</script>                <script type=\"text/javascript\">window.PlotlyConfig = {MathJaxConfig: 'local'};</script>\n",
              "        <script src=\"https://cdn.plot.ly/plotly-2.8.3.min.js\"></script>                <div id=\"45bf316c-ea2a-42f9-9b56-6ad9fb6ce7de\" class=\"plotly-graph-div\" style=\"height:525px; width:100%;\"></div>            <script type=\"text/javascript\">                                    window.PLOTLYENV=window.PLOTLYENV || {};                                    if (document.getElementById(\"45bf316c-ea2a-42f9-9b56-6ad9fb6ce7de\")) {                    Plotly.newPlot(                        \"45bf316c-ea2a-42f9-9b56-6ad9fb6ce7de\",                        [{\"hovertemplate\":\"color=Aceh<br>x=%{x}<br>y=%{y}<extra></extra>\",\"legendgroup\":\"Aceh\",\"line\":{\"color\":\"#636efa\",\"dash\":\"solid\"},\"marker\":{\"symbol\":\"circle\"},\"mode\":\"lines+markers\",\"name\":\"Aceh\",\"orientation\":\"v\",\"showlegend\":true,\"x\":[1993,1994,1995,1996,1997,1998,1999,2000,2001,2002,2003,2004,2005,2006,2007,2008,2009,2010,2011,2012,2013,2014,2015,2016,2017,2018,2019,2020],\"xaxis\":\"x\",\"y\":[1329536.0,1299699.0,1382905.0,1419128.0,1368074.0,1404580.0,1478712.0,1486909.0,1547499.0,1314165.0,1246614.0,1350748.0,1411650.0,1552078.0,1556858.0,1402287.0,1533369.0,1788738.0,1772962.0,1582393.0,2331046.0,1820062.0,1956940.0,2180754.0,2478922.0,1751996.94,1714437.6,1861567.1],\"yaxis\":\"y\",\"type\":\"scatter\"},{\"hovertemplate\":\"color=Bengkulu<br>x=%{x}<br>y=%{y}<extra></extra>\",\"legendgroup\":\"Bengkulu\",\"line\":{\"color\":\"#EF553B\",\"dash\":\"solid\"},\"marker\":{\"symbol\":\"circle\"},\"mode\":\"lines+markers\",\"name\":\"Bengkulu\",\"orientation\":\"v\",\"showlegend\":true,\"x\":[1993,1994,1995,1996,1997,1998,1999,2000,2001,2002,2003,2004,2005,2006,2007,2008,2009,2010,2011,2012,2013,2014,2015,2016,2017,2018,2019,2020],\"xaxis\":\"x\",\"y\":[356709.0,334232.0,377337.0,396977.0,382123.0,375533.0,381577.0,362979.0,376973.0,379818.0,413375.0,414741.0,441276.0,378377.0,470469.0,484900.0,510160.0,516869.0,502552.0,581910.0,622832.0,593194.0,578654.0,629224.0,714017.0,288810.52,296472.07,296925.16],\"yaxis\":\"y\",\"type\":\"scatter\"},{\"hovertemplate\":\"color=Jambi<br>x=%{x}<br>y=%{y}<extra></extra>\",\"legendgroup\":\"Jambi\",\"line\":{\"color\":\"#00cc96\",\"dash\":\"solid\"},\"marker\":{\"symbol\":\"circle\"},\"mode\":\"lines+markers\",\"name\":\"Jambi\",\"orientation\":\"v\",\"showlegend\":true,\"x\":[1993,1994,1995,1996,1997,1998,1999,2000,2001,2002,2003,2004,2005,2006,2007,2008,2009,2010,2011,2012,2013,2014,2015,2016,2017,2018,2019,2020],\"xaxis\":\"x\",\"y\":[607529.0,564722.0,593502.0,657650.0,572269.0,550277.0,553641.0,536779.0,556564.0,561007.0,578346.0,579404.0,579635.0,544597.0,58663.0,581704.0,644947.0,628828.0,646641.0,625164.0,664535.0,664720.0,541486.0,642095.0,678127.0,383045.74,309932.68,374376.27],\"yaxis\":\"y\",\"type\":\"scatter\"},{\"hovertemplate\":\"color=Lampung<br>x=%{x}<br>y=%{y}<extra></extra>\",\"legendgroup\":\"Lampung\",\"line\":{\"color\":\"#ab63fa\",\"dash\":\"solid\"},\"marker\":{\"symbol\":\"circle\"},\"mode\":\"lines+markers\",\"name\":\"Lampung\",\"orientation\":\"v\",\"showlegend\":true,\"x\":[1993,1994,1995,1996,1997,1998,1999,2000,2001,2002,2003,2004,2005,2006,2007,2008,2009,2010,2011,2012,2013,2014,2015,2016,2017,2018,2019,2020],\"xaxis\":\"x\",\"y\":[1646900.0,1615751.0,1943709.0,1971740.0,1753656.0,1975700.0,1801422.0,1946406.0,1992726.0,1951109.0,1966293.0,2091996.0,2124144.0,2129914.0,2308404.0,2341075.0,2673844.0,2807676.0,2940795.0,3101455.0,3207002.0,3320064.0,3641895.0,3831923.0,4090654.0,2488641.91,2164089.33,2604913.29],\"yaxis\":\"y\",\"type\":\"scatter\"},{\"hovertemplate\":\"color=Riau<br>x=%{x}<br>y=%{y}<extra></extra>\",\"legendgroup\":\"Riau\",\"line\":{\"color\":\"#FFA15A\",\"dash\":\"solid\"},\"marker\":{\"symbol\":\"circle\"},\"mode\":\"lines+markers\",\"name\":\"Riau\",\"orientation\":\"v\",\"showlegend\":true,\"x\":[1993,1994,1995,1996,1997,1998,1999,2000,2001,2002,2003,2004,2005,2006,2007,2008,2009,2010,2011,2012,2013,2014,2015,2016,2017,2018,2019,2020],\"xaxis\":\"x\",\"y\":[436297.0,445361.0,458756.0,461905.0,416135.0,370124.0,461630.0,431351.0,413391.0,396644.0,414237.0,454186.0,424095.0,42938.0,490087.0,494260.0,531429.0,574864.0,535788.0,512152.0,434144.0,385475.0,393917.0,325826.0,337421.0,266375.53,230873.97,269344.05],\"yaxis\":\"y\",\"type\":\"scatter\"},{\"hovertemplate\":\"color=Sumatera Barat<br>x=%{x}<br>y=%{y}<extra></extra>\",\"legendgroup\":\"Sumatera Barat\",\"line\":{\"color\":\"#19d3f3\",\"dash\":\"solid\"},\"marker\":{\"symbol\":\"circle\"},\"mode\":\"lines+markers\",\"name\":\"Sumatera Barat\",\"orientation\":\"v\",\"showlegend\":true,\"x\":[1993,1994,1995,1996,1997,1998,1999,2000,2001,2002,2003,2004,2005,2006,2007,2008,2009,2010,2011,2012,2013,2014,2015,2016,2017,2018,2019,2020],\"xaxis\":\"x\",\"y\":[1806424.0,1747543.0,1829192.0,1971180.0,1787719.0,1807622.0,1897678.0,1759059.0,1668955.0,1875834.0,1823739.0,1875188.0,1907390.0,1889489.0,1938120.0,1965634.0,2105790.0,2211248.0,2279602.0,2368390.0,2430384.0,2519020.0,2550609.0,2487929.0,2810425.0,1483076.48,1482996.01,1450839.74],\"yaxis\":\"y\",\"type\":\"scatter\"},{\"hovertemplate\":\"color=Sumatera Selatan<br>x=%{x}<br>y=%{y}<extra></extra>\",\"legendgroup\":\"Sumatera Selatan\",\"line\":{\"color\":\"#FF6692\",\"dash\":\"solid\"},\"marker\":{\"symbol\":\"circle\"},\"mode\":\"lines+markers\",\"name\":\"Sumatera Selatan\",\"orientation\":\"v\",\"showlegend\":true,\"x\":[1993,1994,1995,1996,1997,1998,1999,2000,2001,2002,2003,2004,2005,2006,2007,2008,2009,2010,2011,2012,2013,2014,2015,2016,2017,2018,2019,2020],\"xaxis\":\"x\",\"y\":[1409559.0,1347611.0,1557944.0,1666591.0,1577398.0,1931505.0,1789961.0,1863643.0,1723433.0,1899849.0,1977345.0,2260794.0,2320110.0,2456251.0,2753044.0,2971286.0,3125236.0,3272451.0,3384670.0,3295247.0,3676723.0,3670435.0,4247922.0,4881089.0,4807430.0,2994191.84,2603396.24,2696877.46],\"yaxis\":\"y\",\"type\":\"scatter\"},{\"hovertemplate\":\"color=Sumatera Utara<br>x=%{x}<br>y=%{y}<extra></extra>\",\"legendgroup\":\"Sumatera Utara\",\"line\":{\"color\":\"#B6E880\",\"dash\":\"solid\"},\"marker\":{\"symbol\":\"circle\"},\"mode\":\"lines+markers\",\"name\":\"Sumatera Utara\",\"orientation\":\"v\",\"showlegend\":true,\"x\":[1993,1994,1995,1996,1997,1998,1999,2000,2001,2002,2003,2004,2005,2006,2007,2008,2009,2010,2011,2012,2013,2014,2015,2016,2017,2018,2019,2020],\"xaxis\":\"x\",\"y\":[2918152.0,3079960.0,3134533.0,3136760.0,3212208.0,3321049.0,3451430.0,3514253.0,3291515.0,3153305.0,3403075.0,3418782.0,3447394.0,3007636.0,3265834.0,3340794.0,3527899.0,3582302.0,3607403.0,3715514.0,3727249.0,3631039.0,4044829.0,4387035.9,4669777.5,2108284.72,2078901.59,2076280.01],\"yaxis\":\"y\",\"type\":\"scatter\"}],                        {\"template\":{\"data\":{\"barpolar\":[{\"marker\":{\"line\":{\"color\":\"rgb(17,17,17)\",\"width\":0.5},\"pattern\":{\"fillmode\":\"overlay\",\"size\":10,\"solidity\":0.2}},\"type\":\"barpolar\"}],\"bar\":[{\"error_x\":{\"color\":\"#f2f5fa\"},\"error_y\":{\"color\":\"#f2f5fa\"},\"marker\":{\"line\":{\"color\":\"rgb(17,17,17)\",\"width\":0.5},\"pattern\":{\"fillmode\":\"overlay\",\"size\":10,\"solidity\":0.2}},\"type\":\"bar\"}],\"carpet\":[{\"aaxis\":{\"endlinecolor\":\"#A2B1C6\",\"gridcolor\":\"#506784\",\"linecolor\":\"#506784\",\"minorgridcolor\":\"#506784\",\"startlinecolor\":\"#A2B1C6\"},\"baxis\":{\"endlinecolor\":\"#A2B1C6\",\"gridcolor\":\"#506784\",\"linecolor\":\"#506784\",\"minorgridcolor\":\"#506784\",\"startlinecolor\":\"#A2B1C6\"},\"type\":\"carpet\"}],\"choropleth\":[{\"colorbar\":{\"outlinewidth\":0,\"ticks\":\"\"},\"type\":\"choropleth\"}],\"contourcarpet\":[{\"colorbar\":{\"outlinewidth\":0,\"ticks\":\"\"},\"type\":\"contourcarpet\"}],\"contour\":[{\"colorbar\":{\"outlinewidth\":0,\"ticks\":\"\"},\"colorscale\":[[0.0,\"#0d0887\"],[0.1111111111111111,\"#46039f\"],[0.2222222222222222,\"#7201a8\"],[0.3333333333333333,\"#9c179e\"],[0.4444444444444444,\"#bd3786\"],[0.5555555555555556,\"#d8576b\"],[0.6666666666666666,\"#ed7953\"],[0.7777777777777778,\"#fb9f3a\"],[0.8888888888888888,\"#fdca26\"],[1.0,\"#f0f921\"]],\"type\":\"contour\"}],\"heatmapgl\":[{\"colorbar\":{\"outlinewidth\":0,\"ticks\":\"\"},\"colorscale\":[[0.0,\"#0d0887\"],[0.1111111111111111,\"#46039f\"],[0.2222222222222222,\"#7201a8\"],[0.3333333333333333,\"#9c179e\"],[0.4444444444444444,\"#bd3786\"],[0.5555555555555556,\"#d8576b\"],[0.6666666666666666,\"#ed7953\"],[0.7777777777777778,\"#fb9f3a\"],[0.8888888888888888,\"#fdca26\"],[1.0,\"#f0f921\"]],\"type\":\"heatmapgl\"}],\"heatmap\":[{\"colorbar\":{\"outlinewidth\":0,\"ticks\":\"\"},\"colorscale\":[[0.0,\"#0d0887\"],[0.1111111111111111,\"#46039f\"],[0.2222222222222222,\"#7201a8\"],[0.3333333333333333,\"#9c179e\"],[0.4444444444444444,\"#bd3786\"],[0.5555555555555556,\"#d8576b\"],[0.6666666666666666,\"#ed7953\"],[0.7777777777777778,\"#fb9f3a\"],[0.8888888888888888,\"#fdca26\"],[1.0,\"#f0f921\"]],\"type\":\"heatmap\"}],\"histogram2dcontour\":[{\"colorbar\":{\"outlinewidth\":0,\"ticks\":\"\"},\"colorscale\":[[0.0,\"#0d0887\"],[0.1111111111111111,\"#46039f\"],[0.2222222222222222,\"#7201a8\"],[0.3333333333333333,\"#9c179e\"],[0.4444444444444444,\"#bd3786\"],[0.5555555555555556,\"#d8576b\"],[0.6666666666666666,\"#ed7953\"],[0.7777777777777778,\"#fb9f3a\"],[0.8888888888888888,\"#fdca26\"],[1.0,\"#f0f921\"]],\"type\":\"histogram2dcontour\"}],\"histogram2d\":[{\"colorbar\":{\"outlinewidth\":0,\"ticks\":\"\"},\"colorscale\":[[0.0,\"#0d0887\"],[0.1111111111111111,\"#46039f\"],[0.2222222222222222,\"#7201a8\"],[0.3333333333333333,\"#9c179e\"],[0.4444444444444444,\"#bd3786\"],[0.5555555555555556,\"#d8576b\"],[0.6666666666666666,\"#ed7953\"],[0.7777777777777778,\"#fb9f3a\"],[0.8888888888888888,\"#fdca26\"],[1.0,\"#f0f921\"]],\"type\":\"histogram2d\"}],\"histogram\":[{\"marker\":{\"pattern\":{\"fillmode\":\"overlay\",\"size\":10,\"solidity\":0.2}},\"type\":\"histogram\"}],\"mesh3d\":[{\"colorbar\":{\"outlinewidth\":0,\"ticks\":\"\"},\"type\":\"mesh3d\"}],\"parcoords\":[{\"line\":{\"colorbar\":{\"outlinewidth\":0,\"ticks\":\"\"}},\"type\":\"parcoords\"}],\"pie\":[{\"automargin\":true,\"type\":\"pie\"}],\"scatter3d\":[{\"line\":{\"colorbar\":{\"outlinewidth\":0,\"ticks\":\"\"}},\"marker\":{\"colorbar\":{\"outlinewidth\":0,\"ticks\":\"\"}},\"type\":\"scatter3d\"}],\"scattercarpet\":[{\"marker\":{\"colorbar\":{\"outlinewidth\":0,\"ticks\":\"\"}},\"type\":\"scattercarpet\"}],\"scattergeo\":[{\"marker\":{\"colorbar\":{\"outlinewidth\":0,\"ticks\":\"\"}},\"type\":\"scattergeo\"}],\"scattergl\":[{\"marker\":{\"line\":{\"color\":\"#283442\"}},\"type\":\"scattergl\"}],\"scattermapbox\":[{\"marker\":{\"colorbar\":{\"outlinewidth\":0,\"ticks\":\"\"}},\"type\":\"scattermapbox\"}],\"scatterpolargl\":[{\"marker\":{\"colorbar\":{\"outlinewidth\":0,\"ticks\":\"\"}},\"type\":\"scatterpolargl\"}],\"scatterpolar\":[{\"marker\":{\"colorbar\":{\"outlinewidth\":0,\"ticks\":\"\"}},\"type\":\"scatterpolar\"}],\"scatter\":[{\"marker\":{\"line\":{\"color\":\"#283442\"}},\"type\":\"scatter\"}],\"scatterternary\":[{\"marker\":{\"colorbar\":{\"outlinewidth\":0,\"ticks\":\"\"}},\"type\":\"scatterternary\"}],\"surface\":[{\"colorbar\":{\"outlinewidth\":0,\"ticks\":\"\"},\"colorscale\":[[0.0,\"#0d0887\"],[0.1111111111111111,\"#46039f\"],[0.2222222222222222,\"#7201a8\"],[0.3333333333333333,\"#9c179e\"],[0.4444444444444444,\"#bd3786\"],[0.5555555555555556,\"#d8576b\"],[0.6666666666666666,\"#ed7953\"],[0.7777777777777778,\"#fb9f3a\"],[0.8888888888888888,\"#fdca26\"],[1.0,\"#f0f921\"]],\"type\":\"surface\"}],\"table\":[{\"cells\":{\"fill\":{\"color\":\"#506784\"},\"line\":{\"color\":\"rgb(17,17,17)\"}},\"header\":{\"fill\":{\"color\":\"#2a3f5f\"},\"line\":{\"color\":\"rgb(17,17,17)\"}},\"type\":\"table\"}]},\"layout\":{\"annotationdefaults\":{\"arrowcolor\":\"#f2f5fa\",\"arrowhead\":0,\"arrowwidth\":1},\"autotypenumbers\":\"strict\",\"coloraxis\":{\"colorbar\":{\"outlinewidth\":0,\"ticks\":\"\"}},\"colorscale\":{\"diverging\":[[0,\"#8e0152\"],[0.1,\"#c51b7d\"],[0.2,\"#de77ae\"],[0.3,\"#f1b6da\"],[0.4,\"#fde0ef\"],[0.5,\"#f7f7f7\"],[0.6,\"#e6f5d0\"],[0.7,\"#b8e186\"],[0.8,\"#7fbc41\"],[0.9,\"#4d9221\"],[1,\"#276419\"]],\"sequential\":[[0.0,\"#0d0887\"],[0.1111111111111111,\"#46039f\"],[0.2222222222222222,\"#7201a8\"],[0.3333333333333333,\"#9c179e\"],[0.4444444444444444,\"#bd3786\"],[0.5555555555555556,\"#d8576b\"],[0.6666666666666666,\"#ed7953\"],[0.7777777777777778,\"#fb9f3a\"],[0.8888888888888888,\"#fdca26\"],[1.0,\"#f0f921\"]],\"sequentialminus\":[[0.0,\"#0d0887\"],[0.1111111111111111,\"#46039f\"],[0.2222222222222222,\"#7201a8\"],[0.3333333333333333,\"#9c179e\"],[0.4444444444444444,\"#bd3786\"],[0.5555555555555556,\"#d8576b\"],[0.6666666666666666,\"#ed7953\"],[0.7777777777777778,\"#fb9f3a\"],[0.8888888888888888,\"#fdca26\"],[1.0,\"#f0f921\"]]},\"colorway\":[\"#636efa\",\"#EF553B\",\"#00cc96\",\"#ab63fa\",\"#FFA15A\",\"#19d3f3\",\"#FF6692\",\"#B6E880\",\"#FF97FF\",\"#FECB52\"],\"font\":{\"color\":\"#f2f5fa\"},\"geo\":{\"bgcolor\":\"rgb(17,17,17)\",\"lakecolor\":\"rgb(17,17,17)\",\"landcolor\":\"rgb(17,17,17)\",\"showlakes\":true,\"showland\":true,\"subunitcolor\":\"#506784\"},\"hoverlabel\":{\"align\":\"left\"},\"hovermode\":\"closest\",\"mapbox\":{\"style\":\"dark\"},\"paper_bgcolor\":\"rgb(17,17,17)\",\"plot_bgcolor\":\"rgb(17,17,17)\",\"polar\":{\"angularaxis\":{\"gridcolor\":\"#506784\",\"linecolor\":\"#506784\",\"ticks\":\"\"},\"bgcolor\":\"rgb(17,17,17)\",\"radialaxis\":{\"gridcolor\":\"#506784\",\"linecolor\":\"#506784\",\"ticks\":\"\"}},\"scene\":{\"xaxis\":{\"backgroundcolor\":\"rgb(17,17,17)\",\"gridcolor\":\"#506784\",\"gridwidth\":2,\"linecolor\":\"#506784\",\"showbackground\":true,\"ticks\":\"\",\"zerolinecolor\":\"#C8D4E3\"},\"yaxis\":{\"backgroundcolor\":\"rgb(17,17,17)\",\"gridcolor\":\"#506784\",\"gridwidth\":2,\"linecolor\":\"#506784\",\"showbackground\":true,\"ticks\":\"\",\"zerolinecolor\":\"#C8D4E3\"},\"zaxis\":{\"backgroundcolor\":\"rgb(17,17,17)\",\"gridcolor\":\"#506784\",\"gridwidth\":2,\"linecolor\":\"#506784\",\"showbackground\":true,\"ticks\":\"\",\"zerolinecolor\":\"#C8D4E3\"}},\"shapedefaults\":{\"line\":{\"color\":\"#f2f5fa\"}},\"sliderdefaults\":{\"bgcolor\":\"#C8D4E3\",\"bordercolor\":\"rgb(17,17,17)\",\"borderwidth\":1,\"tickwidth\":0},\"ternary\":{\"aaxis\":{\"gridcolor\":\"#506784\",\"linecolor\":\"#506784\",\"ticks\":\"\"},\"baxis\":{\"gridcolor\":\"#506784\",\"linecolor\":\"#506784\",\"ticks\":\"\"},\"bgcolor\":\"rgb(17,17,17)\",\"caxis\":{\"gridcolor\":\"#506784\",\"linecolor\":\"#506784\",\"ticks\":\"\"}},\"title\":{\"x\":0.05},\"updatemenudefaults\":{\"bgcolor\":\"#506784\",\"borderwidth\":0},\"xaxis\":{\"automargin\":true,\"gridcolor\":\"#283442\",\"linecolor\":\"#506784\",\"ticks\":\"\",\"title\":{\"standoff\":15},\"zerolinecolor\":\"#283442\",\"zerolinewidth\":2},\"yaxis\":{\"automargin\":true,\"gridcolor\":\"#283442\",\"linecolor\":\"#506784\",\"ticks\":\"\",\"title\":{\"standoff\":15},\"zerolinecolor\":\"#283442\",\"zerolinewidth\":2}}},\"xaxis\":{\"anchor\":\"y\",\"domain\":[0.0,1.0],\"title\":{\"text\":\"Tahun\"}},\"yaxis\":{\"anchor\":\"x\",\"domain\":[0.0,1.0],\"title\":{\"text\":\"Jumlah Produksi\"}},\"legend\":{\"title\":{\"text\":\"color\"},\"tracegroupgap\":0},\"margin\":{\"t\":60},\"title\":{\"text\":\"Produksi Padi Dari Tahun ke Tahun Berdasarkan Provinsi\"}},                        {\"responsive\": true}                    ).then(function(){\n",
              "                            \n",
              "var gd = document.getElementById('45bf316c-ea2a-42f9-9b56-6ad9fb6ce7de');\n",
              "var x = new MutationObserver(function (mutations, observer) {{\n",
              "        var display = window.getComputedStyle(gd).display;\n",
              "        if (!display || display === 'none') {{\n",
              "            console.log([gd, 'removed!']);\n",
              "            Plotly.purge(gd);\n",
              "            observer.disconnect();\n",
              "        }}\n",
              "}});\n",
              "\n",
              "// Listen for the removal of the full notebook cells\n",
              "var notebookContainer = gd.closest('#notebook-container');\n",
              "if (notebookContainer) {{\n",
              "    x.observe(notebookContainer, {childList: true});\n",
              "}}\n",
              "\n",
              "// Listen for the clearing of the current output cell\n",
              "var outputEl = gd.closest('.output');\n",
              "if (outputEl) {{\n",
              "    x.observe(outputEl, {childList: true});\n",
              "}}\n",
              "\n",
              "                        })                };                            </script>        </div>\n",
              "</body>\n",
              "</html>"
            ]
          },
          "metadata": {}
        }
      ]
    },
    {
      "cell_type": "code",
      "source": [
        "\n",
        "fig = px.scatter(df, x=\"Luas Panen\", y=\"Produksi\",template='plotly_dark', color=\"Provinsi\")\n",
        "fig.show()"
      ],
      "metadata": {
        "colab": {
          "base_uri": "https://localhost:8080/",
          "height": 542
        },
        "id": "hU3VP8N_w8Q6",
        "outputId": "61550c08-ef68-4b6c-8d33-8f158e7e86cd"
      },
      "execution_count": 12,
      "outputs": [
        {
          "output_type": "display_data",
          "data": {
            "text/html": [
              "<html>\n",
              "<head><meta charset=\"utf-8\" /></head>\n",
              "<body>\n",
              "    <div>            <script src=\"https://cdnjs.cloudflare.com/ajax/libs/mathjax/2.7.5/MathJax.js?config=TeX-AMS-MML_SVG\"></script><script type=\"text/javascript\">if (window.MathJax) {MathJax.Hub.Config({SVG: {font: \"STIX-Web\"}});}</script>                <script type=\"text/javascript\">window.PlotlyConfig = {MathJaxConfig: 'local'};</script>\n",
              "        <script src=\"https://cdn.plot.ly/plotly-2.8.3.min.js\"></script>                <div id=\"b252399a-107c-4af7-ac36-d596a57f2089\" class=\"plotly-graph-div\" style=\"height:525px; width:100%;\"></div>            <script type=\"text/javascript\">                                    window.PLOTLYENV=window.PLOTLYENV || {};                                    if (document.getElementById(\"b252399a-107c-4af7-ac36-d596a57f2089\")) {                    Plotly.newPlot(                        \"b252399a-107c-4af7-ac36-d596a57f2089\",                        [{\"hovertemplate\":\"Provinsi=Aceh<br>Luas Panen=%{x}<br>Produksi=%{y}<extra></extra>\",\"legendgroup\":\"Aceh\",\"marker\":{\"color\":\"#636efa\",\"symbol\":\"circle\"},\"mode\":\"markers\",\"name\":\"Aceh\",\"orientation\":\"v\",\"showlegend\":true,\"x\":[323589.0,329041.0,339253.0,348223.0,337561.0,365892.0,359817.0,336765.0,295212.0,315131.0,367636.0,370966.0,337893.0,320789.0,360717.0,329109.0,359375.0,352281.0,380686.0,387803.0,419183.0,376137.0,461060.0,293067.0,294483.0,329515.78,310012.46,317869.41],\"xaxis\":\"x\",\"y\":[1329536.0,1299699.0,1382905.0,1419128.0,1368074.0,1404580.0,1478712.0,1486909.0,1547499.0,1314165.0,1246614.0,1350748.0,1411650.0,1552078.0,1556858.0,1402287.0,1533369.0,1788738.0,1772962.0,1582393.0,2331046.0,1820062.0,1956940.0,2180754.0,2478922.0,1751996.94,1714437.6,1861567.1],\"yaxis\":\"y\",\"type\":\"scatter\"},{\"hovertemplate\":\"Provinsi=Sumatera Utara<br>Luas Panen=%{x}<br>Produksi=%{y}<extra></extra>\",\"legendgroup\":\"Sumatera Utara\",\"marker\":{\"color\":\"#EF553B\",\"symbol\":\"circle\"},\"mode\":\"markers\",\"name\":\"Sumatera Utara\",\"orientation\":\"v\",\"showlegend\":true,\"x\":[754569.0,792534.0,795183.0,790051.0,797545.0,823749.0,838626.0,847610.0,801948.0,765161.0,825188.0,826091.0,822073.0,705023.0,750232.0,748540.0,768407.0,754674.0,757547.0,765099.0,742968.0,717318.0,781769.0,423029.0,415675.0,408176.45,413141.24,388591.22],\"xaxis\":\"x\",\"y\":[2918152.0,3079960.0,3134533.0,3136760.0,3212208.0,3321049.0,3451430.0,3514253.0,3291515.0,3153305.0,3403075.0,3418782.0,3447394.0,3007636.0,3265834.0,3340794.0,3527899.0,3582302.0,3607403.0,3715514.0,3727249.0,3631039.0,4044829.0,4387035.9,4669777.5,2108284.72,2078901.59,2076280.01],\"yaxis\":\"y\",\"type\":\"scatter\"},{\"hovertemplate\":\"Provinsi=Sumatera Barat<br>Luas Panen=%{x}<br>Produksi=%{y}<extra></extra>\",\"legendgroup\":\"Sumatera Barat\",\"marker\":{\"color\":\"#00cc96\",\"symbol\":\"circle\"},\"mode\":\"markers\",\"name\":\"Sumatera Barat\",\"orientation\":\"v\",\"showlegend\":true,\"x\":[394412.0,382740.0,400627.0,430343.0,395728.0,412810.0,432254.0,396919.0,376710.0,424253.0,411860.0,422582.0,426950.0,417846.0,423655.0,421902.0,439542.0,460497.0,461709.0,476422.0,487820.0,503198.0,507545.0,222482.0,222021.0,313050.82,311671.23,295664.47],\"xaxis\":\"x\",\"y\":[1806424.0,1747543.0,1829192.0,1971180.0,1787719.0,1807622.0,1897678.0,1759059.0,1668955.0,1875834.0,1823739.0,1875188.0,1907390.0,1889489.0,1938120.0,1965634.0,2105790.0,2211248.0,2279602.0,2368390.0,2430384.0,2519020.0,2550609.0,2487929.0,2810425.0,1483076.48,1482996.01,1450839.74],\"yaxis\":\"y\",\"type\":\"scatter\"},{\"hovertemplate\":\"Provinsi=Riau<br>Luas Panen=%{x}<br>Produksi=%{y}<extra></extra>\",\"legendgroup\":\"Riau\",\"marker\":{\"color\":\"#ab63fa\",\"symbol\":\"circle\"},\"mode\":\"markers\",\"name\":\"Riau\",\"orientation\":\"v\",\"showlegend\":true,\"x\":[146133.0,146177.0,152204.0,150354.0,137953.0,126280.0,155683.0,141640.0,132507.0,129025.0,132887.0,145239.0,134418.0,136177.0,147167.0,147796.0,149423.0,156088.0,145242.0,144015.0,118518.0,106037.0,107546.0,72151.0,70016.0,71448.08,63142.04,64733.13],\"xaxis\":\"x\",\"y\":[436297.0,445361.0,458756.0,461905.0,416135.0,370124.0,461630.0,431351.0,413391.0,396644.0,414237.0,454186.0,424095.0,42938.0,490087.0,494260.0,531429.0,574864.0,535788.0,512152.0,434144.0,385475.0,393917.0,325826.0,337421.0,266375.53,230873.97,269344.05],\"yaxis\":\"y\",\"type\":\"scatter\"},{\"hovertemplate\":\"Provinsi=Jambi<br>Luas Panen=%{x}<br>Produksi=%{y}<extra></extra>\",\"legendgroup\":\"Jambi\",\"marker\":{\"color\":\"#FFA15A\",\"symbol\":\"circle\"},\"mode\":\"markers\",\"name\":\"Jambi\",\"orientation\":\"v\",\"showlegend\":true,\"x\":[199431.0,184029.0,193666.0,215975.0,190608.0,178766.0,178307.0,171395.0,164826.0,165729.0,159463.0,156803.0,154941.0,140613.0,149888.0,143034.0,155802.0,153897.0,157441.0,149369.0,153243.0,145990.0,122214.0,96588.0,97690.0,86202.68,69536.06,84772.93],\"xaxis\":\"x\",\"y\":[607529.0,564722.0,593502.0,657650.0,572269.0,550277.0,553641.0,536779.0,556564.0,561007.0,578346.0,579404.0,579635.0,544597.0,58663.0,581704.0,644947.0,628828.0,646641.0,625164.0,664535.0,664720.0,541486.0,642095.0,678127.0,383045.74,309932.68,374376.27],\"yaxis\":\"y\",\"type\":\"scatter\"},{\"hovertemplate\":\"Provinsi=Sumatera Selatan<br>Luas Panen=%{x}<br>Produksi=%{y}<extra></extra>\",\"legendgroup\":\"Sumatera Selatan\",\"marker\":{\"color\":\"#19d3f3\",\"symbol\":\"circle\"},\"mode\":\"markers\",\"name\":\"Sumatera Selatan\",\"orientation\":\"v\",\"showlegend\":true,\"x\":[439895.0,422109.0,492448.0,495958.0,469670.0,621829.0,530692.0,555427.0,511928.0,561724.0,570010.0,625013.0,626849.0,646927.0,691467.0,718797.0,746465.0,769478.0,784820.0,769725.0,800036.0,810900.0,872737.0,615184.0,621903.0,581574.61,539316.52,551320.76],\"xaxis\":\"x\",\"y\":[1409559.0,1347611.0,1557944.0,1666591.0,1577398.0,1931505.0,1789961.0,1863643.0,1723433.0,1899849.0,1977345.0,2260794.0,2320110.0,2456251.0,2753044.0,2971286.0,3125236.0,3272451.0,3384670.0,3295247.0,3676723.0,3670435.0,4247922.0,4881089.0,4807430.0,2994191.84,2603396.24,2696877.46],\"yaxis\":\"y\",\"type\":\"scatter\"},{\"hovertemplate\":\"Provinsi=Bengkulu<br>Luas Panen=%{x}<br>Produksi=%{y}<extra></extra>\",\"legendgroup\":\"Bengkulu\",\"marker\":{\"color\":\"#FF6692\",\"symbol\":\"circle\"},\"mode\":\"markers\",\"name\":\"Bengkulu\",\"orientation\":\"v\",\"showlegend\":true,\"x\":[109807.0,104747.0,115914.0,121929.0,113915.0,111158.0,114788.0,108751.0,105212.0,109519.0,110550.0,110929.0,116818.0,100991.0,123853.0,127506.0,132975.0,133629.0,127934.0,144448.0,147680.0,147572.0,128833.0,83449.0,82429.0,65891.16,64406.86,64137.28],\"xaxis\":\"x\",\"y\":[356709.0,334232.0,377337.0,396977.0,382123.0,375533.0,381577.0,362979.0,376973.0,379818.0,413375.0,414741.0,441276.0,378377.0,470469.0,484900.0,510160.0,516869.0,502552.0,581910.0,622832.0,593194.0,578654.0,629224.0,714017.0,288810.52,296472.07,296925.16],\"yaxis\":\"y\",\"type\":\"scatter\"},{\"hovertemplate\":\"Provinsi=Lampung<br>Luas Panen=%{x}<br>Produksi=%{y}<extra></extra>\",\"legendgroup\":\"Lampung\",\"marker\":{\"color\":\"#B6E880\",\"symbol\":\"circle\"},\"mode\":\"markers\",\"name\":\"Lampung\",\"orientation\":\"v\",\"showlegend\":true,\"x\":[433078.0,425940.0,514363.0,515192.0,454087.0,521575.0,476899.0,496879.0,501119.0,475461.0,472635.0,495519.0,496538.0,494102.0,524955.0,506547.0,570417.0,590608.0,606973.0,641876.0,638090.0,648731.0,707266.0,390799.0,396559.0,511940.93,464103.42,545149.05],\"xaxis\":\"x\",\"y\":[1646900.0,1615751.0,1943709.0,1971740.0,1753656.0,1975700.0,1801422.0,1946406.0,1992726.0,1951109.0,1966293.0,2091996.0,2124144.0,2129914.0,2308404.0,2341075.0,2673844.0,2807676.0,2940795.0,3101455.0,3207002.0,3320064.0,3641895.0,3831923.0,4090654.0,2488641.91,2164089.33,2604913.29],\"yaxis\":\"y\",\"type\":\"scatter\"}],                        {\"template\":{\"data\":{\"barpolar\":[{\"marker\":{\"line\":{\"color\":\"rgb(17,17,17)\",\"width\":0.5},\"pattern\":{\"fillmode\":\"overlay\",\"size\":10,\"solidity\":0.2}},\"type\":\"barpolar\"}],\"bar\":[{\"error_x\":{\"color\":\"#f2f5fa\"},\"error_y\":{\"color\":\"#f2f5fa\"},\"marker\":{\"line\":{\"color\":\"rgb(17,17,17)\",\"width\":0.5},\"pattern\":{\"fillmode\":\"overlay\",\"size\":10,\"solidity\":0.2}},\"type\":\"bar\"}],\"carpet\":[{\"aaxis\":{\"endlinecolor\":\"#A2B1C6\",\"gridcolor\":\"#506784\",\"linecolor\":\"#506784\",\"minorgridcolor\":\"#506784\",\"startlinecolor\":\"#A2B1C6\"},\"baxis\":{\"endlinecolor\":\"#A2B1C6\",\"gridcolor\":\"#506784\",\"linecolor\":\"#506784\",\"minorgridcolor\":\"#506784\",\"startlinecolor\":\"#A2B1C6\"},\"type\":\"carpet\"}],\"choropleth\":[{\"colorbar\":{\"outlinewidth\":0,\"ticks\":\"\"},\"type\":\"choropleth\"}],\"contourcarpet\":[{\"colorbar\":{\"outlinewidth\":0,\"ticks\":\"\"},\"type\":\"contourcarpet\"}],\"contour\":[{\"colorbar\":{\"outlinewidth\":0,\"ticks\":\"\"},\"colorscale\":[[0.0,\"#0d0887\"],[0.1111111111111111,\"#46039f\"],[0.2222222222222222,\"#7201a8\"],[0.3333333333333333,\"#9c179e\"],[0.4444444444444444,\"#bd3786\"],[0.5555555555555556,\"#d8576b\"],[0.6666666666666666,\"#ed7953\"],[0.7777777777777778,\"#fb9f3a\"],[0.8888888888888888,\"#fdca26\"],[1.0,\"#f0f921\"]],\"type\":\"contour\"}],\"heatmapgl\":[{\"colorbar\":{\"outlinewidth\":0,\"ticks\":\"\"},\"colorscale\":[[0.0,\"#0d0887\"],[0.1111111111111111,\"#46039f\"],[0.2222222222222222,\"#7201a8\"],[0.3333333333333333,\"#9c179e\"],[0.4444444444444444,\"#bd3786\"],[0.5555555555555556,\"#d8576b\"],[0.6666666666666666,\"#ed7953\"],[0.7777777777777778,\"#fb9f3a\"],[0.8888888888888888,\"#fdca26\"],[1.0,\"#f0f921\"]],\"type\":\"heatmapgl\"}],\"heatmap\":[{\"colorbar\":{\"outlinewidth\":0,\"ticks\":\"\"},\"colorscale\":[[0.0,\"#0d0887\"],[0.1111111111111111,\"#46039f\"],[0.2222222222222222,\"#7201a8\"],[0.3333333333333333,\"#9c179e\"],[0.4444444444444444,\"#bd3786\"],[0.5555555555555556,\"#d8576b\"],[0.6666666666666666,\"#ed7953\"],[0.7777777777777778,\"#fb9f3a\"],[0.8888888888888888,\"#fdca26\"],[1.0,\"#f0f921\"]],\"type\":\"heatmap\"}],\"histogram2dcontour\":[{\"colorbar\":{\"outlinewidth\":0,\"ticks\":\"\"},\"colorscale\":[[0.0,\"#0d0887\"],[0.1111111111111111,\"#46039f\"],[0.2222222222222222,\"#7201a8\"],[0.3333333333333333,\"#9c179e\"],[0.4444444444444444,\"#bd3786\"],[0.5555555555555556,\"#d8576b\"],[0.6666666666666666,\"#ed7953\"],[0.7777777777777778,\"#fb9f3a\"],[0.8888888888888888,\"#fdca26\"],[1.0,\"#f0f921\"]],\"type\":\"histogram2dcontour\"}],\"histogram2d\":[{\"colorbar\":{\"outlinewidth\":0,\"ticks\":\"\"},\"colorscale\":[[0.0,\"#0d0887\"],[0.1111111111111111,\"#46039f\"],[0.2222222222222222,\"#7201a8\"],[0.3333333333333333,\"#9c179e\"],[0.4444444444444444,\"#bd3786\"],[0.5555555555555556,\"#d8576b\"],[0.6666666666666666,\"#ed7953\"],[0.7777777777777778,\"#fb9f3a\"],[0.8888888888888888,\"#fdca26\"],[1.0,\"#f0f921\"]],\"type\":\"histogram2d\"}],\"histogram\":[{\"marker\":{\"pattern\":{\"fillmode\":\"overlay\",\"size\":10,\"solidity\":0.2}},\"type\":\"histogram\"}],\"mesh3d\":[{\"colorbar\":{\"outlinewidth\":0,\"ticks\":\"\"},\"type\":\"mesh3d\"}],\"parcoords\":[{\"line\":{\"colorbar\":{\"outlinewidth\":0,\"ticks\":\"\"}},\"type\":\"parcoords\"}],\"pie\":[{\"automargin\":true,\"type\":\"pie\"}],\"scatter3d\":[{\"line\":{\"colorbar\":{\"outlinewidth\":0,\"ticks\":\"\"}},\"marker\":{\"colorbar\":{\"outlinewidth\":0,\"ticks\":\"\"}},\"type\":\"scatter3d\"}],\"scattercarpet\":[{\"marker\":{\"colorbar\":{\"outlinewidth\":0,\"ticks\":\"\"}},\"type\":\"scattercarpet\"}],\"scattergeo\":[{\"marker\":{\"colorbar\":{\"outlinewidth\":0,\"ticks\":\"\"}},\"type\":\"scattergeo\"}],\"scattergl\":[{\"marker\":{\"line\":{\"color\":\"#283442\"}},\"type\":\"scattergl\"}],\"scattermapbox\":[{\"marker\":{\"colorbar\":{\"outlinewidth\":0,\"ticks\":\"\"}},\"type\":\"scattermapbox\"}],\"scatterpolargl\":[{\"marker\":{\"colorbar\":{\"outlinewidth\":0,\"ticks\":\"\"}},\"type\":\"scatterpolargl\"}],\"scatterpolar\":[{\"marker\":{\"colorbar\":{\"outlinewidth\":0,\"ticks\":\"\"}},\"type\":\"scatterpolar\"}],\"scatter\":[{\"marker\":{\"line\":{\"color\":\"#283442\"}},\"type\":\"scatter\"}],\"scatterternary\":[{\"marker\":{\"colorbar\":{\"outlinewidth\":0,\"ticks\":\"\"}},\"type\":\"scatterternary\"}],\"surface\":[{\"colorbar\":{\"outlinewidth\":0,\"ticks\":\"\"},\"colorscale\":[[0.0,\"#0d0887\"],[0.1111111111111111,\"#46039f\"],[0.2222222222222222,\"#7201a8\"],[0.3333333333333333,\"#9c179e\"],[0.4444444444444444,\"#bd3786\"],[0.5555555555555556,\"#d8576b\"],[0.6666666666666666,\"#ed7953\"],[0.7777777777777778,\"#fb9f3a\"],[0.8888888888888888,\"#fdca26\"],[1.0,\"#f0f921\"]],\"type\":\"surface\"}],\"table\":[{\"cells\":{\"fill\":{\"color\":\"#506784\"},\"line\":{\"color\":\"rgb(17,17,17)\"}},\"header\":{\"fill\":{\"color\":\"#2a3f5f\"},\"line\":{\"color\":\"rgb(17,17,17)\"}},\"type\":\"table\"}]},\"layout\":{\"annotationdefaults\":{\"arrowcolor\":\"#f2f5fa\",\"arrowhead\":0,\"arrowwidth\":1},\"autotypenumbers\":\"strict\",\"coloraxis\":{\"colorbar\":{\"outlinewidth\":0,\"ticks\":\"\"}},\"colorscale\":{\"diverging\":[[0,\"#8e0152\"],[0.1,\"#c51b7d\"],[0.2,\"#de77ae\"],[0.3,\"#f1b6da\"],[0.4,\"#fde0ef\"],[0.5,\"#f7f7f7\"],[0.6,\"#e6f5d0\"],[0.7,\"#b8e186\"],[0.8,\"#7fbc41\"],[0.9,\"#4d9221\"],[1,\"#276419\"]],\"sequential\":[[0.0,\"#0d0887\"],[0.1111111111111111,\"#46039f\"],[0.2222222222222222,\"#7201a8\"],[0.3333333333333333,\"#9c179e\"],[0.4444444444444444,\"#bd3786\"],[0.5555555555555556,\"#d8576b\"],[0.6666666666666666,\"#ed7953\"],[0.7777777777777778,\"#fb9f3a\"],[0.8888888888888888,\"#fdca26\"],[1.0,\"#f0f921\"]],\"sequentialminus\":[[0.0,\"#0d0887\"],[0.1111111111111111,\"#46039f\"],[0.2222222222222222,\"#7201a8\"],[0.3333333333333333,\"#9c179e\"],[0.4444444444444444,\"#bd3786\"],[0.5555555555555556,\"#d8576b\"],[0.6666666666666666,\"#ed7953\"],[0.7777777777777778,\"#fb9f3a\"],[0.8888888888888888,\"#fdca26\"],[1.0,\"#f0f921\"]]},\"colorway\":[\"#636efa\",\"#EF553B\",\"#00cc96\",\"#ab63fa\",\"#FFA15A\",\"#19d3f3\",\"#FF6692\",\"#B6E880\",\"#FF97FF\",\"#FECB52\"],\"font\":{\"color\":\"#f2f5fa\"},\"geo\":{\"bgcolor\":\"rgb(17,17,17)\",\"lakecolor\":\"rgb(17,17,17)\",\"landcolor\":\"rgb(17,17,17)\",\"showlakes\":true,\"showland\":true,\"subunitcolor\":\"#506784\"},\"hoverlabel\":{\"align\":\"left\"},\"hovermode\":\"closest\",\"mapbox\":{\"style\":\"dark\"},\"paper_bgcolor\":\"rgb(17,17,17)\",\"plot_bgcolor\":\"rgb(17,17,17)\",\"polar\":{\"angularaxis\":{\"gridcolor\":\"#506784\",\"linecolor\":\"#506784\",\"ticks\":\"\"},\"bgcolor\":\"rgb(17,17,17)\",\"radialaxis\":{\"gridcolor\":\"#506784\",\"linecolor\":\"#506784\",\"ticks\":\"\"}},\"scene\":{\"xaxis\":{\"backgroundcolor\":\"rgb(17,17,17)\",\"gridcolor\":\"#506784\",\"gridwidth\":2,\"linecolor\":\"#506784\",\"showbackground\":true,\"ticks\":\"\",\"zerolinecolor\":\"#C8D4E3\"},\"yaxis\":{\"backgroundcolor\":\"rgb(17,17,17)\",\"gridcolor\":\"#506784\",\"gridwidth\":2,\"linecolor\":\"#506784\",\"showbackground\":true,\"ticks\":\"\",\"zerolinecolor\":\"#C8D4E3\"},\"zaxis\":{\"backgroundcolor\":\"rgb(17,17,17)\",\"gridcolor\":\"#506784\",\"gridwidth\":2,\"linecolor\":\"#506784\",\"showbackground\":true,\"ticks\":\"\",\"zerolinecolor\":\"#C8D4E3\"}},\"shapedefaults\":{\"line\":{\"color\":\"#f2f5fa\"}},\"sliderdefaults\":{\"bgcolor\":\"#C8D4E3\",\"bordercolor\":\"rgb(17,17,17)\",\"borderwidth\":1,\"tickwidth\":0},\"ternary\":{\"aaxis\":{\"gridcolor\":\"#506784\",\"linecolor\":\"#506784\",\"ticks\":\"\"},\"baxis\":{\"gridcolor\":\"#506784\",\"linecolor\":\"#506784\",\"ticks\":\"\"},\"bgcolor\":\"rgb(17,17,17)\",\"caxis\":{\"gridcolor\":\"#506784\",\"linecolor\":\"#506784\",\"ticks\":\"\"}},\"title\":{\"x\":0.05},\"updatemenudefaults\":{\"bgcolor\":\"#506784\",\"borderwidth\":0},\"xaxis\":{\"automargin\":true,\"gridcolor\":\"#283442\",\"linecolor\":\"#506784\",\"ticks\":\"\",\"title\":{\"standoff\":15},\"zerolinecolor\":\"#283442\",\"zerolinewidth\":2},\"yaxis\":{\"automargin\":true,\"gridcolor\":\"#283442\",\"linecolor\":\"#506784\",\"ticks\":\"\",\"title\":{\"standoff\":15},\"zerolinecolor\":\"#283442\",\"zerolinewidth\":2}}},\"xaxis\":{\"anchor\":\"y\",\"domain\":[0.0,1.0],\"title\":{\"text\":\"Luas Panen\"}},\"yaxis\":{\"anchor\":\"x\",\"domain\":[0.0,1.0],\"title\":{\"text\":\"Produksi\"}},\"legend\":{\"title\":{\"text\":\"Provinsi\"},\"tracegroupgap\":0},\"margin\":{\"t\":60}},                        {\"responsive\": true}                    ).then(function(){\n",
              "                            \n",
              "var gd = document.getElementById('b252399a-107c-4af7-ac36-d596a57f2089');\n",
              "var x = new MutationObserver(function (mutations, observer) {{\n",
              "        var display = window.getComputedStyle(gd).display;\n",
              "        if (!display || display === 'none') {{\n",
              "            console.log([gd, 'removed!']);\n",
              "            Plotly.purge(gd);\n",
              "            observer.disconnect();\n",
              "        }}\n",
              "}});\n",
              "\n",
              "// Listen for the removal of the full notebook cells\n",
              "var notebookContainer = gd.closest('#notebook-container');\n",
              "if (notebookContainer) {{\n",
              "    x.observe(notebookContainer, {childList: true});\n",
              "}}\n",
              "\n",
              "// Listen for the clearing of the current output cell\n",
              "var outputEl = gd.closest('.output');\n",
              "if (outputEl) {{\n",
              "    x.observe(outputEl, {childList: true});\n",
              "}}\n",
              "\n",
              "                        })                };                            </script>        </div>\n",
              "</body>\n",
              "</html>"
            ]
          },
          "metadata": {}
        }
      ]
    },
    {
      "cell_type": "code",
      "source": [
        "fig = px.scatter(df, x=\"Curah hujan\", y=\"Produksi\",template='plotly_dark')\n",
        "fig.show()"
      ],
      "metadata": {
        "colab": {
          "base_uri": "https://localhost:8080/",
          "height": 542
        },
        "id": "S4wvF6mxy8LE",
        "outputId": "3143b83f-40f4-4624-d145-71af7bee2b6a"
      },
      "execution_count": 13,
      "outputs": [
        {
          "output_type": "display_data",
          "data": {
            "text/html": [
              "<html>\n",
              "<head><meta charset=\"utf-8\" /></head>\n",
              "<body>\n",
              "    <div>            <script src=\"https://cdnjs.cloudflare.com/ajax/libs/mathjax/2.7.5/MathJax.js?config=TeX-AMS-MML_SVG\"></script><script type=\"text/javascript\">if (window.MathJax) {MathJax.Hub.Config({SVG: {font: \"STIX-Web\"}});}</script>                <script type=\"text/javascript\">window.PlotlyConfig = {MathJaxConfig: 'local'};</script>\n",
              "        <script src=\"https://cdn.plot.ly/plotly-2.8.3.min.js\"></script>                <div id=\"ea4963d5-81e0-419d-b1f5-e0397a4bca95\" class=\"plotly-graph-div\" style=\"height:525px; width:100%;\"></div>            <script type=\"text/javascript\">                                    window.PLOTLYENV=window.PLOTLYENV || {};                                    if (document.getElementById(\"ea4963d5-81e0-419d-b1f5-e0397a4bca95\")) {                    Plotly.newPlot(                        \"ea4963d5-81e0-419d-b1f5-e0397a4bca95\",                        [{\"hovertemplate\":\"Curah hujan=%{x}<br>Produksi=%{y}<extra></extra>\",\"legendgroup\":\"\",\"marker\":{\"color\":\"#636efa\",\"symbol\":\"circle\"},\"mode\":\"markers\",\"name\":\"\",\"orientation\":\"v\",\"showlegend\":false,\"x\":[1627.0,1521.0,1476.0,1557.0,1339.0,1465.0,1778.0,1974.7,1688.7,1296.8,1507.2,1097.0,710.5,506.5,1414.0,1270.4,1577.0,1986.0,1268.0,1098.0,1623.6,2264.4,1575.0,1096.0,1905.9,1427.8,1931.4,1619.2,2549.4,2166.5,2917.1,2326.5,1865.0,2496.9,3087.3,1289.5,3595.3,1944.9,3140.2,2406.9,776.7,222.5,2513.0,2442.0,2184.0,1903.3,2042.0,3175.0,2627.0,2148.0,975.9,2384.0,3190.0,2431.0,1401.6,1648.3,5110.0,4869.5,5022.0,3866.0,2945.1,5522.0,4327.5,3040.6,2811.0,4241.2,4927.2,4584.2,1533.6,776.0,4329.0,2552.5,4691.0,5228.0,4959.5,4339.0,4627.9,2838.4,3548.0,4205.2,4553.0,327.33,4757.5,4072.7,2738.4,1991.3,3099.9,2259.5,1510.4,2233.0,2045.3,2478.2,2441.7,3123.8,3822.8,2540.1,1996.3,537.6,3216.3,3026.2,3390.0,3390.0,2405.0,2636.0,2628.0,2343.0,2048.3,2105.6,2982.9,1837.1,1608.3,2584.9,1954.0,1824.0,2290.1,2309.1,1030.1,2383.8,2429.3,840.3,2515.2,2044.5,2508.1,2561.0,1015.7,424.7,2394.0,2230.0,2299.0,3207.0,2295.0,1874.0,2093.0,1781.0,1694.9,1502.4,2193.2,2182.3,1773.4,2303.8,2815.0,1800.0,2800.0,2614.0,1558.3,2539.3,2704.7,2632.5,2837.5,2368.2,2674.0,2182.6,1356.9,1442.0,2364.7,2685.7,2389.0,3396.0,2593.0,3083.0,3409.0,1668.3,1947.2,3477.9,2489.5,2252.4,1655.5,2300.2,4150.0,2043.0,4478.0,3931.0,1167.0,4114.0,3084.0,3254.0,3010.0,3076.0,3030.0,3277.0,3375.2,2313.8,3150.0,3396.0,3850.0,3822.0,2465.7,2545.0,3980.9,3323.0,2668.9,3350.1,3949.8,3649.9,1786.2,4144.0,2306.7,2034.2,3039.4,1934.9,1253.3,2584.9,2364.7,1488.5,2013.1,2143.5,1682.2,2042.9,1612.8,560.3,1941.4,1940.1,1789.0,2710.0,1568.0,1685.0,2456.7,1682.5,1628.1,2317.6,1825.1,1385.8,1706.4,2211.3],\"xaxis\":\"x\",\"y\":[1329536.0,1299699.0,1382905.0,1419128.0,1368074.0,1404580.0,1478712.0,1486909.0,1547499.0,1314165.0,1246614.0,1350748.0,1411650.0,1552078.0,1556858.0,1402287.0,1533369.0,1788738.0,1772962.0,1582393.0,2331046.0,1820062.0,1956940.0,2180754.0,2478922.0,1751996.94,1714437.6,1861567.1,2918152.0,3079960.0,3134533.0,3136760.0,3212208.0,3321049.0,3451430.0,3514253.0,3291515.0,3153305.0,3403075.0,3418782.0,3447394.0,3007636.0,3265834.0,3340794.0,3527899.0,3582302.0,3607403.0,3715514.0,3727249.0,3631039.0,4044829.0,4387035.9,4669777.5,2108284.72,2078901.59,2076280.01,1806424.0,1747543.0,1829192.0,1971180.0,1787719.0,1807622.0,1897678.0,1759059.0,1668955.0,1875834.0,1823739.0,1875188.0,1907390.0,1889489.0,1938120.0,1965634.0,2105790.0,2211248.0,2279602.0,2368390.0,2430384.0,2519020.0,2550609.0,2487929.0,2810425.0,1483076.48,1482996.01,1450839.74,436297.0,445361.0,458756.0,461905.0,416135.0,370124.0,461630.0,431351.0,413391.0,396644.0,414237.0,454186.0,424095.0,42938.0,490087.0,494260.0,531429.0,574864.0,535788.0,512152.0,434144.0,385475.0,393917.0,325826.0,337421.0,266375.53,230873.97,269344.05,607529.0,564722.0,593502.0,657650.0,572269.0,550277.0,553641.0,536779.0,556564.0,561007.0,578346.0,579404.0,579635.0,544597.0,58663.0,581704.0,644947.0,628828.0,646641.0,625164.0,664535.0,664720.0,541486.0,642095.0,678127.0,383045.74,309932.68,374376.27,1409559.0,1347611.0,1557944.0,1666591.0,1577398.0,1931505.0,1789961.0,1863643.0,1723433.0,1899849.0,1977345.0,2260794.0,2320110.0,2456251.0,2753044.0,2971286.0,3125236.0,3272451.0,3384670.0,3295247.0,3676723.0,3670435.0,4247922.0,4881089.0,4807430.0,2994191.84,2603396.24,2696877.46,356709.0,334232.0,377337.0,396977.0,382123.0,375533.0,381577.0,362979.0,376973.0,379818.0,413375.0,414741.0,441276.0,378377.0,470469.0,484900.0,510160.0,516869.0,502552.0,581910.0,622832.0,593194.0,578654.0,629224.0,714017.0,288810.52,296472.07,296925.16,1646900.0,1615751.0,1943709.0,1971740.0,1753656.0,1975700.0,1801422.0,1946406.0,1992726.0,1951109.0,1966293.0,2091996.0,2124144.0,2129914.0,2308404.0,2341075.0,2673844.0,2807676.0,2940795.0,3101455.0,3207002.0,3320064.0,3641895.0,3831923.0,4090654.0,2488641.91,2164089.33,2604913.29],\"yaxis\":\"y\",\"type\":\"scatter\"}],                        {\"template\":{\"data\":{\"barpolar\":[{\"marker\":{\"line\":{\"color\":\"rgb(17,17,17)\",\"width\":0.5},\"pattern\":{\"fillmode\":\"overlay\",\"size\":10,\"solidity\":0.2}},\"type\":\"barpolar\"}],\"bar\":[{\"error_x\":{\"color\":\"#f2f5fa\"},\"error_y\":{\"color\":\"#f2f5fa\"},\"marker\":{\"line\":{\"color\":\"rgb(17,17,17)\",\"width\":0.5},\"pattern\":{\"fillmode\":\"overlay\",\"size\":10,\"solidity\":0.2}},\"type\":\"bar\"}],\"carpet\":[{\"aaxis\":{\"endlinecolor\":\"#A2B1C6\",\"gridcolor\":\"#506784\",\"linecolor\":\"#506784\",\"minorgridcolor\":\"#506784\",\"startlinecolor\":\"#A2B1C6\"},\"baxis\":{\"endlinecolor\":\"#A2B1C6\",\"gridcolor\":\"#506784\",\"linecolor\":\"#506784\",\"minorgridcolor\":\"#506784\",\"startlinecolor\":\"#A2B1C6\"},\"type\":\"carpet\"}],\"choropleth\":[{\"colorbar\":{\"outlinewidth\":0,\"ticks\":\"\"},\"type\":\"choropleth\"}],\"contourcarpet\":[{\"colorbar\":{\"outlinewidth\":0,\"ticks\":\"\"},\"type\":\"contourcarpet\"}],\"contour\":[{\"colorbar\":{\"outlinewidth\":0,\"ticks\":\"\"},\"colorscale\":[[0.0,\"#0d0887\"],[0.1111111111111111,\"#46039f\"],[0.2222222222222222,\"#7201a8\"],[0.3333333333333333,\"#9c179e\"],[0.4444444444444444,\"#bd3786\"],[0.5555555555555556,\"#d8576b\"],[0.6666666666666666,\"#ed7953\"],[0.7777777777777778,\"#fb9f3a\"],[0.8888888888888888,\"#fdca26\"],[1.0,\"#f0f921\"]],\"type\":\"contour\"}],\"heatmapgl\":[{\"colorbar\":{\"outlinewidth\":0,\"ticks\":\"\"},\"colorscale\":[[0.0,\"#0d0887\"],[0.1111111111111111,\"#46039f\"],[0.2222222222222222,\"#7201a8\"],[0.3333333333333333,\"#9c179e\"],[0.4444444444444444,\"#bd3786\"],[0.5555555555555556,\"#d8576b\"],[0.6666666666666666,\"#ed7953\"],[0.7777777777777778,\"#fb9f3a\"],[0.8888888888888888,\"#fdca26\"],[1.0,\"#f0f921\"]],\"type\":\"heatmapgl\"}],\"heatmap\":[{\"colorbar\":{\"outlinewidth\":0,\"ticks\":\"\"},\"colorscale\":[[0.0,\"#0d0887\"],[0.1111111111111111,\"#46039f\"],[0.2222222222222222,\"#7201a8\"],[0.3333333333333333,\"#9c179e\"],[0.4444444444444444,\"#bd3786\"],[0.5555555555555556,\"#d8576b\"],[0.6666666666666666,\"#ed7953\"],[0.7777777777777778,\"#fb9f3a\"],[0.8888888888888888,\"#fdca26\"],[1.0,\"#f0f921\"]],\"type\":\"heatmap\"}],\"histogram2dcontour\":[{\"colorbar\":{\"outlinewidth\":0,\"ticks\":\"\"},\"colorscale\":[[0.0,\"#0d0887\"],[0.1111111111111111,\"#46039f\"],[0.2222222222222222,\"#7201a8\"],[0.3333333333333333,\"#9c179e\"],[0.4444444444444444,\"#bd3786\"],[0.5555555555555556,\"#d8576b\"],[0.6666666666666666,\"#ed7953\"],[0.7777777777777778,\"#fb9f3a\"],[0.8888888888888888,\"#fdca26\"],[1.0,\"#f0f921\"]],\"type\":\"histogram2dcontour\"}],\"histogram2d\":[{\"colorbar\":{\"outlinewidth\":0,\"ticks\":\"\"},\"colorscale\":[[0.0,\"#0d0887\"],[0.1111111111111111,\"#46039f\"],[0.2222222222222222,\"#7201a8\"],[0.3333333333333333,\"#9c179e\"],[0.4444444444444444,\"#bd3786\"],[0.5555555555555556,\"#d8576b\"],[0.6666666666666666,\"#ed7953\"],[0.7777777777777778,\"#fb9f3a\"],[0.8888888888888888,\"#fdca26\"],[1.0,\"#f0f921\"]],\"type\":\"histogram2d\"}],\"histogram\":[{\"marker\":{\"pattern\":{\"fillmode\":\"overlay\",\"size\":10,\"solidity\":0.2}},\"type\":\"histogram\"}],\"mesh3d\":[{\"colorbar\":{\"outlinewidth\":0,\"ticks\":\"\"},\"type\":\"mesh3d\"}],\"parcoords\":[{\"line\":{\"colorbar\":{\"outlinewidth\":0,\"ticks\":\"\"}},\"type\":\"parcoords\"}],\"pie\":[{\"automargin\":true,\"type\":\"pie\"}],\"scatter3d\":[{\"line\":{\"colorbar\":{\"outlinewidth\":0,\"ticks\":\"\"}},\"marker\":{\"colorbar\":{\"outlinewidth\":0,\"ticks\":\"\"}},\"type\":\"scatter3d\"}],\"scattercarpet\":[{\"marker\":{\"colorbar\":{\"outlinewidth\":0,\"ticks\":\"\"}},\"type\":\"scattercarpet\"}],\"scattergeo\":[{\"marker\":{\"colorbar\":{\"outlinewidth\":0,\"ticks\":\"\"}},\"type\":\"scattergeo\"}],\"scattergl\":[{\"marker\":{\"line\":{\"color\":\"#283442\"}},\"type\":\"scattergl\"}],\"scattermapbox\":[{\"marker\":{\"colorbar\":{\"outlinewidth\":0,\"ticks\":\"\"}},\"type\":\"scattermapbox\"}],\"scatterpolargl\":[{\"marker\":{\"colorbar\":{\"outlinewidth\":0,\"ticks\":\"\"}},\"type\":\"scatterpolargl\"}],\"scatterpolar\":[{\"marker\":{\"colorbar\":{\"outlinewidth\":0,\"ticks\":\"\"}},\"type\":\"scatterpolar\"}],\"scatter\":[{\"marker\":{\"line\":{\"color\":\"#283442\"}},\"type\":\"scatter\"}],\"scatterternary\":[{\"marker\":{\"colorbar\":{\"outlinewidth\":0,\"ticks\":\"\"}},\"type\":\"scatterternary\"}],\"surface\":[{\"colorbar\":{\"outlinewidth\":0,\"ticks\":\"\"},\"colorscale\":[[0.0,\"#0d0887\"],[0.1111111111111111,\"#46039f\"],[0.2222222222222222,\"#7201a8\"],[0.3333333333333333,\"#9c179e\"],[0.4444444444444444,\"#bd3786\"],[0.5555555555555556,\"#d8576b\"],[0.6666666666666666,\"#ed7953\"],[0.7777777777777778,\"#fb9f3a\"],[0.8888888888888888,\"#fdca26\"],[1.0,\"#f0f921\"]],\"type\":\"surface\"}],\"table\":[{\"cells\":{\"fill\":{\"color\":\"#506784\"},\"line\":{\"color\":\"rgb(17,17,17)\"}},\"header\":{\"fill\":{\"color\":\"#2a3f5f\"},\"line\":{\"color\":\"rgb(17,17,17)\"}},\"type\":\"table\"}]},\"layout\":{\"annotationdefaults\":{\"arrowcolor\":\"#f2f5fa\",\"arrowhead\":0,\"arrowwidth\":1},\"autotypenumbers\":\"strict\",\"coloraxis\":{\"colorbar\":{\"outlinewidth\":0,\"ticks\":\"\"}},\"colorscale\":{\"diverging\":[[0,\"#8e0152\"],[0.1,\"#c51b7d\"],[0.2,\"#de77ae\"],[0.3,\"#f1b6da\"],[0.4,\"#fde0ef\"],[0.5,\"#f7f7f7\"],[0.6,\"#e6f5d0\"],[0.7,\"#b8e186\"],[0.8,\"#7fbc41\"],[0.9,\"#4d9221\"],[1,\"#276419\"]],\"sequential\":[[0.0,\"#0d0887\"],[0.1111111111111111,\"#46039f\"],[0.2222222222222222,\"#7201a8\"],[0.3333333333333333,\"#9c179e\"],[0.4444444444444444,\"#bd3786\"],[0.5555555555555556,\"#d8576b\"],[0.6666666666666666,\"#ed7953\"],[0.7777777777777778,\"#fb9f3a\"],[0.8888888888888888,\"#fdca26\"],[1.0,\"#f0f921\"]],\"sequentialminus\":[[0.0,\"#0d0887\"],[0.1111111111111111,\"#46039f\"],[0.2222222222222222,\"#7201a8\"],[0.3333333333333333,\"#9c179e\"],[0.4444444444444444,\"#bd3786\"],[0.5555555555555556,\"#d8576b\"],[0.6666666666666666,\"#ed7953\"],[0.7777777777777778,\"#fb9f3a\"],[0.8888888888888888,\"#fdca26\"],[1.0,\"#f0f921\"]]},\"colorway\":[\"#636efa\",\"#EF553B\",\"#00cc96\",\"#ab63fa\",\"#FFA15A\",\"#19d3f3\",\"#FF6692\",\"#B6E880\",\"#FF97FF\",\"#FECB52\"],\"font\":{\"color\":\"#f2f5fa\"},\"geo\":{\"bgcolor\":\"rgb(17,17,17)\",\"lakecolor\":\"rgb(17,17,17)\",\"landcolor\":\"rgb(17,17,17)\",\"showlakes\":true,\"showland\":true,\"subunitcolor\":\"#506784\"},\"hoverlabel\":{\"align\":\"left\"},\"hovermode\":\"closest\",\"mapbox\":{\"style\":\"dark\"},\"paper_bgcolor\":\"rgb(17,17,17)\",\"plot_bgcolor\":\"rgb(17,17,17)\",\"polar\":{\"angularaxis\":{\"gridcolor\":\"#506784\",\"linecolor\":\"#506784\",\"ticks\":\"\"},\"bgcolor\":\"rgb(17,17,17)\",\"radialaxis\":{\"gridcolor\":\"#506784\",\"linecolor\":\"#506784\",\"ticks\":\"\"}},\"scene\":{\"xaxis\":{\"backgroundcolor\":\"rgb(17,17,17)\",\"gridcolor\":\"#506784\",\"gridwidth\":2,\"linecolor\":\"#506784\",\"showbackground\":true,\"ticks\":\"\",\"zerolinecolor\":\"#C8D4E3\"},\"yaxis\":{\"backgroundcolor\":\"rgb(17,17,17)\",\"gridcolor\":\"#506784\",\"gridwidth\":2,\"linecolor\":\"#506784\",\"showbackground\":true,\"ticks\":\"\",\"zerolinecolor\":\"#C8D4E3\"},\"zaxis\":{\"backgroundcolor\":\"rgb(17,17,17)\",\"gridcolor\":\"#506784\",\"gridwidth\":2,\"linecolor\":\"#506784\",\"showbackground\":true,\"ticks\":\"\",\"zerolinecolor\":\"#C8D4E3\"}},\"shapedefaults\":{\"line\":{\"color\":\"#f2f5fa\"}},\"sliderdefaults\":{\"bgcolor\":\"#C8D4E3\",\"bordercolor\":\"rgb(17,17,17)\",\"borderwidth\":1,\"tickwidth\":0},\"ternary\":{\"aaxis\":{\"gridcolor\":\"#506784\",\"linecolor\":\"#506784\",\"ticks\":\"\"},\"baxis\":{\"gridcolor\":\"#506784\",\"linecolor\":\"#506784\",\"ticks\":\"\"},\"bgcolor\":\"rgb(17,17,17)\",\"caxis\":{\"gridcolor\":\"#506784\",\"linecolor\":\"#506784\",\"ticks\":\"\"}},\"title\":{\"x\":0.05},\"updatemenudefaults\":{\"bgcolor\":\"#506784\",\"borderwidth\":0},\"xaxis\":{\"automargin\":true,\"gridcolor\":\"#283442\",\"linecolor\":\"#506784\",\"ticks\":\"\",\"title\":{\"standoff\":15},\"zerolinecolor\":\"#283442\",\"zerolinewidth\":2},\"yaxis\":{\"automargin\":true,\"gridcolor\":\"#283442\",\"linecolor\":\"#506784\",\"ticks\":\"\",\"title\":{\"standoff\":15},\"zerolinecolor\":\"#283442\",\"zerolinewidth\":2}}},\"xaxis\":{\"anchor\":\"y\",\"domain\":[0.0,1.0],\"title\":{\"text\":\"Curah hujan\"}},\"yaxis\":{\"anchor\":\"x\",\"domain\":[0.0,1.0],\"title\":{\"text\":\"Produksi\"}},\"legend\":{\"tracegroupgap\":0},\"margin\":{\"t\":60}},                        {\"responsive\": true}                    ).then(function(){\n",
              "                            \n",
              "var gd = document.getElementById('ea4963d5-81e0-419d-b1f5-e0397a4bca95');\n",
              "var x = new MutationObserver(function (mutations, observer) {{\n",
              "        var display = window.getComputedStyle(gd).display;\n",
              "        if (!display || display === 'none') {{\n",
              "            console.log([gd, 'removed!']);\n",
              "            Plotly.purge(gd);\n",
              "            observer.disconnect();\n",
              "        }}\n",
              "}});\n",
              "\n",
              "// Listen for the removal of the full notebook cells\n",
              "var notebookContainer = gd.closest('#notebook-container');\n",
              "if (notebookContainer) {{\n",
              "    x.observe(notebookContainer, {childList: true});\n",
              "}}\n",
              "\n",
              "// Listen for the clearing of the current output cell\n",
              "var outputEl = gd.closest('.output');\n",
              "if (outputEl) {{\n",
              "    x.observe(outputEl, {childList: true});\n",
              "}}\n",
              "\n",
              "                        })                };                            </script>        </div>\n",
              "</body>\n",
              "</html>"
            ]
          },
          "metadata": {}
        }
      ]
    },
    {
      "cell_type": "code",
      "source": [
        "timeline_prov = df.groupby(['Provinsi','Tahun'] )['Produksi'].sum().reset_index()\n",
        "\n",
        "fig = px.scatter(df, x=\"Suhu rata-rata\", y=\"Produksi\",template='plotly_dark')\n",
        "fig.show()"
      ],
      "metadata": {
        "colab": {
          "base_uri": "https://localhost:8080/",
          "height": 542
        },
        "id": "70k24l5b2jgY",
        "outputId": "9d0ca16a-781b-413b-b073-a10462070108"
      },
      "execution_count": 14,
      "outputs": [
        {
          "output_type": "display_data",
          "data": {
            "text/html": [
              "<html>\n",
              "<head><meta charset=\"utf-8\" /></head>\n",
              "<body>\n",
              "    <div>            <script src=\"https://cdnjs.cloudflare.com/ajax/libs/mathjax/2.7.5/MathJax.js?config=TeX-AMS-MML_SVG\"></script><script type=\"text/javascript\">if (window.MathJax) {MathJax.Hub.Config({SVG: {font: \"STIX-Web\"}});}</script>                <script type=\"text/javascript\">window.PlotlyConfig = {MathJaxConfig: 'local'};</script>\n",
              "        <script src=\"https://cdn.plot.ly/plotly-2.8.3.min.js\"></script>                <div id=\"3454948b-661d-41e3-bf18-ebb1bccb7670\" class=\"plotly-graph-div\" style=\"height:525px; width:100%;\"></div>            <script type=\"text/javascript\">                                    window.PLOTLYENV=window.PLOTLYENV || {};                                    if (document.getElementById(\"3454948b-661d-41e3-bf18-ebb1bccb7670\")) {                    Plotly.newPlot(                        \"3454948b-661d-41e3-bf18-ebb1bccb7670\",                        [{\"hovertemplate\":\"Suhu rata-rata=%{x}<br>Produksi=%{y}<extra></extra>\",\"legendgroup\":\"\",\"marker\":{\"color\":\"#636efa\",\"symbol\":\"circle\"},\"mode\":\"markers\",\"name\":\"\",\"orientation\":\"v\",\"showlegend\":false,\"x\":[26.06,26.92,26.27,26.08,26.31,26.84,26.14,27.1,28.9,29.2,29.4,29.4,26.8,26.73,26.38,27.0,26.9,27.1,27.1,26.9,27.0,27.1,27.1,27.12,26.51,26.48,26.65,25.41,26.45,26.4,26.58,26.33,26.4,27.16,26.45,27.7,28.03,28.45,29.59,29.27,27.0,27.8,27.0,26.9,27.1,27.18,27.2,27.3,28.8,27.9,27.4,27.65,27.5,26.41,27.03,25.79,24.7,24.49,24.82,24.52,24.69,25.04,22.48,25.86,28.17,28.19,29.17,29.02,25.9,26.05,25.7,25.4,25.5,25.8,26.0,25.2,25.1,25.7,26.5,23.26,22.19,26.91,25.61,26.26,26.0,26.1,26.17,25.94,26.26,26.73,26.08,25.98,29.05,28.2,29.64,29.85,26.58,27.7,27.1,27.4,27.7,27.7,27.0,27.3,26.0,27.2,27.2,27.0,26.7,25.0,26.91,25.93,26.29,25.51,26.22,26.0,26.5,26.78,26.34,27.76,28.12,28.82,29.39,28.95,26.8,26.77,26.6,26.5,27.1,27.1,26.9,26.7,26.8,27.2,27.0,26.84,26.62,26.62,26.94,25.85,26.38,26.53,26.54,26.34,26.75,26.19,25.67,25.32,28.83,28.23,29.64,28.7,27.1,27.1,27.0,26.9,27.4,27.08,27.3,27.4,27.3,26.0,27.7,27.31,26.75,27.0,27.6,26.14,25.95,25.68,26.12,25.66,25.84,26.4,25.81,24.22,26.8,28.5,29.5,29.7,25.7,26.1,26.4,26.3,26.5,26.8,26.35,26.9,26.7,26.9,27.0,26.77,26.52,26.64,26.56,25.84,26.41,25.73,26.43,26.27,26.68,26.95,26.24,28.2,26.71,27.5,29.67,29.66,26.59,26.18,27.6,26.4,26.7,26.7,26.8,26.8,26.7,25.8,27.1,26.45,26.36,25.5,27.23,24.58],\"xaxis\":\"x\",\"y\":[1329536.0,1299699.0,1382905.0,1419128.0,1368074.0,1404580.0,1478712.0,1486909.0,1547499.0,1314165.0,1246614.0,1350748.0,1411650.0,1552078.0,1556858.0,1402287.0,1533369.0,1788738.0,1772962.0,1582393.0,2331046.0,1820062.0,1956940.0,2180754.0,2478922.0,1751996.94,1714437.6,1861567.1,2918152.0,3079960.0,3134533.0,3136760.0,3212208.0,3321049.0,3451430.0,3514253.0,3291515.0,3153305.0,3403075.0,3418782.0,3447394.0,3007636.0,3265834.0,3340794.0,3527899.0,3582302.0,3607403.0,3715514.0,3727249.0,3631039.0,4044829.0,4387035.9,4669777.5,2108284.72,2078901.59,2076280.01,1806424.0,1747543.0,1829192.0,1971180.0,1787719.0,1807622.0,1897678.0,1759059.0,1668955.0,1875834.0,1823739.0,1875188.0,1907390.0,1889489.0,1938120.0,1965634.0,2105790.0,2211248.0,2279602.0,2368390.0,2430384.0,2519020.0,2550609.0,2487929.0,2810425.0,1483076.48,1482996.01,1450839.74,436297.0,445361.0,458756.0,461905.0,416135.0,370124.0,461630.0,431351.0,413391.0,396644.0,414237.0,454186.0,424095.0,42938.0,490087.0,494260.0,531429.0,574864.0,535788.0,512152.0,434144.0,385475.0,393917.0,325826.0,337421.0,266375.53,230873.97,269344.05,607529.0,564722.0,593502.0,657650.0,572269.0,550277.0,553641.0,536779.0,556564.0,561007.0,578346.0,579404.0,579635.0,544597.0,58663.0,581704.0,644947.0,628828.0,646641.0,625164.0,664535.0,664720.0,541486.0,642095.0,678127.0,383045.74,309932.68,374376.27,1409559.0,1347611.0,1557944.0,1666591.0,1577398.0,1931505.0,1789961.0,1863643.0,1723433.0,1899849.0,1977345.0,2260794.0,2320110.0,2456251.0,2753044.0,2971286.0,3125236.0,3272451.0,3384670.0,3295247.0,3676723.0,3670435.0,4247922.0,4881089.0,4807430.0,2994191.84,2603396.24,2696877.46,356709.0,334232.0,377337.0,396977.0,382123.0,375533.0,381577.0,362979.0,376973.0,379818.0,413375.0,414741.0,441276.0,378377.0,470469.0,484900.0,510160.0,516869.0,502552.0,581910.0,622832.0,593194.0,578654.0,629224.0,714017.0,288810.52,296472.07,296925.16,1646900.0,1615751.0,1943709.0,1971740.0,1753656.0,1975700.0,1801422.0,1946406.0,1992726.0,1951109.0,1966293.0,2091996.0,2124144.0,2129914.0,2308404.0,2341075.0,2673844.0,2807676.0,2940795.0,3101455.0,3207002.0,3320064.0,3641895.0,3831923.0,4090654.0,2488641.91,2164089.33,2604913.29],\"yaxis\":\"y\",\"type\":\"scatter\"}],                        {\"template\":{\"data\":{\"barpolar\":[{\"marker\":{\"line\":{\"color\":\"rgb(17,17,17)\",\"width\":0.5},\"pattern\":{\"fillmode\":\"overlay\",\"size\":10,\"solidity\":0.2}},\"type\":\"barpolar\"}],\"bar\":[{\"error_x\":{\"color\":\"#f2f5fa\"},\"error_y\":{\"color\":\"#f2f5fa\"},\"marker\":{\"line\":{\"color\":\"rgb(17,17,17)\",\"width\":0.5},\"pattern\":{\"fillmode\":\"overlay\",\"size\":10,\"solidity\":0.2}},\"type\":\"bar\"}],\"carpet\":[{\"aaxis\":{\"endlinecolor\":\"#A2B1C6\",\"gridcolor\":\"#506784\",\"linecolor\":\"#506784\",\"minorgridcolor\":\"#506784\",\"startlinecolor\":\"#A2B1C6\"},\"baxis\":{\"endlinecolor\":\"#A2B1C6\",\"gridcolor\":\"#506784\",\"linecolor\":\"#506784\",\"minorgridcolor\":\"#506784\",\"startlinecolor\":\"#A2B1C6\"},\"type\":\"carpet\"}],\"choropleth\":[{\"colorbar\":{\"outlinewidth\":0,\"ticks\":\"\"},\"type\":\"choropleth\"}],\"contourcarpet\":[{\"colorbar\":{\"outlinewidth\":0,\"ticks\":\"\"},\"type\":\"contourcarpet\"}],\"contour\":[{\"colorbar\":{\"outlinewidth\":0,\"ticks\":\"\"},\"colorscale\":[[0.0,\"#0d0887\"],[0.1111111111111111,\"#46039f\"],[0.2222222222222222,\"#7201a8\"],[0.3333333333333333,\"#9c179e\"],[0.4444444444444444,\"#bd3786\"],[0.5555555555555556,\"#d8576b\"],[0.6666666666666666,\"#ed7953\"],[0.7777777777777778,\"#fb9f3a\"],[0.8888888888888888,\"#fdca26\"],[1.0,\"#f0f921\"]],\"type\":\"contour\"}],\"heatmapgl\":[{\"colorbar\":{\"outlinewidth\":0,\"ticks\":\"\"},\"colorscale\":[[0.0,\"#0d0887\"],[0.1111111111111111,\"#46039f\"],[0.2222222222222222,\"#7201a8\"],[0.3333333333333333,\"#9c179e\"],[0.4444444444444444,\"#bd3786\"],[0.5555555555555556,\"#d8576b\"],[0.6666666666666666,\"#ed7953\"],[0.7777777777777778,\"#fb9f3a\"],[0.8888888888888888,\"#fdca26\"],[1.0,\"#f0f921\"]],\"type\":\"heatmapgl\"}],\"heatmap\":[{\"colorbar\":{\"outlinewidth\":0,\"ticks\":\"\"},\"colorscale\":[[0.0,\"#0d0887\"],[0.1111111111111111,\"#46039f\"],[0.2222222222222222,\"#7201a8\"],[0.3333333333333333,\"#9c179e\"],[0.4444444444444444,\"#bd3786\"],[0.5555555555555556,\"#d8576b\"],[0.6666666666666666,\"#ed7953\"],[0.7777777777777778,\"#fb9f3a\"],[0.8888888888888888,\"#fdca26\"],[1.0,\"#f0f921\"]],\"type\":\"heatmap\"}],\"histogram2dcontour\":[{\"colorbar\":{\"outlinewidth\":0,\"ticks\":\"\"},\"colorscale\":[[0.0,\"#0d0887\"],[0.1111111111111111,\"#46039f\"],[0.2222222222222222,\"#7201a8\"],[0.3333333333333333,\"#9c179e\"],[0.4444444444444444,\"#bd3786\"],[0.5555555555555556,\"#d8576b\"],[0.6666666666666666,\"#ed7953\"],[0.7777777777777778,\"#fb9f3a\"],[0.8888888888888888,\"#fdca26\"],[1.0,\"#f0f921\"]],\"type\":\"histogram2dcontour\"}],\"histogram2d\":[{\"colorbar\":{\"outlinewidth\":0,\"ticks\":\"\"},\"colorscale\":[[0.0,\"#0d0887\"],[0.1111111111111111,\"#46039f\"],[0.2222222222222222,\"#7201a8\"],[0.3333333333333333,\"#9c179e\"],[0.4444444444444444,\"#bd3786\"],[0.5555555555555556,\"#d8576b\"],[0.6666666666666666,\"#ed7953\"],[0.7777777777777778,\"#fb9f3a\"],[0.8888888888888888,\"#fdca26\"],[1.0,\"#f0f921\"]],\"type\":\"histogram2d\"}],\"histogram\":[{\"marker\":{\"pattern\":{\"fillmode\":\"overlay\",\"size\":10,\"solidity\":0.2}},\"type\":\"histogram\"}],\"mesh3d\":[{\"colorbar\":{\"outlinewidth\":0,\"ticks\":\"\"},\"type\":\"mesh3d\"}],\"parcoords\":[{\"line\":{\"colorbar\":{\"outlinewidth\":0,\"ticks\":\"\"}},\"type\":\"parcoords\"}],\"pie\":[{\"automargin\":true,\"type\":\"pie\"}],\"scatter3d\":[{\"line\":{\"colorbar\":{\"outlinewidth\":0,\"ticks\":\"\"}},\"marker\":{\"colorbar\":{\"outlinewidth\":0,\"ticks\":\"\"}},\"type\":\"scatter3d\"}],\"scattercarpet\":[{\"marker\":{\"colorbar\":{\"outlinewidth\":0,\"ticks\":\"\"}},\"type\":\"scattercarpet\"}],\"scattergeo\":[{\"marker\":{\"colorbar\":{\"outlinewidth\":0,\"ticks\":\"\"}},\"type\":\"scattergeo\"}],\"scattergl\":[{\"marker\":{\"line\":{\"color\":\"#283442\"}},\"type\":\"scattergl\"}],\"scattermapbox\":[{\"marker\":{\"colorbar\":{\"outlinewidth\":0,\"ticks\":\"\"}},\"type\":\"scattermapbox\"}],\"scatterpolargl\":[{\"marker\":{\"colorbar\":{\"outlinewidth\":0,\"ticks\":\"\"}},\"type\":\"scatterpolargl\"}],\"scatterpolar\":[{\"marker\":{\"colorbar\":{\"outlinewidth\":0,\"ticks\":\"\"}},\"type\":\"scatterpolar\"}],\"scatter\":[{\"marker\":{\"line\":{\"color\":\"#283442\"}},\"type\":\"scatter\"}],\"scatterternary\":[{\"marker\":{\"colorbar\":{\"outlinewidth\":0,\"ticks\":\"\"}},\"type\":\"scatterternary\"}],\"surface\":[{\"colorbar\":{\"outlinewidth\":0,\"ticks\":\"\"},\"colorscale\":[[0.0,\"#0d0887\"],[0.1111111111111111,\"#46039f\"],[0.2222222222222222,\"#7201a8\"],[0.3333333333333333,\"#9c179e\"],[0.4444444444444444,\"#bd3786\"],[0.5555555555555556,\"#d8576b\"],[0.6666666666666666,\"#ed7953\"],[0.7777777777777778,\"#fb9f3a\"],[0.8888888888888888,\"#fdca26\"],[1.0,\"#f0f921\"]],\"type\":\"surface\"}],\"table\":[{\"cells\":{\"fill\":{\"color\":\"#506784\"},\"line\":{\"color\":\"rgb(17,17,17)\"}},\"header\":{\"fill\":{\"color\":\"#2a3f5f\"},\"line\":{\"color\":\"rgb(17,17,17)\"}},\"type\":\"table\"}]},\"layout\":{\"annotationdefaults\":{\"arrowcolor\":\"#f2f5fa\",\"arrowhead\":0,\"arrowwidth\":1},\"autotypenumbers\":\"strict\",\"coloraxis\":{\"colorbar\":{\"outlinewidth\":0,\"ticks\":\"\"}},\"colorscale\":{\"diverging\":[[0,\"#8e0152\"],[0.1,\"#c51b7d\"],[0.2,\"#de77ae\"],[0.3,\"#f1b6da\"],[0.4,\"#fde0ef\"],[0.5,\"#f7f7f7\"],[0.6,\"#e6f5d0\"],[0.7,\"#b8e186\"],[0.8,\"#7fbc41\"],[0.9,\"#4d9221\"],[1,\"#276419\"]],\"sequential\":[[0.0,\"#0d0887\"],[0.1111111111111111,\"#46039f\"],[0.2222222222222222,\"#7201a8\"],[0.3333333333333333,\"#9c179e\"],[0.4444444444444444,\"#bd3786\"],[0.5555555555555556,\"#d8576b\"],[0.6666666666666666,\"#ed7953\"],[0.7777777777777778,\"#fb9f3a\"],[0.8888888888888888,\"#fdca26\"],[1.0,\"#f0f921\"]],\"sequentialminus\":[[0.0,\"#0d0887\"],[0.1111111111111111,\"#46039f\"],[0.2222222222222222,\"#7201a8\"],[0.3333333333333333,\"#9c179e\"],[0.4444444444444444,\"#bd3786\"],[0.5555555555555556,\"#d8576b\"],[0.6666666666666666,\"#ed7953\"],[0.7777777777777778,\"#fb9f3a\"],[0.8888888888888888,\"#fdca26\"],[1.0,\"#f0f921\"]]},\"colorway\":[\"#636efa\",\"#EF553B\",\"#00cc96\",\"#ab63fa\",\"#FFA15A\",\"#19d3f3\",\"#FF6692\",\"#B6E880\",\"#FF97FF\",\"#FECB52\"],\"font\":{\"color\":\"#f2f5fa\"},\"geo\":{\"bgcolor\":\"rgb(17,17,17)\",\"lakecolor\":\"rgb(17,17,17)\",\"landcolor\":\"rgb(17,17,17)\",\"showlakes\":true,\"showland\":true,\"subunitcolor\":\"#506784\"},\"hoverlabel\":{\"align\":\"left\"},\"hovermode\":\"closest\",\"mapbox\":{\"style\":\"dark\"},\"paper_bgcolor\":\"rgb(17,17,17)\",\"plot_bgcolor\":\"rgb(17,17,17)\",\"polar\":{\"angularaxis\":{\"gridcolor\":\"#506784\",\"linecolor\":\"#506784\",\"ticks\":\"\"},\"bgcolor\":\"rgb(17,17,17)\",\"radialaxis\":{\"gridcolor\":\"#506784\",\"linecolor\":\"#506784\",\"ticks\":\"\"}},\"scene\":{\"xaxis\":{\"backgroundcolor\":\"rgb(17,17,17)\",\"gridcolor\":\"#506784\",\"gridwidth\":2,\"linecolor\":\"#506784\",\"showbackground\":true,\"ticks\":\"\",\"zerolinecolor\":\"#C8D4E3\"},\"yaxis\":{\"backgroundcolor\":\"rgb(17,17,17)\",\"gridcolor\":\"#506784\",\"gridwidth\":2,\"linecolor\":\"#506784\",\"showbackground\":true,\"ticks\":\"\",\"zerolinecolor\":\"#C8D4E3\"},\"zaxis\":{\"backgroundcolor\":\"rgb(17,17,17)\",\"gridcolor\":\"#506784\",\"gridwidth\":2,\"linecolor\":\"#506784\",\"showbackground\":true,\"ticks\":\"\",\"zerolinecolor\":\"#C8D4E3\"}},\"shapedefaults\":{\"line\":{\"color\":\"#f2f5fa\"}},\"sliderdefaults\":{\"bgcolor\":\"#C8D4E3\",\"bordercolor\":\"rgb(17,17,17)\",\"borderwidth\":1,\"tickwidth\":0},\"ternary\":{\"aaxis\":{\"gridcolor\":\"#506784\",\"linecolor\":\"#506784\",\"ticks\":\"\"},\"baxis\":{\"gridcolor\":\"#506784\",\"linecolor\":\"#506784\",\"ticks\":\"\"},\"bgcolor\":\"rgb(17,17,17)\",\"caxis\":{\"gridcolor\":\"#506784\",\"linecolor\":\"#506784\",\"ticks\":\"\"}},\"title\":{\"x\":0.05},\"updatemenudefaults\":{\"bgcolor\":\"#506784\",\"borderwidth\":0},\"xaxis\":{\"automargin\":true,\"gridcolor\":\"#283442\",\"linecolor\":\"#506784\",\"ticks\":\"\",\"title\":{\"standoff\":15},\"zerolinecolor\":\"#283442\",\"zerolinewidth\":2},\"yaxis\":{\"automargin\":true,\"gridcolor\":\"#283442\",\"linecolor\":\"#506784\",\"ticks\":\"\",\"title\":{\"standoff\":15},\"zerolinecolor\":\"#283442\",\"zerolinewidth\":2}}},\"xaxis\":{\"anchor\":\"y\",\"domain\":[0.0,1.0],\"title\":{\"text\":\"Suhu rata-rata\"}},\"yaxis\":{\"anchor\":\"x\",\"domain\":[0.0,1.0],\"title\":{\"text\":\"Produksi\"}},\"legend\":{\"tracegroupgap\":0},\"margin\":{\"t\":60}},                        {\"responsive\": true}                    ).then(function(){\n",
              "                            \n",
              "var gd = document.getElementById('3454948b-661d-41e3-bf18-ebb1bccb7670');\n",
              "var x = new MutationObserver(function (mutations, observer) {{\n",
              "        var display = window.getComputedStyle(gd).display;\n",
              "        if (!display || display === 'none') {{\n",
              "            console.log([gd, 'removed!']);\n",
              "            Plotly.purge(gd);\n",
              "            observer.disconnect();\n",
              "        }}\n",
              "}});\n",
              "\n",
              "// Listen for the removal of the full notebook cells\n",
              "var notebookContainer = gd.closest('#notebook-container');\n",
              "if (notebookContainer) {{\n",
              "    x.observe(notebookContainer, {childList: true});\n",
              "}}\n",
              "\n",
              "// Listen for the clearing of the current output cell\n",
              "var outputEl = gd.closest('.output');\n",
              "if (outputEl) {{\n",
              "    x.observe(outputEl, {childList: true});\n",
              "}}\n",
              "\n",
              "                        })                };                            </script>        </div>\n",
              "</body>\n",
              "</html>"
            ]
          },
          "metadata": {}
        }
      ]
    },
    {
      "cell_type": "code",
      "source": [
        "fig = px.scatter(df, x=\"Kelembapan\", y=\"Produksi\",template='plotly_dark')\n",
        "fig.show()"
      ],
      "metadata": {
        "colab": {
          "base_uri": "https://localhost:8080/",
          "height": 542
        },
        "id": "s3gwVXdGfskj",
        "outputId": "a5ada8bb-389c-4008-c202-3428cfb41bd1"
      },
      "execution_count": 15,
      "outputs": [
        {
          "output_type": "display_data",
          "data": {
            "text/html": [
              "<html>\n",
              "<head><meta charset=\"utf-8\" /></head>\n",
              "<body>\n",
              "    <div>            <script src=\"https://cdnjs.cloudflare.com/ajax/libs/mathjax/2.7.5/MathJax.js?config=TeX-AMS-MML_SVG\"></script><script type=\"text/javascript\">if (window.MathJax) {MathJax.Hub.Config({SVG: {font: \"STIX-Web\"}});}</script>                <script type=\"text/javascript\">window.PlotlyConfig = {MathJaxConfig: 'local'};</script>\n",
              "        <script src=\"https://cdn.plot.ly/plotly-2.8.3.min.js\"></script>                <div id=\"5d6c06d1-0178-4f4f-800d-fb0bdf4fb88d\" class=\"plotly-graph-div\" style=\"height:525px; width:100%;\"></div>            <script type=\"text/javascript\">                                    window.PLOTLYENV=window.PLOTLYENV || {};                                    if (document.getElementById(\"5d6c06d1-0178-4f4f-800d-fb0bdf4fb88d\")) {                    Plotly.newPlot(                        \"5d6c06d1-0178-4f4f-800d-fb0bdf4fb88d\",                        [{\"hovertemplate\":\"Kelembapan=%{x}<br>Produksi=%{y}<extra></extra>\",\"legendgroup\":\"\",\"marker\":{\"color\":\"#636efa\",\"symbol\":\"circle\"},\"mode\":\"markers\",\"name\":\"\",\"orientation\":\"v\",\"showlegend\":false,\"x\":[82.0,82.12,82.72,83.0,82.46,82.6,82.79,90.6,69.48,68.75,70.66,80.84,79.5,80.8,81.5,78.5,78.7,81.4,79.4,79.6,80.7,78.3,80.0,83.32,85.57,83.98,83.9,80.82,83.8,83.79,81.68,81.31,81.81,83.53,84.56,82.94,72.78,72.31,72.08,80.79,83.8,81.0,82.0,81.4,86.0,78.55,79.0,76.0,78.67,79.0,86.9,82.0,84.0,80.0,86.53,83.76,89.77,75.22,87.68,87.29,87.97,87.39,80.89,86.01,71.08,71.28,71.91,78.5,78.0,79.0,85.3,86.2,86.2,87.2,54.2,87.0,86.91,85.35,84.0,76.49,75.11,82.71,87.73,85.22,86.37,84.9,85.02,84.26,83.82,84.26,84.59,84.6,70.79,71.73,72.92,83.7,83.93,79.6,85.3,80.2,76.2,76.2,74.5,76.1,76.0,78.1,80.5,83.72,84.76,71.22,83.77,81.8,83.81,81.25,83.96,83.6,80.64,83.47,83.25,84.85,72.4,70.77,71.28,82.74,84.8,85.0,86.0,83.7,83.8,84.6,82.5,81.4,83.42,82.8,82.1,83.84,83.69,82.23,81.44,78.24,82.78,79.89,82.71,82.45,78.47,82.58,81.01,83.26,72.06,70.36,69.59,80.96,82.5,80.0,83.5,84.8,82.3,85.25,84.8,83.0,84.0,81.0,79.5,82.22,81.08,77.66,85.13,81.1,85.5,85.32,85.49,85.96,84.0,85.34,84.72,84.73,70.15,67.98,70.3,84.28,84.7,83.3,84.2,84.2,84.1,84.0,82.52,82.0,83.93,83.7,83.2,83.38,84.2,83.79,83.26,80.18,84.82,77.51,82.81,82.61,78.46,84.07,83.46,82.86,77.83,75.84,68.71,81.47,79.6,74.6,75.9,79.0,79.1,82.3,77.8,79.2,81.0,79.9,78.9,79.4,77.04,76.05,78.03,75.8],\"xaxis\":\"x\",\"y\":[1329536.0,1299699.0,1382905.0,1419128.0,1368074.0,1404580.0,1478712.0,1486909.0,1547499.0,1314165.0,1246614.0,1350748.0,1411650.0,1552078.0,1556858.0,1402287.0,1533369.0,1788738.0,1772962.0,1582393.0,2331046.0,1820062.0,1956940.0,2180754.0,2478922.0,1751996.94,1714437.6,1861567.1,2918152.0,3079960.0,3134533.0,3136760.0,3212208.0,3321049.0,3451430.0,3514253.0,3291515.0,3153305.0,3403075.0,3418782.0,3447394.0,3007636.0,3265834.0,3340794.0,3527899.0,3582302.0,3607403.0,3715514.0,3727249.0,3631039.0,4044829.0,4387035.9,4669777.5,2108284.72,2078901.59,2076280.01,1806424.0,1747543.0,1829192.0,1971180.0,1787719.0,1807622.0,1897678.0,1759059.0,1668955.0,1875834.0,1823739.0,1875188.0,1907390.0,1889489.0,1938120.0,1965634.0,2105790.0,2211248.0,2279602.0,2368390.0,2430384.0,2519020.0,2550609.0,2487929.0,2810425.0,1483076.48,1482996.01,1450839.74,436297.0,445361.0,458756.0,461905.0,416135.0,370124.0,461630.0,431351.0,413391.0,396644.0,414237.0,454186.0,424095.0,42938.0,490087.0,494260.0,531429.0,574864.0,535788.0,512152.0,434144.0,385475.0,393917.0,325826.0,337421.0,266375.53,230873.97,269344.05,607529.0,564722.0,593502.0,657650.0,572269.0,550277.0,553641.0,536779.0,556564.0,561007.0,578346.0,579404.0,579635.0,544597.0,58663.0,581704.0,644947.0,628828.0,646641.0,625164.0,664535.0,664720.0,541486.0,642095.0,678127.0,383045.74,309932.68,374376.27,1409559.0,1347611.0,1557944.0,1666591.0,1577398.0,1931505.0,1789961.0,1863643.0,1723433.0,1899849.0,1977345.0,2260794.0,2320110.0,2456251.0,2753044.0,2971286.0,3125236.0,3272451.0,3384670.0,3295247.0,3676723.0,3670435.0,4247922.0,4881089.0,4807430.0,2994191.84,2603396.24,2696877.46,356709.0,334232.0,377337.0,396977.0,382123.0,375533.0,381577.0,362979.0,376973.0,379818.0,413375.0,414741.0,441276.0,378377.0,470469.0,484900.0,510160.0,516869.0,502552.0,581910.0,622832.0,593194.0,578654.0,629224.0,714017.0,288810.52,296472.07,296925.16,1646900.0,1615751.0,1943709.0,1971740.0,1753656.0,1975700.0,1801422.0,1946406.0,1992726.0,1951109.0,1966293.0,2091996.0,2124144.0,2129914.0,2308404.0,2341075.0,2673844.0,2807676.0,2940795.0,3101455.0,3207002.0,3320064.0,3641895.0,3831923.0,4090654.0,2488641.91,2164089.33,2604913.29],\"yaxis\":\"y\",\"type\":\"scatter\"}],                        {\"template\":{\"data\":{\"barpolar\":[{\"marker\":{\"line\":{\"color\":\"rgb(17,17,17)\",\"width\":0.5},\"pattern\":{\"fillmode\":\"overlay\",\"size\":10,\"solidity\":0.2}},\"type\":\"barpolar\"}],\"bar\":[{\"error_x\":{\"color\":\"#f2f5fa\"},\"error_y\":{\"color\":\"#f2f5fa\"},\"marker\":{\"line\":{\"color\":\"rgb(17,17,17)\",\"width\":0.5},\"pattern\":{\"fillmode\":\"overlay\",\"size\":10,\"solidity\":0.2}},\"type\":\"bar\"}],\"carpet\":[{\"aaxis\":{\"endlinecolor\":\"#A2B1C6\",\"gridcolor\":\"#506784\",\"linecolor\":\"#506784\",\"minorgridcolor\":\"#506784\",\"startlinecolor\":\"#A2B1C6\"},\"baxis\":{\"endlinecolor\":\"#A2B1C6\",\"gridcolor\":\"#506784\",\"linecolor\":\"#506784\",\"minorgridcolor\":\"#506784\",\"startlinecolor\":\"#A2B1C6\"},\"type\":\"carpet\"}],\"choropleth\":[{\"colorbar\":{\"outlinewidth\":0,\"ticks\":\"\"},\"type\":\"choropleth\"}],\"contourcarpet\":[{\"colorbar\":{\"outlinewidth\":0,\"ticks\":\"\"},\"type\":\"contourcarpet\"}],\"contour\":[{\"colorbar\":{\"outlinewidth\":0,\"ticks\":\"\"},\"colorscale\":[[0.0,\"#0d0887\"],[0.1111111111111111,\"#46039f\"],[0.2222222222222222,\"#7201a8\"],[0.3333333333333333,\"#9c179e\"],[0.4444444444444444,\"#bd3786\"],[0.5555555555555556,\"#d8576b\"],[0.6666666666666666,\"#ed7953\"],[0.7777777777777778,\"#fb9f3a\"],[0.8888888888888888,\"#fdca26\"],[1.0,\"#f0f921\"]],\"type\":\"contour\"}],\"heatmapgl\":[{\"colorbar\":{\"outlinewidth\":0,\"ticks\":\"\"},\"colorscale\":[[0.0,\"#0d0887\"],[0.1111111111111111,\"#46039f\"],[0.2222222222222222,\"#7201a8\"],[0.3333333333333333,\"#9c179e\"],[0.4444444444444444,\"#bd3786\"],[0.5555555555555556,\"#d8576b\"],[0.6666666666666666,\"#ed7953\"],[0.7777777777777778,\"#fb9f3a\"],[0.8888888888888888,\"#fdca26\"],[1.0,\"#f0f921\"]],\"type\":\"heatmapgl\"}],\"heatmap\":[{\"colorbar\":{\"outlinewidth\":0,\"ticks\":\"\"},\"colorscale\":[[0.0,\"#0d0887\"],[0.1111111111111111,\"#46039f\"],[0.2222222222222222,\"#7201a8\"],[0.3333333333333333,\"#9c179e\"],[0.4444444444444444,\"#bd3786\"],[0.5555555555555556,\"#d8576b\"],[0.6666666666666666,\"#ed7953\"],[0.7777777777777778,\"#fb9f3a\"],[0.8888888888888888,\"#fdca26\"],[1.0,\"#f0f921\"]],\"type\":\"heatmap\"}],\"histogram2dcontour\":[{\"colorbar\":{\"outlinewidth\":0,\"ticks\":\"\"},\"colorscale\":[[0.0,\"#0d0887\"],[0.1111111111111111,\"#46039f\"],[0.2222222222222222,\"#7201a8\"],[0.3333333333333333,\"#9c179e\"],[0.4444444444444444,\"#bd3786\"],[0.5555555555555556,\"#d8576b\"],[0.6666666666666666,\"#ed7953\"],[0.7777777777777778,\"#fb9f3a\"],[0.8888888888888888,\"#fdca26\"],[1.0,\"#f0f921\"]],\"type\":\"histogram2dcontour\"}],\"histogram2d\":[{\"colorbar\":{\"outlinewidth\":0,\"ticks\":\"\"},\"colorscale\":[[0.0,\"#0d0887\"],[0.1111111111111111,\"#46039f\"],[0.2222222222222222,\"#7201a8\"],[0.3333333333333333,\"#9c179e\"],[0.4444444444444444,\"#bd3786\"],[0.5555555555555556,\"#d8576b\"],[0.6666666666666666,\"#ed7953\"],[0.7777777777777778,\"#fb9f3a\"],[0.8888888888888888,\"#fdca26\"],[1.0,\"#f0f921\"]],\"type\":\"histogram2d\"}],\"histogram\":[{\"marker\":{\"pattern\":{\"fillmode\":\"overlay\",\"size\":10,\"solidity\":0.2}},\"type\":\"histogram\"}],\"mesh3d\":[{\"colorbar\":{\"outlinewidth\":0,\"ticks\":\"\"},\"type\":\"mesh3d\"}],\"parcoords\":[{\"line\":{\"colorbar\":{\"outlinewidth\":0,\"ticks\":\"\"}},\"type\":\"parcoords\"}],\"pie\":[{\"automargin\":true,\"type\":\"pie\"}],\"scatter3d\":[{\"line\":{\"colorbar\":{\"outlinewidth\":0,\"ticks\":\"\"}},\"marker\":{\"colorbar\":{\"outlinewidth\":0,\"ticks\":\"\"}},\"type\":\"scatter3d\"}],\"scattercarpet\":[{\"marker\":{\"colorbar\":{\"outlinewidth\":0,\"ticks\":\"\"}},\"type\":\"scattercarpet\"}],\"scattergeo\":[{\"marker\":{\"colorbar\":{\"outlinewidth\":0,\"ticks\":\"\"}},\"type\":\"scattergeo\"}],\"scattergl\":[{\"marker\":{\"line\":{\"color\":\"#283442\"}},\"type\":\"scattergl\"}],\"scattermapbox\":[{\"marker\":{\"colorbar\":{\"outlinewidth\":0,\"ticks\":\"\"}},\"type\":\"scattermapbox\"}],\"scatterpolargl\":[{\"marker\":{\"colorbar\":{\"outlinewidth\":0,\"ticks\":\"\"}},\"type\":\"scatterpolargl\"}],\"scatterpolar\":[{\"marker\":{\"colorbar\":{\"outlinewidth\":0,\"ticks\":\"\"}},\"type\":\"scatterpolar\"}],\"scatter\":[{\"marker\":{\"line\":{\"color\":\"#283442\"}},\"type\":\"scatter\"}],\"scatterternary\":[{\"marker\":{\"colorbar\":{\"outlinewidth\":0,\"ticks\":\"\"}},\"type\":\"scatterternary\"}],\"surface\":[{\"colorbar\":{\"outlinewidth\":0,\"ticks\":\"\"},\"colorscale\":[[0.0,\"#0d0887\"],[0.1111111111111111,\"#46039f\"],[0.2222222222222222,\"#7201a8\"],[0.3333333333333333,\"#9c179e\"],[0.4444444444444444,\"#bd3786\"],[0.5555555555555556,\"#d8576b\"],[0.6666666666666666,\"#ed7953\"],[0.7777777777777778,\"#fb9f3a\"],[0.8888888888888888,\"#fdca26\"],[1.0,\"#f0f921\"]],\"type\":\"surface\"}],\"table\":[{\"cells\":{\"fill\":{\"color\":\"#506784\"},\"line\":{\"color\":\"rgb(17,17,17)\"}},\"header\":{\"fill\":{\"color\":\"#2a3f5f\"},\"line\":{\"color\":\"rgb(17,17,17)\"}},\"type\":\"table\"}]},\"layout\":{\"annotationdefaults\":{\"arrowcolor\":\"#f2f5fa\",\"arrowhead\":0,\"arrowwidth\":1},\"autotypenumbers\":\"strict\",\"coloraxis\":{\"colorbar\":{\"outlinewidth\":0,\"ticks\":\"\"}},\"colorscale\":{\"diverging\":[[0,\"#8e0152\"],[0.1,\"#c51b7d\"],[0.2,\"#de77ae\"],[0.3,\"#f1b6da\"],[0.4,\"#fde0ef\"],[0.5,\"#f7f7f7\"],[0.6,\"#e6f5d0\"],[0.7,\"#b8e186\"],[0.8,\"#7fbc41\"],[0.9,\"#4d9221\"],[1,\"#276419\"]],\"sequential\":[[0.0,\"#0d0887\"],[0.1111111111111111,\"#46039f\"],[0.2222222222222222,\"#7201a8\"],[0.3333333333333333,\"#9c179e\"],[0.4444444444444444,\"#bd3786\"],[0.5555555555555556,\"#d8576b\"],[0.6666666666666666,\"#ed7953\"],[0.7777777777777778,\"#fb9f3a\"],[0.8888888888888888,\"#fdca26\"],[1.0,\"#f0f921\"]],\"sequentialminus\":[[0.0,\"#0d0887\"],[0.1111111111111111,\"#46039f\"],[0.2222222222222222,\"#7201a8\"],[0.3333333333333333,\"#9c179e\"],[0.4444444444444444,\"#bd3786\"],[0.5555555555555556,\"#d8576b\"],[0.6666666666666666,\"#ed7953\"],[0.7777777777777778,\"#fb9f3a\"],[0.8888888888888888,\"#fdca26\"],[1.0,\"#f0f921\"]]},\"colorway\":[\"#636efa\",\"#EF553B\",\"#00cc96\",\"#ab63fa\",\"#FFA15A\",\"#19d3f3\",\"#FF6692\",\"#B6E880\",\"#FF97FF\",\"#FECB52\"],\"font\":{\"color\":\"#f2f5fa\"},\"geo\":{\"bgcolor\":\"rgb(17,17,17)\",\"lakecolor\":\"rgb(17,17,17)\",\"landcolor\":\"rgb(17,17,17)\",\"showlakes\":true,\"showland\":true,\"subunitcolor\":\"#506784\"},\"hoverlabel\":{\"align\":\"left\"},\"hovermode\":\"closest\",\"mapbox\":{\"style\":\"dark\"},\"paper_bgcolor\":\"rgb(17,17,17)\",\"plot_bgcolor\":\"rgb(17,17,17)\",\"polar\":{\"angularaxis\":{\"gridcolor\":\"#506784\",\"linecolor\":\"#506784\",\"ticks\":\"\"},\"bgcolor\":\"rgb(17,17,17)\",\"radialaxis\":{\"gridcolor\":\"#506784\",\"linecolor\":\"#506784\",\"ticks\":\"\"}},\"scene\":{\"xaxis\":{\"backgroundcolor\":\"rgb(17,17,17)\",\"gridcolor\":\"#506784\",\"gridwidth\":2,\"linecolor\":\"#506784\",\"showbackground\":true,\"ticks\":\"\",\"zerolinecolor\":\"#C8D4E3\"},\"yaxis\":{\"backgroundcolor\":\"rgb(17,17,17)\",\"gridcolor\":\"#506784\",\"gridwidth\":2,\"linecolor\":\"#506784\",\"showbackground\":true,\"ticks\":\"\",\"zerolinecolor\":\"#C8D4E3\"},\"zaxis\":{\"backgroundcolor\":\"rgb(17,17,17)\",\"gridcolor\":\"#506784\",\"gridwidth\":2,\"linecolor\":\"#506784\",\"showbackground\":true,\"ticks\":\"\",\"zerolinecolor\":\"#C8D4E3\"}},\"shapedefaults\":{\"line\":{\"color\":\"#f2f5fa\"}},\"sliderdefaults\":{\"bgcolor\":\"#C8D4E3\",\"bordercolor\":\"rgb(17,17,17)\",\"borderwidth\":1,\"tickwidth\":0},\"ternary\":{\"aaxis\":{\"gridcolor\":\"#506784\",\"linecolor\":\"#506784\",\"ticks\":\"\"},\"baxis\":{\"gridcolor\":\"#506784\",\"linecolor\":\"#506784\",\"ticks\":\"\"},\"bgcolor\":\"rgb(17,17,17)\",\"caxis\":{\"gridcolor\":\"#506784\",\"linecolor\":\"#506784\",\"ticks\":\"\"}},\"title\":{\"x\":0.05},\"updatemenudefaults\":{\"bgcolor\":\"#506784\",\"borderwidth\":0},\"xaxis\":{\"automargin\":true,\"gridcolor\":\"#283442\",\"linecolor\":\"#506784\",\"ticks\":\"\",\"title\":{\"standoff\":15},\"zerolinecolor\":\"#283442\",\"zerolinewidth\":2},\"yaxis\":{\"automargin\":true,\"gridcolor\":\"#283442\",\"linecolor\":\"#506784\",\"ticks\":\"\",\"title\":{\"standoff\":15},\"zerolinecolor\":\"#283442\",\"zerolinewidth\":2}}},\"xaxis\":{\"anchor\":\"y\",\"domain\":[0.0,1.0],\"title\":{\"text\":\"Kelembapan\"}},\"yaxis\":{\"anchor\":\"x\",\"domain\":[0.0,1.0],\"title\":{\"text\":\"Produksi\"}},\"legend\":{\"tracegroupgap\":0},\"margin\":{\"t\":60}},                        {\"responsive\": true}                    ).then(function(){\n",
              "                            \n",
              "var gd = document.getElementById('5d6c06d1-0178-4f4f-800d-fb0bdf4fb88d');\n",
              "var x = new MutationObserver(function (mutations, observer) {{\n",
              "        var display = window.getComputedStyle(gd).display;\n",
              "        if (!display || display === 'none') {{\n",
              "            console.log([gd, 'removed!']);\n",
              "            Plotly.purge(gd);\n",
              "            observer.disconnect();\n",
              "        }}\n",
              "}});\n",
              "\n",
              "// Listen for the removal of the full notebook cells\n",
              "var notebookContainer = gd.closest('#notebook-container');\n",
              "if (notebookContainer) {{\n",
              "    x.observe(notebookContainer, {childList: true});\n",
              "}}\n",
              "\n",
              "// Listen for the clearing of the current output cell\n",
              "var outputEl = gd.closest('.output');\n",
              "if (outputEl) {{\n",
              "    x.observe(outputEl, {childList: true});\n",
              "}}\n",
              "\n",
              "                        })                };                            </script>        </div>\n",
              "</body>\n",
              "</html>"
            ]
          },
          "metadata": {}
        }
      ]
    },
    {
      "cell_type": "code",
      "source": [
        "curah_hujan_prov = df.groupby(['Provinsi'])['Curah hujan'].mean().sort_values(ascending = False).reset_index()\n",
        "\n",
        "fig = px.bar(df, y=curah_hujan_prov['Curah hujan'], x=curah_hujan_prov['Provinsi'], text_auto='.2s',template='plotly_dark',\n",
        "             color = total_produksi_prov['Provinsi'])\n",
        "fig.update_layout(title='Provinsi dengan jumlah curah hujan tinggi',\n",
        "                   xaxis_title='Provinsi',\n",
        "                   yaxis_title='Curah Hujan')\n",
        "fig.show()"
      ],
      "metadata": {
        "id": "KMpdc7JG9l8Q",
        "colab": {
          "base_uri": "https://localhost:8080/",
          "height": 542
        },
        "outputId": "511990d9-6ffa-4a7f-d03b-24d09b745ca0"
      },
      "execution_count": 16,
      "outputs": [
        {
          "output_type": "display_data",
          "data": {
            "text/html": [
              "<html>\n",
              "<head><meta charset=\"utf-8\" /></head>\n",
              "<body>\n",
              "    <div>            <script src=\"https://cdnjs.cloudflare.com/ajax/libs/mathjax/2.7.5/MathJax.js?config=TeX-AMS-MML_SVG\"></script><script type=\"text/javascript\">if (window.MathJax) {MathJax.Hub.Config({SVG: {font: \"STIX-Web\"}});}</script>                <script type=\"text/javascript\">window.PlotlyConfig = {MathJaxConfig: 'local'};</script>\n",
              "        <script src=\"https://cdn.plot.ly/plotly-2.8.3.min.js\"></script>                <div id=\"4471413a-e7cd-45ec-8354-6c89cc661dda\" class=\"plotly-graph-div\" style=\"height:525px; width:100%;\"></div>            <script type=\"text/javascript\">                                    window.PLOTLYENV=window.PLOTLYENV || {};                                    if (document.getElementById(\"4471413a-e7cd-45ec-8354-6c89cc661dda\")) {                    Plotly.newPlot(                        \"4471413a-e7cd-45ec-8354-6c89cc661dda\",                        [{\"alignmentgroup\":\"True\",\"hovertemplate\":\"color=Sumatera Utara<br>x=%{x}<br>y=%{y}<extra></extra>\",\"legendgroup\":\"Sumatera Utara\",\"marker\":{\"color\":\"#636efa\",\"pattern\":{\"shape\":\"\"}},\"name\":\"Sumatera Utara\",\"offsetgroup\":\"Sumatera Utara\",\"orientation\":\"v\",\"showlegend\":true,\"textposition\":\"auto\",\"texttemplate\":\"%{y:.2s}\",\"x\":[\"Sumatera Barat\"],\"xaxis\":\"x\",\"y\":[3878.7475],\"yaxis\":\"y\",\"type\":\"bar\"},{\"alignmentgroup\":\"True\",\"hovertemplate\":\"color=Sumatera Selatan<br>x=%{x}<br>y=%{y}<extra></extra>\",\"legendgroup\":\"Sumatera Selatan\",\"marker\":{\"color\":\"#EF553B\",\"pattern\":{\"shape\":\"\"}},\"name\":\"Sumatera Selatan\",\"offsetgroup\":\"Sumatera Selatan\",\"orientation\":\"v\",\"showlegend\":true,\"textposition\":\"auto\",\"texttemplate\":\"%{y:.2s}\",\"x\":[\"Bengkulu\"],\"xaxis\":\"x\",\"y\":[3228.0178571428573],\"yaxis\":\"y\",\"type\":\"bar\"},{\"alignmentgroup\":\"True\",\"hovertemplate\":\"color=Lampung<br>x=%{x}<br>y=%{y}<extra></extra>\",\"legendgroup\":\"Lampung\",\"marker\":{\"color\":\"#00cc96\",\"pattern\":{\"shape\":\"\"}},\"name\":\"Lampung\",\"offsetgroup\":\"Lampung\",\"orientation\":\"v\",\"showlegend\":true,\"textposition\":\"auto\",\"texttemplate\":\"%{y:.2s}\",\"x\":[\"Riau\"],\"xaxis\":\"x\",\"y\":[2464.996428571428],\"yaxis\":\"y\",\"type\":\"bar\"},{\"alignmentgroup\":\"True\",\"hovertemplate\":\"color=Sumatera Barat<br>x=%{x}<br>y=%{y}<extra></extra>\",\"legendgroup\":\"Sumatera Barat\",\"marker\":{\"color\":\"#ab63fa\",\"pattern\":{\"shape\":\"\"}},\"name\":\"Sumatera Barat\",\"offsetgroup\":\"Sumatera Barat\",\"orientation\":\"v\",\"showlegend\":true,\"textposition\":\"auto\",\"texttemplate\":\"%{y:.2s}\",\"x\":[\"Sumatera Selatan\"],\"xaxis\":\"x\",\"y\":[2429.871428571428],\"yaxis\":\"y\",\"type\":\"bar\"},{\"alignmentgroup\":\"True\",\"hovertemplate\":\"color=Aceh<br>x=%{x}<br>y=%{y}<extra></extra>\",\"legendgroup\":\"Aceh\",\"marker\":{\"color\":\"#FFA15A\",\"pattern\":{\"shape\":\"\"}},\"name\":\"Aceh\",\"offsetgroup\":\"Aceh\",\"orientation\":\"v\",\"showlegend\":true,\"textposition\":\"auto\",\"texttemplate\":\"%{y:.2s}\",\"x\":[\"Sumatera Utara\"],\"xaxis\":\"x\",\"y\":[2208.921428571429],\"yaxis\":\"y\",\"type\":\"bar\"},{\"alignmentgroup\":\"True\",\"hovertemplate\":\"color=Jambi<br>x=%{x}<br>y=%{y}<extra></extra>\",\"legendgroup\":\"Jambi\",\"marker\":{\"color\":\"#19d3f3\",\"pattern\":{\"shape\":\"\"}},\"name\":\"Jambi\",\"offsetgroup\":\"Jambi\",\"orientation\":\"v\",\"showlegend\":true,\"textposition\":\"auto\",\"texttemplate\":\"%{y:.2s}\",\"x\":[\"Jambi\"],\"xaxis\":\"x\",\"y\":[1998.3178571428573],\"yaxis\":\"y\",\"type\":\"bar\"},{\"alignmentgroup\":\"True\",\"hovertemplate\":\"color=Bengkulu<br>x=%{x}<br>y=%{y}<extra></extra>\",\"legendgroup\":\"Bengkulu\",\"marker\":{\"color\":\"#FF6692\",\"pattern\":{\"shape\":\"\"}},\"name\":\"Bengkulu\",\"offsetgroup\":\"Bengkulu\",\"orientation\":\"v\",\"showlegend\":true,\"textposition\":\"auto\",\"texttemplate\":\"%{y:.2s}\",\"x\":[\"Lampung\"],\"xaxis\":\"x\",\"y\":[1925.3],\"yaxis\":\"y\",\"type\":\"bar\"},{\"alignmentgroup\":\"True\",\"hovertemplate\":\"color=Riau<br>x=%{x}<br>y=%{y}<extra></extra>\",\"legendgroup\":\"Riau\",\"marker\":{\"color\":\"#B6E880\",\"pattern\":{\"shape\":\"\"}},\"name\":\"Riau\",\"offsetgroup\":\"Riau\",\"orientation\":\"v\",\"showlegend\":true,\"textposition\":\"auto\",\"texttemplate\":\"%{y:.2s}\",\"x\":[\"Aceh\"],\"xaxis\":\"x\",\"y\":[1485.7535714285714],\"yaxis\":\"y\",\"type\":\"bar\"}],                        {\"template\":{\"data\":{\"barpolar\":[{\"marker\":{\"line\":{\"color\":\"rgb(17,17,17)\",\"width\":0.5},\"pattern\":{\"fillmode\":\"overlay\",\"size\":10,\"solidity\":0.2}},\"type\":\"barpolar\"}],\"bar\":[{\"error_x\":{\"color\":\"#f2f5fa\"},\"error_y\":{\"color\":\"#f2f5fa\"},\"marker\":{\"line\":{\"color\":\"rgb(17,17,17)\",\"width\":0.5},\"pattern\":{\"fillmode\":\"overlay\",\"size\":10,\"solidity\":0.2}},\"type\":\"bar\"}],\"carpet\":[{\"aaxis\":{\"endlinecolor\":\"#A2B1C6\",\"gridcolor\":\"#506784\",\"linecolor\":\"#506784\",\"minorgridcolor\":\"#506784\",\"startlinecolor\":\"#A2B1C6\"},\"baxis\":{\"endlinecolor\":\"#A2B1C6\",\"gridcolor\":\"#506784\",\"linecolor\":\"#506784\",\"minorgridcolor\":\"#506784\",\"startlinecolor\":\"#A2B1C6\"},\"type\":\"carpet\"}],\"choropleth\":[{\"colorbar\":{\"outlinewidth\":0,\"ticks\":\"\"},\"type\":\"choropleth\"}],\"contourcarpet\":[{\"colorbar\":{\"outlinewidth\":0,\"ticks\":\"\"},\"type\":\"contourcarpet\"}],\"contour\":[{\"colorbar\":{\"outlinewidth\":0,\"ticks\":\"\"},\"colorscale\":[[0.0,\"#0d0887\"],[0.1111111111111111,\"#46039f\"],[0.2222222222222222,\"#7201a8\"],[0.3333333333333333,\"#9c179e\"],[0.4444444444444444,\"#bd3786\"],[0.5555555555555556,\"#d8576b\"],[0.6666666666666666,\"#ed7953\"],[0.7777777777777778,\"#fb9f3a\"],[0.8888888888888888,\"#fdca26\"],[1.0,\"#f0f921\"]],\"type\":\"contour\"}],\"heatmapgl\":[{\"colorbar\":{\"outlinewidth\":0,\"ticks\":\"\"},\"colorscale\":[[0.0,\"#0d0887\"],[0.1111111111111111,\"#46039f\"],[0.2222222222222222,\"#7201a8\"],[0.3333333333333333,\"#9c179e\"],[0.4444444444444444,\"#bd3786\"],[0.5555555555555556,\"#d8576b\"],[0.6666666666666666,\"#ed7953\"],[0.7777777777777778,\"#fb9f3a\"],[0.8888888888888888,\"#fdca26\"],[1.0,\"#f0f921\"]],\"type\":\"heatmapgl\"}],\"heatmap\":[{\"colorbar\":{\"outlinewidth\":0,\"ticks\":\"\"},\"colorscale\":[[0.0,\"#0d0887\"],[0.1111111111111111,\"#46039f\"],[0.2222222222222222,\"#7201a8\"],[0.3333333333333333,\"#9c179e\"],[0.4444444444444444,\"#bd3786\"],[0.5555555555555556,\"#d8576b\"],[0.6666666666666666,\"#ed7953\"],[0.7777777777777778,\"#fb9f3a\"],[0.8888888888888888,\"#fdca26\"],[1.0,\"#f0f921\"]],\"type\":\"heatmap\"}],\"histogram2dcontour\":[{\"colorbar\":{\"outlinewidth\":0,\"ticks\":\"\"},\"colorscale\":[[0.0,\"#0d0887\"],[0.1111111111111111,\"#46039f\"],[0.2222222222222222,\"#7201a8\"],[0.3333333333333333,\"#9c179e\"],[0.4444444444444444,\"#bd3786\"],[0.5555555555555556,\"#d8576b\"],[0.6666666666666666,\"#ed7953\"],[0.7777777777777778,\"#fb9f3a\"],[0.8888888888888888,\"#fdca26\"],[1.0,\"#f0f921\"]],\"type\":\"histogram2dcontour\"}],\"histogram2d\":[{\"colorbar\":{\"outlinewidth\":0,\"ticks\":\"\"},\"colorscale\":[[0.0,\"#0d0887\"],[0.1111111111111111,\"#46039f\"],[0.2222222222222222,\"#7201a8\"],[0.3333333333333333,\"#9c179e\"],[0.4444444444444444,\"#bd3786\"],[0.5555555555555556,\"#d8576b\"],[0.6666666666666666,\"#ed7953\"],[0.7777777777777778,\"#fb9f3a\"],[0.8888888888888888,\"#fdca26\"],[1.0,\"#f0f921\"]],\"type\":\"histogram2d\"}],\"histogram\":[{\"marker\":{\"pattern\":{\"fillmode\":\"overlay\",\"size\":10,\"solidity\":0.2}},\"type\":\"histogram\"}],\"mesh3d\":[{\"colorbar\":{\"outlinewidth\":0,\"ticks\":\"\"},\"type\":\"mesh3d\"}],\"parcoords\":[{\"line\":{\"colorbar\":{\"outlinewidth\":0,\"ticks\":\"\"}},\"type\":\"parcoords\"}],\"pie\":[{\"automargin\":true,\"type\":\"pie\"}],\"scatter3d\":[{\"line\":{\"colorbar\":{\"outlinewidth\":0,\"ticks\":\"\"}},\"marker\":{\"colorbar\":{\"outlinewidth\":0,\"ticks\":\"\"}},\"type\":\"scatter3d\"}],\"scattercarpet\":[{\"marker\":{\"colorbar\":{\"outlinewidth\":0,\"ticks\":\"\"}},\"type\":\"scattercarpet\"}],\"scattergeo\":[{\"marker\":{\"colorbar\":{\"outlinewidth\":0,\"ticks\":\"\"}},\"type\":\"scattergeo\"}],\"scattergl\":[{\"marker\":{\"line\":{\"color\":\"#283442\"}},\"type\":\"scattergl\"}],\"scattermapbox\":[{\"marker\":{\"colorbar\":{\"outlinewidth\":0,\"ticks\":\"\"}},\"type\":\"scattermapbox\"}],\"scatterpolargl\":[{\"marker\":{\"colorbar\":{\"outlinewidth\":0,\"ticks\":\"\"}},\"type\":\"scatterpolargl\"}],\"scatterpolar\":[{\"marker\":{\"colorbar\":{\"outlinewidth\":0,\"ticks\":\"\"}},\"type\":\"scatterpolar\"}],\"scatter\":[{\"marker\":{\"line\":{\"color\":\"#283442\"}},\"type\":\"scatter\"}],\"scatterternary\":[{\"marker\":{\"colorbar\":{\"outlinewidth\":0,\"ticks\":\"\"}},\"type\":\"scatterternary\"}],\"surface\":[{\"colorbar\":{\"outlinewidth\":0,\"ticks\":\"\"},\"colorscale\":[[0.0,\"#0d0887\"],[0.1111111111111111,\"#46039f\"],[0.2222222222222222,\"#7201a8\"],[0.3333333333333333,\"#9c179e\"],[0.4444444444444444,\"#bd3786\"],[0.5555555555555556,\"#d8576b\"],[0.6666666666666666,\"#ed7953\"],[0.7777777777777778,\"#fb9f3a\"],[0.8888888888888888,\"#fdca26\"],[1.0,\"#f0f921\"]],\"type\":\"surface\"}],\"table\":[{\"cells\":{\"fill\":{\"color\":\"#506784\"},\"line\":{\"color\":\"rgb(17,17,17)\"}},\"header\":{\"fill\":{\"color\":\"#2a3f5f\"},\"line\":{\"color\":\"rgb(17,17,17)\"}},\"type\":\"table\"}]},\"layout\":{\"annotationdefaults\":{\"arrowcolor\":\"#f2f5fa\",\"arrowhead\":0,\"arrowwidth\":1},\"autotypenumbers\":\"strict\",\"coloraxis\":{\"colorbar\":{\"outlinewidth\":0,\"ticks\":\"\"}},\"colorscale\":{\"diverging\":[[0,\"#8e0152\"],[0.1,\"#c51b7d\"],[0.2,\"#de77ae\"],[0.3,\"#f1b6da\"],[0.4,\"#fde0ef\"],[0.5,\"#f7f7f7\"],[0.6,\"#e6f5d0\"],[0.7,\"#b8e186\"],[0.8,\"#7fbc41\"],[0.9,\"#4d9221\"],[1,\"#276419\"]],\"sequential\":[[0.0,\"#0d0887\"],[0.1111111111111111,\"#46039f\"],[0.2222222222222222,\"#7201a8\"],[0.3333333333333333,\"#9c179e\"],[0.4444444444444444,\"#bd3786\"],[0.5555555555555556,\"#d8576b\"],[0.6666666666666666,\"#ed7953\"],[0.7777777777777778,\"#fb9f3a\"],[0.8888888888888888,\"#fdca26\"],[1.0,\"#f0f921\"]],\"sequentialminus\":[[0.0,\"#0d0887\"],[0.1111111111111111,\"#46039f\"],[0.2222222222222222,\"#7201a8\"],[0.3333333333333333,\"#9c179e\"],[0.4444444444444444,\"#bd3786\"],[0.5555555555555556,\"#d8576b\"],[0.6666666666666666,\"#ed7953\"],[0.7777777777777778,\"#fb9f3a\"],[0.8888888888888888,\"#fdca26\"],[1.0,\"#f0f921\"]]},\"colorway\":[\"#636efa\",\"#EF553B\",\"#00cc96\",\"#ab63fa\",\"#FFA15A\",\"#19d3f3\",\"#FF6692\",\"#B6E880\",\"#FF97FF\",\"#FECB52\"],\"font\":{\"color\":\"#f2f5fa\"},\"geo\":{\"bgcolor\":\"rgb(17,17,17)\",\"lakecolor\":\"rgb(17,17,17)\",\"landcolor\":\"rgb(17,17,17)\",\"showlakes\":true,\"showland\":true,\"subunitcolor\":\"#506784\"},\"hoverlabel\":{\"align\":\"left\"},\"hovermode\":\"closest\",\"mapbox\":{\"style\":\"dark\"},\"paper_bgcolor\":\"rgb(17,17,17)\",\"plot_bgcolor\":\"rgb(17,17,17)\",\"polar\":{\"angularaxis\":{\"gridcolor\":\"#506784\",\"linecolor\":\"#506784\",\"ticks\":\"\"},\"bgcolor\":\"rgb(17,17,17)\",\"radialaxis\":{\"gridcolor\":\"#506784\",\"linecolor\":\"#506784\",\"ticks\":\"\"}},\"scene\":{\"xaxis\":{\"backgroundcolor\":\"rgb(17,17,17)\",\"gridcolor\":\"#506784\",\"gridwidth\":2,\"linecolor\":\"#506784\",\"showbackground\":true,\"ticks\":\"\",\"zerolinecolor\":\"#C8D4E3\"},\"yaxis\":{\"backgroundcolor\":\"rgb(17,17,17)\",\"gridcolor\":\"#506784\",\"gridwidth\":2,\"linecolor\":\"#506784\",\"showbackground\":true,\"ticks\":\"\",\"zerolinecolor\":\"#C8D4E3\"},\"zaxis\":{\"backgroundcolor\":\"rgb(17,17,17)\",\"gridcolor\":\"#506784\",\"gridwidth\":2,\"linecolor\":\"#506784\",\"showbackground\":true,\"ticks\":\"\",\"zerolinecolor\":\"#C8D4E3\"}},\"shapedefaults\":{\"line\":{\"color\":\"#f2f5fa\"}},\"sliderdefaults\":{\"bgcolor\":\"#C8D4E3\",\"bordercolor\":\"rgb(17,17,17)\",\"borderwidth\":1,\"tickwidth\":0},\"ternary\":{\"aaxis\":{\"gridcolor\":\"#506784\",\"linecolor\":\"#506784\",\"ticks\":\"\"},\"baxis\":{\"gridcolor\":\"#506784\",\"linecolor\":\"#506784\",\"ticks\":\"\"},\"bgcolor\":\"rgb(17,17,17)\",\"caxis\":{\"gridcolor\":\"#506784\",\"linecolor\":\"#506784\",\"ticks\":\"\"}},\"title\":{\"x\":0.05},\"updatemenudefaults\":{\"bgcolor\":\"#506784\",\"borderwidth\":0},\"xaxis\":{\"automargin\":true,\"gridcolor\":\"#283442\",\"linecolor\":\"#506784\",\"ticks\":\"\",\"title\":{\"standoff\":15},\"zerolinecolor\":\"#283442\",\"zerolinewidth\":2},\"yaxis\":{\"automargin\":true,\"gridcolor\":\"#283442\",\"linecolor\":\"#506784\",\"ticks\":\"\",\"title\":{\"standoff\":15},\"zerolinecolor\":\"#283442\",\"zerolinewidth\":2}}},\"xaxis\":{\"anchor\":\"y\",\"domain\":[0.0,1.0],\"title\":{\"text\":\"Provinsi\"}},\"yaxis\":{\"anchor\":\"x\",\"domain\":[0.0,1.0],\"title\":{\"text\":\"Curah Hujan\"}},\"legend\":{\"title\":{\"text\":\"color\"},\"tracegroupgap\":0},\"margin\":{\"t\":60},\"barmode\":\"relative\",\"title\":{\"text\":\"Provinsi dengan jumlah curah hujan tinggi\"}},                        {\"responsive\": true}                    ).then(function(){\n",
              "                            \n",
              "var gd = document.getElementById('4471413a-e7cd-45ec-8354-6c89cc661dda');\n",
              "var x = new MutationObserver(function (mutations, observer) {{\n",
              "        var display = window.getComputedStyle(gd).display;\n",
              "        if (!display || display === 'none') {{\n",
              "            console.log([gd, 'removed!']);\n",
              "            Plotly.purge(gd);\n",
              "            observer.disconnect();\n",
              "        }}\n",
              "}});\n",
              "\n",
              "// Listen for the removal of the full notebook cells\n",
              "var notebookContainer = gd.closest('#notebook-container');\n",
              "if (notebookContainer) {{\n",
              "    x.observe(notebookContainer, {childList: true});\n",
              "}}\n",
              "\n",
              "// Listen for the clearing of the current output cell\n",
              "var outputEl = gd.closest('.output');\n",
              "if (outputEl) {{\n",
              "    x.observe(outputEl, {childList: true});\n",
              "}}\n",
              "\n",
              "                        })                };                            </script>        </div>\n",
              "</body>\n",
              "</html>"
            ]
          },
          "metadata": {}
        }
      ]
    },
    {
      "cell_type": "code",
      "source": [
        "suhu_prov = df.groupby(['Provinsi'])['Kelembapan'].mean().sort_values(ascending = False).reset_index()\n",
        "\n",
        "fig = px.bar(df, y=suhu_prov['Kelembapan'], x=suhu_prov['Provinsi'], text_auto='.2s',template='plotly_dark',\n",
        "             color = total_produksi_prov['Provinsi'])\n",
        "fig.update_layout(title='Produksi Padi Berdasar Provinsi',\n",
        "                   xaxis_title='Provinsi',\n",
        "                   yaxis_title='Jumlah Produksi')\n",
        "fig.show()"
      ],
      "metadata": {
        "colab": {
          "base_uri": "https://localhost:8080/",
          "height": 542
        },
        "id": "Cj1yMERlmnqM",
        "outputId": "c47adf18-40c5-41f5-ff8e-1486986c43de"
      },
      "execution_count": 17,
      "outputs": [
        {
          "output_type": "display_data",
          "data": {
            "text/html": [
              "<html>\n",
              "<head><meta charset=\"utf-8\" /></head>\n",
              "<body>\n",
              "    <div>            <script src=\"https://cdnjs.cloudflare.com/ajax/libs/mathjax/2.7.5/MathJax.js?config=TeX-AMS-MML_SVG\"></script><script type=\"text/javascript\">if (window.MathJax) {MathJax.Hub.Config({SVG: {font: \"STIX-Web\"}});}</script>                <script type=\"text/javascript\">window.PlotlyConfig = {MathJaxConfig: 'local'};</script>\n",
              "        <script src=\"https://cdn.plot.ly/plotly-2.8.3.min.js\"></script>                <div id=\"6b46aa9f-e12d-467e-bf85-8f69a135951a\" class=\"plotly-graph-div\" style=\"height:525px; width:100%;\"></div>            <script type=\"text/javascript\">                                    window.PLOTLYENV=window.PLOTLYENV || {};                                    if (document.getElementById(\"6b46aa9f-e12d-467e-bf85-8f69a135951a\")) {                    Plotly.newPlot(                        \"6b46aa9f-e12d-467e-bf85-8f69a135951a\",                        [{\"alignmentgroup\":\"True\",\"hovertemplate\":\"color=Sumatera Utara<br>x=%{x}<br>y=%{y}<extra></extra>\",\"legendgroup\":\"Sumatera Utara\",\"marker\":{\"color\":\"#636efa\",\"pattern\":{\"shape\":\"\"}},\"name\":\"Sumatera Utara\",\"offsetgroup\":\"Sumatera Utara\",\"orientation\":\"v\",\"showlegend\":true,\"textposition\":\"auto\",\"texttemplate\":\"%{y:.2s}\",\"x\":[\"Bengkulu\"],\"xaxis\":\"x\",\"y\":[82.44392857142857],\"yaxis\":\"y\",\"type\":\"bar\"},{\"alignmentgroup\":\"True\",\"hovertemplate\":\"color=Sumatera Selatan<br>x=%{x}<br>y=%{y}<extra></extra>\",\"legendgroup\":\"Sumatera Selatan\",\"marker\":{\"color\":\"#EF553B\",\"pattern\":{\"shape\":\"\"}},\"name\":\"Sumatera Selatan\",\"offsetgroup\":\"Sumatera Selatan\",\"orientation\":\"v\",\"showlegend\":true,\"textposition\":\"auto\",\"texttemplate\":\"%{y:.2s}\",\"x\":[\"Jambi\"],\"xaxis\":\"x\",\"y\":[81.84214285714286],\"yaxis\":\"y\",\"type\":\"bar\"},{\"alignmentgroup\":\"True\",\"hovertemplate\":\"color=Lampung<br>x=%{x}<br>y=%{y}<extra></extra>\",\"legendgroup\":\"Lampung\",\"marker\":{\"color\":\"#00cc96\",\"pattern\":{\"shape\":\"\"}},\"name\":\"Lampung\",\"offsetgroup\":\"Lampung\",\"orientation\":\"v\",\"showlegend\":true,\"textposition\":\"auto\",\"texttemplate\":\"%{y:.2s}\",\"x\":[\"Sumatera Barat\"],\"xaxis\":\"x\",\"y\":[81.48607142857144],\"yaxis\":\"y\",\"type\":\"bar\"},{\"alignmentgroup\":\"True\",\"hovertemplate\":\"color=Sumatera Barat<br>x=%{x}<br>y=%{y}<extra></extra>\",\"legendgroup\":\"Sumatera Barat\",\"marker\":{\"color\":\"#ab63fa\",\"pattern\":{\"shape\":\"\"}},\"name\":\"Sumatera Barat\",\"offsetgroup\":\"Sumatera Barat\",\"orientation\":\"v\",\"showlegend\":true,\"textposition\":\"auto\",\"texttemplate\":\"%{y:.2s}\",\"x\":[\"Sumatera Utara\"],\"xaxis\":\"x\",\"y\":[81.07107142857144],\"yaxis\":\"y\",\"type\":\"bar\"},{\"alignmentgroup\":\"True\",\"hovertemplate\":\"color=Aceh<br>x=%{x}<br>y=%{y}<extra></extra>\",\"legendgroup\":\"Aceh\",\"marker\":{\"color\":\"#FFA15A\",\"pattern\":{\"shape\":\"\"}},\"name\":\"Aceh\",\"offsetgroup\":\"Aceh\",\"orientation\":\"v\",\"showlegend\":true,\"textposition\":\"auto\",\"texttemplate\":\"%{y:.2s}\",\"x\":[\"Sumatera Selatan\"],\"xaxis\":\"x\",\"y\":[80.85571428571428],\"yaxis\":\"y\",\"type\":\"bar\"},{\"alignmentgroup\":\"True\",\"hovertemplate\":\"color=Jambi<br>x=%{x}<br>y=%{y}<extra></extra>\",\"legendgroup\":\"Jambi\",\"marker\":{\"color\":\"#19d3f3\",\"pattern\":{\"shape\":\"\"}},\"name\":\"Jambi\",\"offsetgroup\":\"Jambi\",\"orientation\":\"v\",\"showlegend\":true,\"textposition\":\"auto\",\"texttemplate\":\"%{y:.2s}\",\"x\":[\"Aceh\"],\"xaxis\":\"x\",\"y\":[80.50035714285715],\"yaxis\":\"y\",\"type\":\"bar\"},{\"alignmentgroup\":\"True\",\"hovertemplate\":\"color=Bengkulu<br>x=%{x}<br>y=%{y}<extra></extra>\",\"legendgroup\":\"Bengkulu\",\"marker\":{\"color\":\"#FF6692\",\"pattern\":{\"shape\":\"\"}},\"name\":\"Bengkulu\",\"offsetgroup\":\"Bengkulu\",\"orientation\":\"v\",\"showlegend\":true,\"textposition\":\"auto\",\"texttemplate\":\"%{y:.2s}\",\"x\":[\"Riau\"],\"xaxis\":\"x\",\"y\":[80.31642857142857],\"yaxis\":\"y\",\"type\":\"bar\"},{\"alignmentgroup\":\"True\",\"hovertemplate\":\"color=Riau<br>x=%{x}<br>y=%{y}<extra></extra>\",\"legendgroup\":\"Riau\",\"marker\":{\"color\":\"#B6E880\",\"pattern\":{\"shape\":\"\"}},\"name\":\"Riau\",\"offsetgroup\":\"Riau\",\"orientation\":\"v\",\"showlegend\":true,\"textposition\":\"auto\",\"texttemplate\":\"%{y:.2s}\",\"x\":[\"Lampung\"],\"xaxis\":\"x\",\"y\":[79.07392857142858],\"yaxis\":\"y\",\"type\":\"bar\"}],                        {\"template\":{\"data\":{\"barpolar\":[{\"marker\":{\"line\":{\"color\":\"rgb(17,17,17)\",\"width\":0.5},\"pattern\":{\"fillmode\":\"overlay\",\"size\":10,\"solidity\":0.2}},\"type\":\"barpolar\"}],\"bar\":[{\"error_x\":{\"color\":\"#f2f5fa\"},\"error_y\":{\"color\":\"#f2f5fa\"},\"marker\":{\"line\":{\"color\":\"rgb(17,17,17)\",\"width\":0.5},\"pattern\":{\"fillmode\":\"overlay\",\"size\":10,\"solidity\":0.2}},\"type\":\"bar\"}],\"carpet\":[{\"aaxis\":{\"endlinecolor\":\"#A2B1C6\",\"gridcolor\":\"#506784\",\"linecolor\":\"#506784\",\"minorgridcolor\":\"#506784\",\"startlinecolor\":\"#A2B1C6\"},\"baxis\":{\"endlinecolor\":\"#A2B1C6\",\"gridcolor\":\"#506784\",\"linecolor\":\"#506784\",\"minorgridcolor\":\"#506784\",\"startlinecolor\":\"#A2B1C6\"},\"type\":\"carpet\"}],\"choropleth\":[{\"colorbar\":{\"outlinewidth\":0,\"ticks\":\"\"},\"type\":\"choropleth\"}],\"contourcarpet\":[{\"colorbar\":{\"outlinewidth\":0,\"ticks\":\"\"},\"type\":\"contourcarpet\"}],\"contour\":[{\"colorbar\":{\"outlinewidth\":0,\"ticks\":\"\"},\"colorscale\":[[0.0,\"#0d0887\"],[0.1111111111111111,\"#46039f\"],[0.2222222222222222,\"#7201a8\"],[0.3333333333333333,\"#9c179e\"],[0.4444444444444444,\"#bd3786\"],[0.5555555555555556,\"#d8576b\"],[0.6666666666666666,\"#ed7953\"],[0.7777777777777778,\"#fb9f3a\"],[0.8888888888888888,\"#fdca26\"],[1.0,\"#f0f921\"]],\"type\":\"contour\"}],\"heatmapgl\":[{\"colorbar\":{\"outlinewidth\":0,\"ticks\":\"\"},\"colorscale\":[[0.0,\"#0d0887\"],[0.1111111111111111,\"#46039f\"],[0.2222222222222222,\"#7201a8\"],[0.3333333333333333,\"#9c179e\"],[0.4444444444444444,\"#bd3786\"],[0.5555555555555556,\"#d8576b\"],[0.6666666666666666,\"#ed7953\"],[0.7777777777777778,\"#fb9f3a\"],[0.8888888888888888,\"#fdca26\"],[1.0,\"#f0f921\"]],\"type\":\"heatmapgl\"}],\"heatmap\":[{\"colorbar\":{\"outlinewidth\":0,\"ticks\":\"\"},\"colorscale\":[[0.0,\"#0d0887\"],[0.1111111111111111,\"#46039f\"],[0.2222222222222222,\"#7201a8\"],[0.3333333333333333,\"#9c179e\"],[0.4444444444444444,\"#bd3786\"],[0.5555555555555556,\"#d8576b\"],[0.6666666666666666,\"#ed7953\"],[0.7777777777777778,\"#fb9f3a\"],[0.8888888888888888,\"#fdca26\"],[1.0,\"#f0f921\"]],\"type\":\"heatmap\"}],\"histogram2dcontour\":[{\"colorbar\":{\"outlinewidth\":0,\"ticks\":\"\"},\"colorscale\":[[0.0,\"#0d0887\"],[0.1111111111111111,\"#46039f\"],[0.2222222222222222,\"#7201a8\"],[0.3333333333333333,\"#9c179e\"],[0.4444444444444444,\"#bd3786\"],[0.5555555555555556,\"#d8576b\"],[0.6666666666666666,\"#ed7953\"],[0.7777777777777778,\"#fb9f3a\"],[0.8888888888888888,\"#fdca26\"],[1.0,\"#f0f921\"]],\"type\":\"histogram2dcontour\"}],\"histogram2d\":[{\"colorbar\":{\"outlinewidth\":0,\"ticks\":\"\"},\"colorscale\":[[0.0,\"#0d0887\"],[0.1111111111111111,\"#46039f\"],[0.2222222222222222,\"#7201a8\"],[0.3333333333333333,\"#9c179e\"],[0.4444444444444444,\"#bd3786\"],[0.5555555555555556,\"#d8576b\"],[0.6666666666666666,\"#ed7953\"],[0.7777777777777778,\"#fb9f3a\"],[0.8888888888888888,\"#fdca26\"],[1.0,\"#f0f921\"]],\"type\":\"histogram2d\"}],\"histogram\":[{\"marker\":{\"pattern\":{\"fillmode\":\"overlay\",\"size\":10,\"solidity\":0.2}},\"type\":\"histogram\"}],\"mesh3d\":[{\"colorbar\":{\"outlinewidth\":0,\"ticks\":\"\"},\"type\":\"mesh3d\"}],\"parcoords\":[{\"line\":{\"colorbar\":{\"outlinewidth\":0,\"ticks\":\"\"}},\"type\":\"parcoords\"}],\"pie\":[{\"automargin\":true,\"type\":\"pie\"}],\"scatter3d\":[{\"line\":{\"colorbar\":{\"outlinewidth\":0,\"ticks\":\"\"}},\"marker\":{\"colorbar\":{\"outlinewidth\":0,\"ticks\":\"\"}},\"type\":\"scatter3d\"}],\"scattercarpet\":[{\"marker\":{\"colorbar\":{\"outlinewidth\":0,\"ticks\":\"\"}},\"type\":\"scattercarpet\"}],\"scattergeo\":[{\"marker\":{\"colorbar\":{\"outlinewidth\":0,\"ticks\":\"\"}},\"type\":\"scattergeo\"}],\"scattergl\":[{\"marker\":{\"line\":{\"color\":\"#283442\"}},\"type\":\"scattergl\"}],\"scattermapbox\":[{\"marker\":{\"colorbar\":{\"outlinewidth\":0,\"ticks\":\"\"}},\"type\":\"scattermapbox\"}],\"scatterpolargl\":[{\"marker\":{\"colorbar\":{\"outlinewidth\":0,\"ticks\":\"\"}},\"type\":\"scatterpolargl\"}],\"scatterpolar\":[{\"marker\":{\"colorbar\":{\"outlinewidth\":0,\"ticks\":\"\"}},\"type\":\"scatterpolar\"}],\"scatter\":[{\"marker\":{\"line\":{\"color\":\"#283442\"}},\"type\":\"scatter\"}],\"scatterternary\":[{\"marker\":{\"colorbar\":{\"outlinewidth\":0,\"ticks\":\"\"}},\"type\":\"scatterternary\"}],\"surface\":[{\"colorbar\":{\"outlinewidth\":0,\"ticks\":\"\"},\"colorscale\":[[0.0,\"#0d0887\"],[0.1111111111111111,\"#46039f\"],[0.2222222222222222,\"#7201a8\"],[0.3333333333333333,\"#9c179e\"],[0.4444444444444444,\"#bd3786\"],[0.5555555555555556,\"#d8576b\"],[0.6666666666666666,\"#ed7953\"],[0.7777777777777778,\"#fb9f3a\"],[0.8888888888888888,\"#fdca26\"],[1.0,\"#f0f921\"]],\"type\":\"surface\"}],\"table\":[{\"cells\":{\"fill\":{\"color\":\"#506784\"},\"line\":{\"color\":\"rgb(17,17,17)\"}},\"header\":{\"fill\":{\"color\":\"#2a3f5f\"},\"line\":{\"color\":\"rgb(17,17,17)\"}},\"type\":\"table\"}]},\"layout\":{\"annotationdefaults\":{\"arrowcolor\":\"#f2f5fa\",\"arrowhead\":0,\"arrowwidth\":1},\"autotypenumbers\":\"strict\",\"coloraxis\":{\"colorbar\":{\"outlinewidth\":0,\"ticks\":\"\"}},\"colorscale\":{\"diverging\":[[0,\"#8e0152\"],[0.1,\"#c51b7d\"],[0.2,\"#de77ae\"],[0.3,\"#f1b6da\"],[0.4,\"#fde0ef\"],[0.5,\"#f7f7f7\"],[0.6,\"#e6f5d0\"],[0.7,\"#b8e186\"],[0.8,\"#7fbc41\"],[0.9,\"#4d9221\"],[1,\"#276419\"]],\"sequential\":[[0.0,\"#0d0887\"],[0.1111111111111111,\"#46039f\"],[0.2222222222222222,\"#7201a8\"],[0.3333333333333333,\"#9c179e\"],[0.4444444444444444,\"#bd3786\"],[0.5555555555555556,\"#d8576b\"],[0.6666666666666666,\"#ed7953\"],[0.7777777777777778,\"#fb9f3a\"],[0.8888888888888888,\"#fdca26\"],[1.0,\"#f0f921\"]],\"sequentialminus\":[[0.0,\"#0d0887\"],[0.1111111111111111,\"#46039f\"],[0.2222222222222222,\"#7201a8\"],[0.3333333333333333,\"#9c179e\"],[0.4444444444444444,\"#bd3786\"],[0.5555555555555556,\"#d8576b\"],[0.6666666666666666,\"#ed7953\"],[0.7777777777777778,\"#fb9f3a\"],[0.8888888888888888,\"#fdca26\"],[1.0,\"#f0f921\"]]},\"colorway\":[\"#636efa\",\"#EF553B\",\"#00cc96\",\"#ab63fa\",\"#FFA15A\",\"#19d3f3\",\"#FF6692\",\"#B6E880\",\"#FF97FF\",\"#FECB52\"],\"font\":{\"color\":\"#f2f5fa\"},\"geo\":{\"bgcolor\":\"rgb(17,17,17)\",\"lakecolor\":\"rgb(17,17,17)\",\"landcolor\":\"rgb(17,17,17)\",\"showlakes\":true,\"showland\":true,\"subunitcolor\":\"#506784\"},\"hoverlabel\":{\"align\":\"left\"},\"hovermode\":\"closest\",\"mapbox\":{\"style\":\"dark\"},\"paper_bgcolor\":\"rgb(17,17,17)\",\"plot_bgcolor\":\"rgb(17,17,17)\",\"polar\":{\"angularaxis\":{\"gridcolor\":\"#506784\",\"linecolor\":\"#506784\",\"ticks\":\"\"},\"bgcolor\":\"rgb(17,17,17)\",\"radialaxis\":{\"gridcolor\":\"#506784\",\"linecolor\":\"#506784\",\"ticks\":\"\"}},\"scene\":{\"xaxis\":{\"backgroundcolor\":\"rgb(17,17,17)\",\"gridcolor\":\"#506784\",\"gridwidth\":2,\"linecolor\":\"#506784\",\"showbackground\":true,\"ticks\":\"\",\"zerolinecolor\":\"#C8D4E3\"},\"yaxis\":{\"backgroundcolor\":\"rgb(17,17,17)\",\"gridcolor\":\"#506784\",\"gridwidth\":2,\"linecolor\":\"#506784\",\"showbackground\":true,\"ticks\":\"\",\"zerolinecolor\":\"#C8D4E3\"},\"zaxis\":{\"backgroundcolor\":\"rgb(17,17,17)\",\"gridcolor\":\"#506784\",\"gridwidth\":2,\"linecolor\":\"#506784\",\"showbackground\":true,\"ticks\":\"\",\"zerolinecolor\":\"#C8D4E3\"}},\"shapedefaults\":{\"line\":{\"color\":\"#f2f5fa\"}},\"sliderdefaults\":{\"bgcolor\":\"#C8D4E3\",\"bordercolor\":\"rgb(17,17,17)\",\"borderwidth\":1,\"tickwidth\":0},\"ternary\":{\"aaxis\":{\"gridcolor\":\"#506784\",\"linecolor\":\"#506784\",\"ticks\":\"\"},\"baxis\":{\"gridcolor\":\"#506784\",\"linecolor\":\"#506784\",\"ticks\":\"\"},\"bgcolor\":\"rgb(17,17,17)\",\"caxis\":{\"gridcolor\":\"#506784\",\"linecolor\":\"#506784\",\"ticks\":\"\"}},\"title\":{\"x\":0.05},\"updatemenudefaults\":{\"bgcolor\":\"#506784\",\"borderwidth\":0},\"xaxis\":{\"automargin\":true,\"gridcolor\":\"#283442\",\"linecolor\":\"#506784\",\"ticks\":\"\",\"title\":{\"standoff\":15},\"zerolinecolor\":\"#283442\",\"zerolinewidth\":2},\"yaxis\":{\"automargin\":true,\"gridcolor\":\"#283442\",\"linecolor\":\"#506784\",\"ticks\":\"\",\"title\":{\"standoff\":15},\"zerolinecolor\":\"#283442\",\"zerolinewidth\":2}}},\"xaxis\":{\"anchor\":\"y\",\"domain\":[0.0,1.0],\"title\":{\"text\":\"Provinsi\"}},\"yaxis\":{\"anchor\":\"x\",\"domain\":[0.0,1.0],\"title\":{\"text\":\"Jumlah Produksi\"}},\"legend\":{\"title\":{\"text\":\"color\"},\"tracegroupgap\":0},\"margin\":{\"t\":60},\"barmode\":\"relative\",\"title\":{\"text\":\"Produksi Padi Berdasar Provinsi\"}},                        {\"responsive\": true}                    ).then(function(){\n",
              "                            \n",
              "var gd = document.getElementById('6b46aa9f-e12d-467e-bf85-8f69a135951a');\n",
              "var x = new MutationObserver(function (mutations, observer) {{\n",
              "        var display = window.getComputedStyle(gd).display;\n",
              "        if (!display || display === 'none') {{\n",
              "            console.log([gd, 'removed!']);\n",
              "            Plotly.purge(gd);\n",
              "            observer.disconnect();\n",
              "        }}\n",
              "}});\n",
              "\n",
              "// Listen for the removal of the full notebook cells\n",
              "var notebookContainer = gd.closest('#notebook-container');\n",
              "if (notebookContainer) {{\n",
              "    x.observe(notebookContainer, {childList: true});\n",
              "}}\n",
              "\n",
              "// Listen for the clearing of the current output cell\n",
              "var outputEl = gd.closest('.output');\n",
              "if (outputEl) {{\n",
              "    x.observe(outputEl, {childList: true});\n",
              "}}\n",
              "\n",
              "                        })                };                            </script>        </div>\n",
              "</body>\n",
              "</html>"
            ]
          },
          "metadata": {}
        }
      ]
    },
    {
      "cell_type": "code",
      "source": [
        "from sklearn.model_selection import train_test_split\n",
        "from sklearn.preprocessing import StandardScaler, MinMaxScaler, PolynomialFeatures\n",
        "\n",
        "from sklearn.feature_selection import RFE\n",
        "\n",
        "from sklearn.linear_model import LinearRegression, Ridge, Lasso\n",
        "from sklearn.model_selection import cross_val_score\n",
        "from sklearn.metrics import r2_score, mean_absolute_error, mean_squared_error, max_error"
      ],
      "metadata": {
        "id": "r_t4n6b4nNbw"
      },
      "execution_count": 18,
      "outputs": []
    },
    {
      "cell_type": "code",
      "source": [
        "def MAPE(y_test, y_pred):\n",
        "  y_test, y_pred = np.array(y_test), np.array(y_pred)\n",
        "  return np.mean(np.abs((y_test - y_pred) / y_test)) * 100\n",
        "\n",
        "def performance(model,X_train,y_train,y_pred,y_test):\n",
        "    print('Train Score:',round(model.score(X_train,y_train), 4))\n",
        "    print('Test Score (R2 Score):',round(r2_score(y_test,y_pred), 4))\n",
        "    print('Metrics In Testing Data: ')\n",
        "    print('MSE:',round(mean_squared_error(y_test,y_pred), 4))\n",
        "    print('RMSE:', round(np.sqrt(mean_squared_error(y_test,y_pred)), 4))\n",
        "    print('MAE:',mean_absolute_error(y_test,y_pred))\n",
        "    print('Max Error:',max_error(y_test,y_pred))\n",
        "    print('MAPE:',round(MAPE(y_test, y_pred), 2), '%')"
      ],
      "metadata": {
        "id": "lfP287-Ln3qn"
      },
      "execution_count": 19,
      "outputs": []
    },
    {
      "cell_type": "markdown",
      "source": [
        "Simple Linear Reg"
      ],
      "metadata": {
        "id": "Gs-n8g-3oBzE"
      }
    },
    {
      "cell_type": "code",
      "source": [
        "linreg = LinearRegression()"
      ],
      "metadata": {
        "id": "8I_DO_dKn7Ud"
      },
      "execution_count": 20,
      "outputs": []
    },
    {
      "cell_type": "code",
      "source": [
        "X = df[['Luas Panen']]\n",
        "y = df[['Produksi']]"
      ],
      "metadata": {
        "id": "UDCKglgUoQp4"
      },
      "execution_count": 21,
      "outputs": []
    },
    {
      "cell_type": "code",
      "source": [
        "linreg.fit(X,y)\n",
        "lr_pred = linreg.predict(X)"
      ],
      "metadata": {
        "id": "IQ_ezIQToVKr"
      },
      "execution_count": 22,
      "outputs": []
    },
    {
      "cell_type": "code",
      "source": [
        "print('Test Score (R2 Score):',round(r2_score(y,lr_pred), 4))"
      ],
      "metadata": {
        "colab": {
          "base_uri": "https://localhost:8080/"
        },
        "id": "hoqiY5iAouQv",
        "outputId": "5fc0d654-3e5a-4187-83bf-e87c1fae59f9"
      },
      "execution_count": 23,
      "outputs": [
        {
          "output_type": "stream",
          "name": "stdout",
          "text": [
            "Test Score (R2 Score): 0.8202\n"
          ]
        }
      ]
    },
    {
      "cell_type": "code",
      "source": [
        "X_vis = np.linspace(0,1000000,1000).reshape(-1,1)\n",
        "y_vis = linreg.predict(X_vis)\n",
        "plt.scatter(X, y)\n",
        "plt.plot(X_vis, y_vis, '--r')\n",
        "\n",
        "plt.show()"
      ],
      "metadata": {
        "colab": {
          "base_uri": "https://localhost:8080/",
          "height": 289
        },
        "id": "GqgmHUFJ3K-M",
        "outputId": "1b4c9b77-a391-412a-cfa8-2870b3453cc6"
      },
      "execution_count": 24,
      "outputs": [
        {
          "output_type": "display_data",
          "data": {
            "text/plain": [
              "<Figure size 432x288 with 1 Axes>"
            ],
            "image/png": "[encoded data removed]"
          },
          "metadata": {
            "needs_background": "light"
          }
        }
      ]
    },
    {
      "cell_type": "markdown",
      "source": [
        "# Multiple Linear Reg"
      ],
      "metadata": {
        "id": "NPErMdBKbi6n"
      }
    },
    {
      "cell_type": "code",
      "source": [
        "df_copy = df.copy()"
      ],
      "metadata": {
        "id": "JBVpIDlWb0Dm"
      },
      "execution_count": 25,
      "outputs": []
    },
    {
      "cell_type": "code",
      "source": [
        "df_copy.head()"
      ],
      "metadata": {
        "colab": {
          "base_uri": "https://localhost:8080/",
          "height": 206
        },
        "id": "6J1dfuO2b4nz",
        "outputId": "225bb20d-03db-4a87-b1ad-64f2d4e33470"
      },
      "execution_count": 26,
      "outputs": [
        {
          "output_type": "execute_result",
          "data": {
            "text/plain": [
              "  Provinsi  Tahun   Produksi  Luas Panen  Curah hujan  Kelembapan  \\\n",
              "0     Aceh   1993  1329536.0    323589.0       1627.0       82.00   \n",
              "1     Aceh   1994  1299699.0    329041.0       1521.0       82.12   \n",
              "2     Aceh   1995  1382905.0    339253.0       1476.0       82.72   \n",
              "3     Aceh   1996  1419128.0    348223.0       1557.0       83.00   \n",
              "4     Aceh   1997  1368074.0    337561.0       1339.0       82.46   \n",
              "\n",
              "   Suhu rata-rata  \n",
              "0           26.06  \n",
              "1           26.92  \n",
              "2           26.27  \n",
              "3           26.08  \n",
              "4           26.31  "
            ],
            "text/html": [
              "\n",
              "  <div id=\"df-d858c6ba-2e9b-49b3-b596-0d83009e9c87\">\n",
              "    <div class=\"colab-df-container\">\n",
              "      <div>\n",
              "<style scoped>\n",
              "    .dataframe tbody tr th:only-of-type {\n",
              "        vertical-align: middle;\n",
              "    }\n",
              "\n",
              "    .dataframe tbody tr th {\n",
              "        vertical-align: top;\n",
              "    }\n",
              "\n",
              "    .dataframe thead th {\n",
              "        text-align: right;\n",
              "    }\n",
              "</style>\n",
              "<table border=\"1\" class=\"dataframe\">\n",
              "  <thead>\n",
              "    <tr style=\"text-align: right;\">\n",
              "      <th></th>\n",
              "      <th>Provinsi</th>\n",
              "      <th>Tahun</th>\n",
              "      <th>Produksi</th>\n",
              "      <th>Luas Panen</th>\n",
              "      <th>Curah hujan</th>\n",
              "      <th>Kelembapan</th>\n",
              "      <th>Suhu rata-rata</th>\n",
              "    </tr>\n",
              "  </thead>\n",
              "  <tbody>\n",
              "    <tr>\n",
              "      <th>0</th>\n",
              "      <td>Aceh</td>\n",
              "      <td>1993</td>\n",
              "      <td>1329536.0</td>\n",
              "      <td>323589.0</td>\n",
              "      <td>1627.0</td>\n",
              "      <td>82.00</td>\n",
              "      <td>26.06</td>\n",
              "    </tr>\n",
              "    <tr>\n",
              "      <th>1</th>\n",
              "      <td>Aceh</td>\n",
              "      <td>1994</td>\n",
              "      <td>1299699.0</td>\n",
              "      <td>329041.0</td>\n",
              "      <td>1521.0</td>\n",
              "      <td>82.12</td>\n",
              "      <td>26.92</td>\n",
              "    </tr>\n",
              "    <tr>\n",
              "      <th>2</th>\n",
              "      <td>Aceh</td>\n",
              "      <td>1995</td>\n",
              "      <td>1382905.0</td>\n",
              "      <td>339253.0</td>\n",
              "      <td>1476.0</td>\n",
              "      <td>82.72</td>\n",
              "      <td>26.27</td>\n",
              "    </tr>\n",
              "    <tr>\n",
              "      <th>3</th>\n",
              "      <td>Aceh</td>\n",
              "      <td>1996</td>\n",
              "      <td>1419128.0</td>\n",
              "      <td>348223.0</td>\n",
              "      <td>1557.0</td>\n",
              "      <td>83.00</td>\n",
              "      <td>26.08</td>\n",
              "    </tr>\n",
              "    <tr>\n",
              "      <th>4</th>\n",
              "      <td>Aceh</td>\n",
              "      <td>1997</td>\n",
              "      <td>1368074.0</td>\n",
              "      <td>337561.0</td>\n",
              "      <td>1339.0</td>\n",
              "      <td>82.46</td>\n",
              "      <td>26.31</td>\n",
              "    </tr>\n",
              "  </tbody>\n",
              "</table>\n",
              "</div>\n",
              "      <button class=\"colab-df-convert\" onclick=\"convertToInteractive('df-d858c6ba-2e9b-49b3-b596-0d83009e9c87')\"\n",
              "              title=\"Convert this dataframe to an interactive table.\"\n",
              "              style=\"display:none;\">\n",
              "        \n",
              "  <svg xmlns=\"http://www.w3.org/2000/svg\" height=\"24px\"viewBox=\"0 0 24 24\"\n",
              "       width=\"24px\">\n",
              "    <path d=\"M0 0h24v24H0V0z\" fill=\"none\"/>\n",
              "    <path d=\"M18.56 5.44l.94 2.06.94-2.06 2.06-.94-2.06-.94-.94-2.06-.94 2.06-2.06.94zm-11 1L8.5 8.5l.94-2.06 2.06-.94-2.06-.94L8.5 2.5l-.94 2.06-2.06.94zm10 10l.94 2.06.94-2.06 2.06-.94-2.06-.94-.94-2.06-.94 2.06-2.06.94z\"/><path d=\"M17.41 7.96l-1.37-1.37c-.4-.4-.92-.59-1.43-.59-.52 0-1.04.2-1.43.59L10.3 9.45l-7.72 7.72c-.78.78-.78 2.05 0 2.83L4 21.41c.39.39.9.59 1.41.59.51 0 1.02-.2 1.41-.59l7.78-7.78 2.81-2.81c.8-.78.8-2.07 0-2.86zM5.41 20L4 18.59l7.72-7.72 1.47 1.35L5.41 20z\"/>\n",
              "  </svg>\n",
              "      </button>\n",
              "      \n",
              "  <style>\n",
              "    .colab-df-container {\n",
              "      display:flex;\n",
              "      flex-wrap:wrap;\n",
              "      gap: 12px;\n",
              "    }\n",
              "\n",
              "    .colab-df-convert {\n",
              "      background-color: #E8F0FE;\n",
              "      border: none;\n",
              "      border-radius: 50%;\n",
              "      cursor: pointer;\n",
              "      display: none;\n",
              "      fill: #1967D2;\n",
              "      height: 32px;\n",
              "      padding: 0 0 0 0;\n",
              "      width: 32px;\n",
              "    }\n",
              "\n",
              "    .colab-df-convert:hover {\n",
              "      background-color: #E2EBFA;\n",
              "      box-shadow: 0px 1px 2px rgba(60, 64, 67, 0.3), 0px 1px 3px 1px rgba(60, 64, 67, 0.15);\n",
              "      fill: #174EA6;\n",
              "    }\n",
              "\n",
              "    [theme=dark] .colab-df-convert {\n",
              "      background-color: #3B4455;\n",
              "      fill: #D2E3FC;\n",
              "    }\n",
              "\n",
              "    [theme=dark] .colab-df-convert:hover {\n",
              "      background-color: #434B5C;\n",
              "      box-shadow: 0px 1px 3px 1px rgba(0, 0, 0, 0.15);\n",
              "      filter: drop-shadow(0px 1px 2px rgba(0, 0, 0, 0.3));\n",
              "      fill: #FFFFFF;\n",
              "    }\n",
              "  </style>\n",
              "\n",
              "      <script>\n",
              "        const buttonEl =\n",
              "          document.querySelector('#df-d858c6ba-2e9b-49b3-b596-0d83009e9c87 button.colab-df-convert');\n",
              "        buttonEl.style.display =\n",
              "          google.colab.kernel.accessAllowed ? 'block' : 'none';\n",
              "\n",
              "        async function convertToInteractive(key) {\n",
              "          const element = document.querySelector('#df-d858c6ba-2e9b-49b3-b596-0d83009e9c87');\n",
              "          const dataTable =\n",
              "            await google.colab.kernel.invokeFunction('convertToInteractive',\n",
              "                                                     [key], {});\n",
              "          if (!dataTable) return;\n",
              "\n",
              "          const docLinkHtml = 'Like what you see? Visit the ' +\n",
              "            '<a target=\"_blank\" href=https://colab.research.google.com/notebooks/data_table.ipynb>data table notebook</a>'\n",
              "            + ' to learn more about interactive tables.';\n",
              "          element.innerHTML = '';\n",
              "          dataTable['output_type'] = 'display_data';\n",
              "          await google.colab.output.renderOutput(dataTable, element);\n",
              "          const docLink = document.createElement('div');\n",
              "          docLink.innerHTML = docLinkHtml;\n",
              "          element.appendChild(docLink);\n",
              "        }\n",
              "      </script>\n",
              "    </div>\n",
              "  </div>\n",
              "  "
            ]
          },
          "metadata": {},
          "execution_count": 26
        }
      ]
    },
    {
      "cell_type": "code",
      "source": [
        "df_copy.info()"
      ],
      "metadata": {
        "colab": {
          "base_uri": "https://localhost:8080/"
        },
        "id": "hqrFxsXub4ls",
        "outputId": "4f9c6c91-a972-4919-fdf2-3de66dc9185c"
      },
      "execution_count": 27,
      "outputs": [
        {
          "output_type": "stream",
          "name": "stdout",
          "text": [
            "<class 'pandas.core.frame.DataFrame'>\n",
            "RangeIndex: 224 entries, 0 to 223\n",
            "Data columns (total 7 columns):\n",
            " #   Column          Non-Null Count  Dtype  \n",
            "---  ------          --------------  -----  \n",
            " 0   Provinsi        224 non-null    object \n",
            " 1   Tahun           224 non-null    int64  \n",
            " 2   Produksi        224 non-null    float64\n",
            " 3   Luas Panen      224 non-null    float64\n",
            " 4   Curah hujan     224 non-null    float64\n",
            " 5   Kelembapan      224 non-null    float64\n",
            " 6   Suhu rata-rata  224 non-null    float64\n",
            "dtypes: float64(5), int64(1), object(1)\n",
            "memory usage: 12.4+ KB\n"
          ]
        }
      ]
    },
    {
      "cell_type": "code",
      "source": [
        "#label encode for categorical\n",
        "from sklearn.preprocessing import LabelEncoder\n",
        "le = LabelEncoder()\n",
        "for col in df_copy.columns:\n",
        "    if df_copy[col].dtype == 'object':\n",
        "        df_copy[col] = le.fit_transform(df_copy[col])"
      ],
      "metadata": {
        "id": "FOXvyjS5b4jQ"
      },
      "execution_count": 28,
      "outputs": []
    },
    {
      "cell_type": "code",
      "source": [
        "df_copy.head()"
      ],
      "metadata": {
        "colab": {
          "base_uri": "https://localhost:8080/",
          "height": 206
        },
        "id": "vSOpVCDYcBSN",
        "outputId": "1ecf2caa-85d7-4a98-b82e-21373ae2418c"
      },
      "execution_count": 29,
      "outputs": [
        {
          "output_type": "execute_result",
          "data": {
            "text/plain": [
              "   Provinsi  Tahun   Produksi  Luas Panen  Curah hujan  Kelembapan  \\\n",
              "0         0   1993  1329536.0    323589.0       1627.0       82.00   \n",
              "1         0   1994  1299699.0    329041.0       1521.0       82.12   \n",
              "2         0   1995  1382905.0    339253.0       1476.0       82.72   \n",
              "3         0   1996  1419128.0    348223.0       1557.0       83.00   \n",
              "4         0   1997  1368074.0    337561.0       1339.0       82.46   \n",
              "\n",
              "   Suhu rata-rata  \n",
              "0           26.06  \n",
              "1           26.92  \n",
              "2           26.27  \n",
              "3           26.08  \n",
              "4           26.31  "
            ],
            "text/html": [
              "\n",
              "  <div id=\"df-a55fe2b3-d16f-4db1-958f-a4c09dd45be7\">\n",
              "    <div class=\"colab-df-container\">\n",
              "      <div>\n",
              "<style scoped>\n",
              "    .dataframe tbody tr th:only-of-type {\n",
              "        vertical-align: middle;\n",
              "    }\n",
              "\n",
              "    .dataframe tbody tr th {\n",
              "        vertical-align: top;\n",
              "    }\n",
              "\n",
              "    .dataframe thead th {\n",
              "        text-align: right;\n",
              "    }\n",
              "</style>\n",
              "<table border=\"1\" class=\"dataframe\">\n",
              "  <thead>\n",
              "    <tr style=\"text-align: right;\">\n",
              "      <th></th>\n",
              "      <th>Provinsi</th>\n",
              "      <th>Tahun</th>\n",
              "      <th>Produksi</th>\n",
              "      <th>Luas Panen</th>\n",
              "      <th>Curah hujan</th>\n",
              "      <th>Kelembapan</th>\n",
              "      <th>Suhu rata-rata</th>\n",
              "    </tr>\n",
              "  </thead>\n",
              "  <tbody>\n",
              "    <tr>\n",
              "      <th>0</th>\n",
              "      <td>0</td>\n",
              "      <td>1993</td>\n",
              "      <td>1329536.0</td>\n",
              "      <td>323589.0</td>\n",
              "      <td>1627.0</td>\n",
              "      <td>82.00</td>\n",
              "      <td>26.06</td>\n",
              "    </tr>\n",
              "    <tr>\n",
              "      <th>1</th>\n",
              "      <td>0</td>\n",
              "      <td>1994</td>\n",
              "      <td>1299699.0</td>\n",
              "      <td>329041.0</td>\n",
              "      <td>1521.0</td>\n",
              "      <td>82.12</td>\n",
              "      <td>26.92</td>\n",
              "    </tr>\n",
              "    <tr>\n",
              "      <th>2</th>\n",
              "      <td>0</td>\n",
              "      <td>1995</td>\n",
              "      <td>1382905.0</td>\n",
              "      <td>339253.0</td>\n",
              "      <td>1476.0</td>\n",
              "      <td>82.72</td>\n",
              "      <td>26.27</td>\n",
              "    </tr>\n",
              "    <tr>\n",
              "      <th>3</th>\n",
              "      <td>0</td>\n",
              "      <td>1996</td>\n",
              "      <td>1419128.0</td>\n",
              "      <td>348223.0</td>\n",
              "      <td>1557.0</td>\n",
              "      <td>83.00</td>\n",
              "      <td>26.08</td>\n",
              "    </tr>\n",
              "    <tr>\n",
              "      <th>4</th>\n",
              "      <td>0</td>\n",
              "      <td>1997</td>\n",
              "      <td>1368074.0</td>\n",
              "      <td>337561.0</td>\n",
              "      <td>1339.0</td>\n",
              "      <td>82.46</td>\n",
              "      <td>26.31</td>\n",
              "    </tr>\n",
              "  </tbody>\n",
              "</table>\n",
              "</div>\n",
              "      <button class=\"colab-df-convert\" onclick=\"convertToInteractive('df-a55fe2b3-d16f-4db1-958f-a4c09dd45be7')\"\n",
              "              title=\"Convert this dataframe to an interactive table.\"\n",
              "              style=\"display:none;\">\n",
              "        \n",
              "  <svg xmlns=\"http://www.w3.org/2000/svg\" height=\"24px\"viewBox=\"0 0 24 24\"\n",
              "       width=\"24px\">\n",
              "    <path d=\"M0 0h24v24H0V0z\" fill=\"none\"/>\n",
              "    <path d=\"M18.56 5.44l.94 2.06.94-2.06 2.06-.94-2.06-.94-.94-2.06-.94 2.06-2.06.94zm-11 1L8.5 8.5l.94-2.06 2.06-.94-2.06-.94L8.5 2.5l-.94 2.06-2.06.94zm10 10l.94 2.06.94-2.06 2.06-.94-2.06-.94-.94-2.06-.94 2.06-2.06.94z\"/><path d=\"M17.41 7.96l-1.37-1.37c-.4-.4-.92-.59-1.43-.59-.52 0-1.04.2-1.43.59L10.3 9.45l-7.72 7.72c-.78.78-.78 2.05 0 2.83L4 21.41c.39.39.9.59 1.41.59.51 0 1.02-.2 1.41-.59l7.78-7.78 2.81-2.81c.8-.78.8-2.07 0-2.86zM5.41 20L4 18.59l7.72-7.72 1.47 1.35L5.41 20z\"/>\n",
              "  </svg>\n",
              "      </button>\n",
              "      \n",
              "  <style>\n",
              "    .colab-df-container {\n",
              "      display:flex;\n",
              "      flex-wrap:wrap;\n",
              "      gap: 12px;\n",
              "    }\n",
              "\n",
              "    .colab-df-convert {\n",
              "      background-color: #E8F0FE;\n",
              "      border: none;\n",
              "      border-radius: 50%;\n",
              "      cursor: pointer;\n",
              "      display: none;\n",
              "      fill: #1967D2;\n",
              "      height: 32px;\n",
              "      padding: 0 0 0 0;\n",
              "      width: 32px;\n",
              "    }\n",
              "\n",
              "    .colab-df-convert:hover {\n",
              "      background-color: #E2EBFA;\n",
              "      box-shadow: 0px 1px 2px rgba(60, 64, 67, 0.3), 0px 1px 3px 1px rgba(60, 64, 67, 0.15);\n",
              "      fill: #174EA6;\n",
              "    }\n",
              "\n",
              "    [theme=dark] .colab-df-convert {\n",
              "      background-color: #3B4455;\n",
              "      fill: #D2E3FC;\n",
              "    }\n",
              "\n",
              "    [theme=dark] .colab-df-convert:hover {\n",
              "      background-color: #434B5C;\n",
              "      box-shadow: 0px 1px 3px 1px rgba(0, 0, 0, 0.15);\n",
              "      filter: drop-shadow(0px 1px 2px rgba(0, 0, 0, 0.3));\n",
              "      fill: #FFFFFF;\n",
              "    }\n",
              "  </style>\n",
              "\n",
              "      <script>\n",
              "        const buttonEl =\n",
              "          document.querySelector('#df-a55fe2b3-d16f-4db1-958f-a4c09dd45be7 button.colab-df-convert');\n",
              "        buttonEl.style.display =\n",
              "          google.colab.kernel.accessAllowed ? 'block' : 'none';\n",
              "\n",
              "        async function convertToInteractive(key) {\n",
              "          const element = document.querySelector('#df-a55fe2b3-d16f-4db1-958f-a4c09dd45be7');\n",
              "          const dataTable =\n",
              "            await google.colab.kernel.invokeFunction('convertToInteractive',\n",
              "                                                     [key], {});\n",
              "          if (!dataTable) return;\n",
              "\n",
              "          const docLinkHtml = 'Like what you see? Visit the ' +\n",
              "            '<a target=\"_blank\" href=https://colab.research.google.com/notebooks/data_table.ipynb>data table notebook</a>'\n",
              "            + ' to learn more about interactive tables.';\n",
              "          element.innerHTML = '';\n",
              "          dataTable['output_type'] = 'display_data';\n",
              "          await google.colab.output.renderOutput(dataTable, element);\n",
              "          const docLink = document.createElement('div');\n",
              "          docLink.innerHTML = docLinkHtml;\n",
              "          element.appendChild(docLink);\n",
              "        }\n",
              "      </script>\n",
              "    </div>\n",
              "  </div>\n",
              "  "
            ]
          },
          "metadata": {},
          "execution_count": 29
        }
      ]
    },
    {
      "cell_type": "code",
      "source": [
        "X_copy = df_copy.drop(['Produksi'], axis = 1)\n",
        "y_copy = df_copy[['Produksi']]  #target\n",
        "\n",
        "X_train, X_test, y_train, y_test = train_test_split(X_copy[['Luas Panen']], y_copy, test_size=0.33)"
      ],
      "metadata": {
        "id": "GrH_F0TJcMke"
      },
      "execution_count": 30,
      "outputs": []
    },
    {
      "cell_type": "code",
      "source": [
        "# 1. Linear Regression\n",
        "model = LinearRegression()\n",
        "#fitting model\n",
        "model.fit(X_train, y_train)\n",
        "y_pred = model.predict(X_test)\n",
        "print('Performance Linear :\\n')\n",
        "print(performance(model,X_train,y_train,y_pred,y_test))\n",
        "print('')\n",
        "\n",
        "# 2. Polynomial Feature - quadratic \n",
        "X_train_poly = X_train\n",
        "X_test_poly = X_test\n",
        "#transform polynomial\n",
        "quad_feature = PolynomialFeatures(degree = 2)\n",
        "X_train_quad = quad_feature.fit_transform(X_train_poly)\n",
        "X_test_quad = quad_feature.fit_transform(X_test_poly)\n",
        "#fitting\n",
        "model.fit(X_train_quad, y_train)\n",
        "#predict\n",
        "y_pred_train_poly = model.predict(X_train_quad)\n",
        "y_pred_test_poly = model.predict(X_test_quad)\n",
        "print('Performance Linear dengan poly 2 degree:\\n')\n",
        "print(performance(model,X_train_quad,y_train,y_pred_test_poly,y_test))\n",
        "print('')\n",
        "\n",
        "# 3. Polynomial Feature - cubic \n",
        "\n",
        "cubic_feature = PolynomialFeatures(degree = 3)\n",
        "X_train_cubic = cubic_feature.fit_transform(X_train_poly)\n",
        "X_test_cubic = cubic_feature.fit_transform(X_test_poly)\n",
        "#fitting\n",
        "model.fit(X_train_cubic, y_train)\n",
        "#predict\n",
        "y_pred_train_poly_cubic = model.predict(X_train_cubic)\n",
        "y_pred_test_poly_cubic = model.predict(X_test_cubic)\n",
        "print('Performance Linear dengan poly 3 degree:\\n')\n",
        "print(performance(model,X_train_cubic,y_train,y_pred_test_poly_cubic,y_test))\n",
        "print('')\n"
      ],
      "metadata": {
        "id": "gn-Yh50_1bJt",
        "colab": {
          "base_uri": "https://localhost:8080/"
        },
        "outputId": "67ce5afa-0ee5-4f16-9fcf-4bbfb67369f5"
      },
      "execution_count": 32,
      "outputs": [
        {
          "output_type": "stream",
          "name": "stdout",
          "text": [
            "Performance Linear :\n",
            "\n",
            "Train Score: 0.8137\n",
            "Test Score (R2 Score): 0.8303\n",
            "Metrics In Testing Data: \n",
            "MSE: 253867280112.4861\n",
            "RMSE: 503852.4388\n",
            "MAE: 275316.2146083788\n",
            "Max Error: 2318946.3208835144\n",
            "MAPE: 18.08 %\n",
            "None\n",
            "\n",
            "Performance Linear dengan poly 2 degree:\n",
            "\n",
            "Train Score: 0.8195\n",
            "Test Score (R2 Score): 0.8321\n",
            "Metrics In Testing Data: \n",
            "MSE: 251151564551.1581\n",
            "RMSE: 501150.2415\n",
            "MAE: 265503.92648590746\n",
            "Max Error: 2220605.576955013\n",
            "MAPE: 17.37 %\n",
            "None\n",
            "\n",
            "Performance Linear dengan poly 3 degree:\n",
            "\n",
            "Train Score: 0.8197\n",
            "Test Score (R2 Score): 0.8323\n",
            "Metrics In Testing Data: \n",
            "MSE: 250779289213.7711\n",
            "RMSE: 500778.6829\n",
            "MAE: 269391.7244169566\n",
            "Max Error: 2213331.314858556\n",
            "MAPE: 18.01 %\n",
            "None\n",
            "\n"
          ]
        }
      ]
    },
    {
      "cell_type": "code",
      "source": [
        "plt.figure(figsize=(18,9))\n",
        "\n",
        "plt.scatter(X_train, y_train, c='black')\n",
        "\n",
        "model = LinearRegression()\n",
        "model.fit(X_train, y_train)\n",
        "X_vis = np.linspace(0,900000,1000).reshape(-1,1)\n",
        "y_vis = model.predict(X_vis)\n",
        "plt.plot(X_vis, y_vis, '--g', label = 'linear')\n",
        "\n",
        "#quad\n",
        "quad_feature = PolynomialFeatures(degree = 2)\n",
        "X_train_quad = quad_feature.fit_transform(X_train)\n",
        "model.fit(X_train_quad, y_train)\n",
        "X_vis_quad = quad_feature.transform(X_vis)\n",
        "y_vis = model.predict(X_vis_quad)\n",
        "plt.plot(X_vis, y_vis, '--r', label = 'quadratic')\n",
        "\n",
        "#cubic\n",
        "cubic_feature = PolynomialFeatures(degree = 3)\n",
        "X_train_cubic = cubic_feature.fit_transform(X_train)\n",
        "model.fit(X_train_cubic, y_train)\n",
        "X_vis_cubic = cubic_feature.transform(X_vis)\n",
        "y_vis = model.predict(X_vis_cubic)\n",
        "plt.plot(X_vis, y_vis, '--b', label = 'cubic')\n",
        "\n",
        "plt.title('visualisasi regresi')\n",
        "plt.legend()\n",
        "plt.xlabel('Luas Panen')\n",
        "plt.ylabel('Jumlah Produksi')\n",
        "plt.legend()\n",
        "plt.grid(True)\n",
        "plt.show()"
      ],
      "metadata": {
        "colab": {
          "base_uri": "https://localhost:8080/",
          "height": 567
        },
        "id": "AF4DA9z2eLvE",
        "outputId": "9002afff-029c-428b-ad3a-6811e0c48096"
      },
      "execution_count": 33,
      "outputs": [
        {
          "output_type": "display_data",
          "data": {
            "text/plain": [
              "<Figure size 1296x648 with 1 Axes>"
            ],
            "image/png": "[encoded data removed]"
          },
          "metadata": {
            "needs_background": "light"
          }
        }
      ]
    },
    {
      "cell_type": "code",
      "source": [
        "plt.scatter(X_train, y_train)\n",
        "\n",
        "model = LinearRegression()\n",
        "model.fit(X_train, y_train)\n",
        "\n",
        "X1_vis = np.linspace(0,1000000,1000).reshape(-1,1)\n",
        "y1_vis = model.predict(X1_vis)\n",
        "plt.plot(X1_vis, y1_vis, '--g')\n",
        "plt.show()\n"
      ],
      "metadata": {
        "colab": {
          "base_uri": "https://localhost:8080/",
          "height": 289
        },
        "id": "PmtLrBfT5AEm",
        "outputId": "3e0fead5-1389-4fb3-ee68-bf30232ddc8c"
      },
      "execution_count": 34,
      "outputs": [
        {
          "output_type": "display_data",
          "data": {
            "text/plain": [
              "<Figure size 432x288 with 1 Axes>"
            ],
            "image/png": "[encoded data removed]"
          },
          "metadata": {
            "needs_background": "light"
          }
        }
      ]
    },
    {
      "cell_type": "code",
      "source": [
        "X1 = df_copy.drop(['Produksi'], axis = 1)\n",
        "y1 = df_copy['Produksi']"
      ],
      "metadata": {
        "id": "gmoTlS7vpAoe"
      },
      "execution_count": 36,
      "outputs": []
    },
    {
      "cell_type": "code",
      "source": [
        "#scala\n",
        "std_scaler = StandardScaler()\n",
        "X_1 = std_scaler.fit_transform(X1)\n",
        "\n",
        "#minmax\n",
        "minmax_scaler = MinMaxScaler()\n",
        "X_1 = minmax_scaler.fit_transform(X_1)"
      ],
      "metadata": {
        "id": "Lp11klp8pI9j"
      },
      "execution_count": 37,
      "outputs": []
    },
    {
      "cell_type": "code",
      "source": [
        "#split data \n",
        "X_train, X_test, y_train, y_test = train_test_split(X1, y1, test_size=0.33)"
      ],
      "metadata": {
        "id": "yx7g9ND_pNp8"
      },
      "execution_count": 38,
      "outputs": []
    },
    {
      "cell_type": "code",
      "source": [
        "lr_model = LinearRegression()\n",
        "lr_model.fit(X_train, y_train)\n",
        "\n",
        "lr_pred = lr_model.predict(X_test)\n",
        "performance(lr_model,X_train,y_train,lr_pred,y_test)"
      ],
      "metadata": {
        "colab": {
          "base_uri": "https://localhost:8080/"
        },
        "id": "bLO0fXRUpQ8e",
        "outputId": "3e7f5923-6722-43ba-81b7-8a0fa494013a"
      },
      "execution_count": 39,
      "outputs": [
        {
          "output_type": "stream",
          "name": "stdout",
          "text": [
            "Train Score: 0.9144\n",
            "Test Score (R2 Score): 0.8031\n",
            "Metrics In Testing Data: \n",
            "MSE: 299221455651.7427\n",
            "RMSE: 547011.3853\n",
            "MAE: 264399.3041179245\n",
            "Max Error: 2686829.619795926\n",
            "MAPE: 29.37 %\n"
          ]
        }
      ]
    },
    {
      "cell_type": "code",
      "source": [
        "plt.figure(figsize=(12,8))\n",
        "plt.scatter(lr_model.predict(X_train),y_train, c='blue', marker='o', label='Training data')\n",
        "plt.scatter(lr_pred,y_test, c='red', marker='*', label='Test data')\n",
        "# plt.plot([y_test.min(),y_test.max()],[y_test.min(),y_test.max()],c='black',lw=2)\n",
        "plt.xlabel('Predicted values')\n",
        "plt.ylabel('Actual Data')\n",
        "plt.legend(loc='upper left')\n",
        "# plt.hlines(y=0, xmin=0, xmax=100000, lw=2, color='k')\n",
        "# plt.xlim([-1000, 100000])\n",
        "plt.show()"
      ],
      "metadata": {
        "colab": {
          "base_uri": "https://localhost:8080/",
          "height": 508
        },
        "id": "iqtDgAhypTCF",
        "outputId": "db9af69f-d703-4647-a4dc-97b6c807e3dd"
      },
      "execution_count": 40,
      "outputs": [
        {
          "output_type": "display_data",
          "data": {
            "text/plain": [
              "<Figure size 864x576 with 1 Axes>"
            ],
            "image/png": "[encoded data removed]"
          },
          "metadata": {
            "needs_background": "light"
          }
        }
      ]
    },
    {
      "cell_type": "code",
      "source": [
        "# #no of features\n",
        "# nof_list=np.arange(1,6)            \n",
        "# high_score=0\n",
        "# #Variable to store the optimum features\n",
        "# nof=0           \n",
        "# score_list =[]\n",
        "# for n in range(len(nof_list)):\n",
        "#     X_train, X_test, y_train, y_test = train_test_split(X_copy,y_copy, test_size = 0.33, random_state = 0)\n",
        "#     model = LinearRegression()\n",
        "#     rfe = RFE(model,step = nof_list[n])\n",
        "#     X_train_rfe = rfe.fit_transform(X_train,y_train)\n",
        "#     X_test_rfe = rfe.transform(X_test)\n",
        "#     model.fit(X_train_rfe,y_train)\n",
        "#     score = model.score(X_test_rfe,y_test)\n",
        "#     score_list.append(score)\n",
        "#     if(score>high_score):\n",
        "#         high_score = score\n",
        "#         nof = nof_list[n]\n",
        "# print(\"Optimum number of features: %d\" %nof)\n",
        "# print(\"Score with %d features: %f\" % (nof, high_score))"
      ],
      "metadata": {
        "id": "Xh-35iCupfCw"
      },
      "execution_count": null,
      "outputs": []
    },
    {
      "cell_type": "code",
      "source": [],
      "metadata": {
        "id": "MRf6920Z1JaC"
      },
      "execution_count": null,
      "outputs": []
    }
  ]
}